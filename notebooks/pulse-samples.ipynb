{
 "cells": [
  {
   "cell_type": "code",
   "execution_count": 2,
   "metadata": {},
   "outputs": [],
   "source": [
    "from pathlib import Path\n",
    "import os\n",
    "import numpy as np\n",
    "import pandas as pd\n",
    "from plotnine import ggplot, aes, geom_line, theme_minimal, theme, element_text, labs, facet_grid, labeller\n",
    "ROOT_DIR = Path('/Users/carlo/mpwavelets')\n",
    "RESULTS_DIR = ROOT_DIR / 'results'\n",
    "FIGURES_DIR = ROOT_DIR / 'figures'\n"
   ]
  },
  {
   "cell_type": "code",
   "execution_count": 3,
   "metadata": {},
   "outputs": [],
   "source": [
    "def mp_acceleration(y, v, fp=1, A=1, dt=0.01):\n",
    "    duration = y / fp\n",
    "    gp = (y + 1)/y\n",
    "    gm = (y - 1)/y\n",
    "    w = 2 * np.pi * fp\n",
    "    phase = - np.pi * y + v\n",
    "    time = np.arange(0., duration + dt, dt)\n",
    "    accel = - 0.25 * A * w * ( gp * np.sin(gp * w * time + phase)  + gm * np.sin(gm * w * time + phase)  - 2 * np.sin( w * time + phase ) )\n",
    "    zeros = np.zeros(int(9*duration/dt))\n",
    "    accel_input = np.concatenate([accel, zeros])\n",
    "    return time, accel, duration, accel_input"
   ]
  },
  {
   "cell_type": "code",
   "execution_count": 31,
   "metadata": {},
   "outputs": [
    {
     "data": {
      "text/plain": [
       "([0.00   -0.000000e+00\n",
       "  0.01    1.964837e-01\n",
       "  0.02    3.875364e-01\n",
       "  0.03    5.678216e-01\n",
       "  0.04    7.321915e-01\n",
       "              ...     \n",
       "  0.96   -7.321915e-01\n",
       "  0.97   -5.678216e-01\n",
       "  0.98   -3.875364e-01\n",
       "  0.99   -1.964837e-01\n",
       "  1.00   -7.694683e-16\n",
       "  Name: $\\gamma=1 \\quad \\nu=0$, Length: 101, dtype: float64,\n",
       "  0.00   -0.000000e+00\n",
       "  0.01    8.215702e-02\n",
       "  0.02    1.297459e-01\n",
       "  0.03    1.410448e-01\n",
       "  0.04    1.150392e-01\n",
       "              ...     \n",
       "  0.96   -6.171523e-01\n",
       "  0.97   -4.267768e-01\n",
       "  0.98   -2.577904e-01\n",
       "  0.99   -1.143267e-01\n",
       "  1.00   -3.487868e-16\n",
       "  Name: $\\gamma=1 \\quad \\nu=1/3 \\pi$, Length: 101, dtype: float64,\n",
       "  0.00   -0.000000e+00\n",
       "  0.01   -1.143267e-01\n",
       "  0.02   -2.577904e-01\n",
       "  0.03   -4.267768e-01\n",
       "  0.04   -6.171523e-01\n",
       "              ...     \n",
       "  0.96    1.150392e-01\n",
       "  0.97    1.410448e-01\n",
       "  0.98    1.297459e-01\n",
       "  0.99    8.215702e-02\n",
       "  1.00   -1.046361e-15\n",
       "  Name: $\\gamma=1 \\quad \\nu=2/3 \\pi$, Length: 101, dtype: float64,\n",
       "  0.00   -0.000000e+00\n",
       "  0.01   -1.964837e-01\n",
       "  0.02   -3.875364e-01\n",
       "  0.03   -5.678216e-01\n",
       "  0.04   -7.321915e-01\n",
       "              ...     \n",
       "  0.96    7.321915e-01\n",
       "  0.97    5.678216e-01\n",
       "  0.98    3.875364e-01\n",
       "  0.99    1.964837e-01\n",
       "  1.00    7.694683e-16\n",
       "  Name: $\\gamma=1 \\quad \\nu=\\pi$, Length: 101, dtype: float64,\n",
       "  0.00   -0.000000e+00\n",
       "  0.01   -8.215702e-02\n",
       "  0.02   -1.297459e-01\n",
       "  0.03   -1.410448e-01\n",
       "  0.04   -1.150392e-01\n",
       "              ...     \n",
       "  0.96    6.171523e-01\n",
       "  0.97    4.267768e-01\n",
       "  0.98    2.577904e-01\n",
       "  0.99    1.143267e-01\n",
       "  1.00    3.487868e-16\n",
       "  Name: $\\gamma=1 \\quad \\nu=4/3 \\pi$, Length: 101, dtype: float64,\n",
       "  0.00   -0.000000e+00\n",
       "  0.01    1.143267e-01\n",
       "  0.02    2.577904e-01\n",
       "  0.03    4.267768e-01\n",
       "  0.04    6.171523e-01\n",
       "              ...     \n",
       "  0.96   -1.150392e-01\n",
       "  0.97   -1.410448e-01\n",
       "  0.98   -1.297459e-01\n",
       "  0.99   -8.215702e-02\n",
       "  1.00   -3.487868e-16\n",
       "  Name: $\\gamma=1 \\quad \\nu=5/3 \\pi$, Length: 101, dtype: float64,\n",
       "  0.00   -3.487868e-16\n",
       "  0.01    1.179927e-01\n",
       "  0.02    2.480966e-01\n",
       "  0.03    3.870353e-01\n",
       "  0.04    5.313603e-01\n",
       "              ...     \n",
       "  1.16   -5.313603e-01\n",
       "  1.17   -3.870353e-01\n",
       "  1.18   -2.480966e-01\n",
       "  1.19   -1.179927e-01\n",
       "  1.20    3.836655e-15\n",
       "  Name: $\\gamma=1.2 \\quad \\nu=0$, Length: 121, dtype: float64,\n",
       "  0.00   -0.000000\n",
       "  0.01    0.119429\n",
       "  0.02    0.225159\n",
       "  0.03    0.314223\n",
       "  0.04    0.383931\n",
       "            ...   \n",
       "  1.16   -0.147430\n",
       "  1.17   -0.072812\n",
       "  1.18   -0.022937\n",
       "  1.19    0.001436\n",
       "  1.20   -0.000000\n",
       "  Name: $\\gamma=1.2 \\quad \\nu=1/3 \\pi$, Length: 121, dtype: float64,\n",
       "  0.00    3.487868e-16\n",
       "  0.01    1.435935e-03\n",
       "  0.02   -2.293719e-02\n",
       "  0.03   -7.281237e-02\n",
       "  0.04   -1.474295e-01\n",
       "              ...     \n",
       "  1.16    3.839308e-01\n",
       "  1.17    3.142229e-01\n",
       "  1.18    2.251594e-01\n",
       "  1.19    1.194287e-01\n",
       "  1.20   -1.743934e-15\n",
       "  Name: $\\gamma=1.2 \\quad \\nu=2/3 \\pi$, Length: 121, dtype: float64,\n",
       "  0.00    3.487868e-16\n",
       "  0.01   -1.179927e-01\n",
       "  0.02   -2.480966e-01\n",
       "  0.03   -3.870353e-01\n",
       "  0.04   -5.313603e-01\n",
       "              ...     \n",
       "  1.16    5.313603e-01\n",
       "  1.17    3.870353e-01\n",
       "  1.18    2.480966e-01\n",
       "  1.19    1.179927e-01\n",
       "  1.20   -3.836655e-15\n",
       "  Name: $\\gamma=1.2 \\quad \\nu=\\pi$, Length: 121, dtype: float64,\n",
       "  0.00   -1.743934e-16\n",
       "  0.01   -1.194287e-01\n",
       "  0.02   -2.251594e-01\n",
       "  0.03   -3.142229e-01\n",
       "  0.04   -3.839308e-01\n",
       "              ...     \n",
       "  1.16    1.474295e-01\n",
       "  1.17    7.281237e-02\n",
       "  1.18    2.293719e-02\n",
       "  1.19   -1.435935e-03\n",
       "  1.20   -0.000000e+00\n",
       "  Name: $\\gamma=1.2 \\quad \\nu=4/3 \\pi$, Length: 121, dtype: float64,\n",
       "  0.00   -3.487868e-16\n",
       "  0.01   -1.435935e-03\n",
       "  0.02    2.293719e-02\n",
       "  0.03    7.281237e-02\n",
       "  0.04    1.474295e-01\n",
       "              ...     \n",
       "  1.16   -3.839308e-01\n",
       "  1.17   -3.142229e-01\n",
       "  1.18   -2.251594e-01\n",
       "  1.19   -1.194287e-01\n",
       "  1.20   -8.719671e-16\n",
       "  Name: $\\gamma=1.2 \\quad \\nu=5/3 \\pi$, Length: 121, dtype: float64,\n",
       "  0.00   -0.000000e+00\n",
       "  0.01    4.000270e-02\n",
       "  0.02    9.708903e-02\n",
       "  0.03    1.700285e-01\n",
       "  0.04    2.573228e-01\n",
       "              ...     \n",
       "  1.36   -2.573228e-01\n",
       "  1.37   -1.700285e-01\n",
       "  1.38   -9.708903e-02\n",
       "  1.39   -4.000270e-02\n",
       "  1.40    1.046361e-15\n",
       "  Name: $\\gamma=1.4 \\quad \\nu=0$, Length: 141, dtype: float64,\n",
       "  0.00   -0.000000e+00\n",
       "  0.01    1.000585e-01\n",
       "  0.02    2.015030e-01\n",
       "  0.03    3.017481e-01\n",
       "  0.04    3.982151e-01\n",
       "              ...     \n",
       "  1.36    1.408923e-01\n",
       "  1.37    1.317196e-01\n",
       "  1.38    1.044139e-01\n",
       "  1.39    6.005583e-02\n",
       "  1.40   -2.790295e-15\n",
       "  Name: $\\gamma=1.4 \\quad \\nu=1/3 \\pi$, Length: 141, dtype: float64,\n",
       "  0.00   -0.000000e+00\n",
       "  0.01    6.005583e-02\n",
       "  0.02    1.044139e-01\n",
       "  0.03    1.317196e-01\n",
       "  0.04    1.408923e-01\n",
       "              ...     \n",
       "  1.36    3.982151e-01\n",
       "  1.37    3.017481e-01\n",
       "  1.38    2.015030e-01\n",
       "  1.39    1.000585e-01\n",
       "  1.40   -1.656738e-15\n",
       "  Name: $\\gamma=1.4 \\quad \\nu=2/3 \\pi$, Length: 141, dtype: float64,\n",
       "  0.00   -0.000000e+00\n",
       "  0.01   -4.000270e-02\n",
       "  0.02   -9.708903e-02\n",
       "  0.03   -1.700285e-01\n",
       "  0.04   -2.573228e-01\n",
       "              ...     \n",
       "  1.36    2.573228e-01\n",
       "  1.37    1.700285e-01\n",
       "  1.38    9.708903e-02\n",
       "  1.39    4.000270e-02\n",
       "  1.40   -1.046361e-15\n",
       "  Name: $\\gamma=1.4 \\quad \\nu=\\pi$, Length: 141, dtype: float64,\n",
       "  0.00   -0.000000e+00\n",
       "  0.01   -1.000585e-01\n",
       "  0.02   -2.015030e-01\n",
       "  0.03   -3.017481e-01\n",
       "  0.04   -3.982151e-01\n",
       "              ...     \n",
       "  1.36   -1.408923e-01\n",
       "  1.37   -1.317196e-01\n",
       "  1.38   -1.044139e-01\n",
       "  1.39   -6.005583e-02\n",
       "  1.40    2.441508e-15\n",
       "  Name: $\\gamma=1.4 \\quad \\nu=4/3 \\pi$, Length: 141, dtype: float64,\n",
       "  0.00   -0.000000e+00\n",
       "  0.01   -6.005583e-02\n",
       "  0.02   -1.044139e-01\n",
       "  0.03   -1.317196e-01\n",
       "  0.04   -1.408923e-01\n",
       "              ...     \n",
       "  1.36   -3.982151e-01\n",
       "  1.37   -3.017481e-01\n",
       "  1.38   -2.015030e-01\n",
       "  1.39   -1.000585e-01\n",
       "  1.40   -1.046361e-15\n",
       "  Name: $\\gamma=1.4 \\quad \\nu=5/3 \\pi$, Length: 141, dtype: float64,\n",
       "  0.00   -0.000000e+00\n",
       "  0.01   -1.682466e-02\n",
       "  0.02   -1.935391e-02\n",
       "  0.03   -7.320549e-03\n",
       "  0.04    1.931526e-02\n",
       "              ...     \n",
       "  1.56   -1.931526e-02\n",
       "  1.57    7.320549e-03\n",
       "  1.58    1.935391e-02\n",
       "  1.59    1.682466e-02\n",
       "  1.60   -2.441508e-15\n",
       "  Name: $\\gamma=1.6 \\quad \\nu=0$, Length: 161, dtype: float64,\n",
       "  0.00   -0.000000e+00\n",
       "  0.01    5.677080e-02\n",
       "  0.02    1.229462e-01\n",
       "  0.03    1.969923e-01\n",
       "  0.04    2.772429e-01\n",
       "              ...     \n",
       "  1.56    2.579277e-01\n",
       "  1.57    2.043128e-01\n",
       "  1.58    1.423001e-01\n",
       "  1.59    7.359546e-02\n",
       "  1.60   -8.632475e-15\n",
       "  Name: $\\gamma=1.6 \\quad \\nu=1/3 \\pi$, Length: 161, dtype: float64,\n",
       "  0.00   -0.000000e+00\n",
       "  0.01    7.359546e-02\n",
       "  0.02    1.423001e-01\n",
       "  0.03    2.043128e-01\n",
       "  0.04    2.579277e-01\n",
       "              ...     \n",
       "  1.56    2.772429e-01\n",
       "  1.57    1.969923e-01\n",
       "  1.58    1.229462e-01\n",
       "  1.59    5.677080e-02\n",
       "  1.60   -7.673311e-15\n",
       "  Name: $\\gamma=1.6 \\quad \\nu=2/3 \\pi$, Length: 161, dtype: float64,\n",
       "  0.00    3.487868e-16\n",
       "  0.01    1.682466e-02\n",
       "  0.02    1.935391e-02\n",
       "  0.03    7.320549e-03\n",
       "  0.04   -1.931526e-02\n",
       "              ...     \n",
       "  1.56    1.931526e-02\n",
       "  1.57   -7.320549e-03\n",
       "  1.58   -1.935391e-02\n",
       "  1.59   -1.682466e-02\n",
       "  1.60    2.790295e-15\n",
       "  Name: $\\gamma=1.6 \\quad \\nu=\\pi$, Length: 161, dtype: float64,\n",
       "  0.00   -0.000000e+00\n",
       "  0.01   -5.677080e-02\n",
       "  0.02   -1.229462e-01\n",
       "  0.03   -1.969923e-01\n",
       "  0.04   -2.772429e-01\n",
       "              ...     \n",
       "  1.56   -2.579277e-01\n",
       "  1.57   -2.043128e-01\n",
       "  1.58   -1.423001e-01\n",
       "  1.59   -7.359546e-02\n",
       "  1.60    8.981261e-15\n",
       "  Name: $\\gamma=1.6 \\quad \\nu=4/3 \\pi$, Length: 161, dtype: float64,\n",
       "  0.00   -0.000000e+00\n",
       "  0.01   -7.359546e-02\n",
       "  0.02   -1.423001e-01\n",
       "  0.03   -2.043128e-01\n",
       "  0.04   -2.579277e-01\n",
       "              ...     \n",
       "  1.56   -2.772429e-01\n",
       "  1.57   -1.969923e-01\n",
       "  1.58   -1.229462e-01\n",
       "  1.59   -5.677080e-02\n",
       "  1.60    5.929376e-15\n",
       "  Name: $\\gamma=1.6 \\quad \\nu=5/3 \\pi$, Length: 161, dtype: float64,\n",
       "  0.00   -0.000000e+00\n",
       "  0.01   -4.571293e-02\n",
       "  0.02   -8.351181e-02\n",
       "  0.03   -1.123409e-01\n",
       "  0.04   -1.312746e-01\n",
       "              ...     \n",
       "  1.76    1.312746e-01\n",
       "  1.77    1.123409e-01\n",
       "  1.78    8.351181e-02\n",
       "  1.79    4.571293e-02\n",
       "  1.80   -6.975737e-16\n",
       "  Name: $\\gamma=1.8 \\quad \\nu=0$, Length: 181, dtype: float64,\n",
       "  0.00    3.487868e-16\n",
       "  0.01    1.204504e-02\n",
       "  0.02    3.525183e-02\n",
       "  0.03    6.920542e-02\n",
       "  0.04    1.133254e-01\n",
       "              ...     \n",
       "  1.76    2.446000e-01\n",
       "  1.77    1.815463e-01\n",
       "  1.78    1.187636e-01\n",
       "  1.79    5.775798e-02\n",
       "  1.80   -1.743934e-16\n",
       "  Name: $\\gamma=1.8 \\quad \\nu=1/3 \\pi$, Length: 181, dtype: float64,\n",
       "  0.00   -0.000000\n",
       "  0.01    0.057758\n",
       "  0.02    0.118764\n",
       "  0.03    0.181546\n",
       "  0.04    0.244600\n",
       "            ...   \n",
       "  1.76    0.113325\n",
       "  1.77    0.069205\n",
       "  1.78    0.035252\n",
       "  1.79    0.012045\n",
       "  1.80   -0.000000\n",
       "  Name: $\\gamma=1.8 \\quad \\nu=2/3 \\pi$, Length: 181, dtype: float64,\n",
       "  0.00   -3.487868e-16\n",
       "  0.01    4.571293e-02\n",
       "  0.02    8.351181e-02\n",
       "  0.03    1.123409e-01\n",
       "  0.04    1.312746e-01\n",
       "              ...     \n",
       "  1.76   -1.312746e-01\n",
       "  1.77   -1.123409e-01\n",
       "  1.78   -8.351181e-02\n",
       "  1.79   -4.571293e-02\n",
       "  1.80    6.975737e-16\n",
       "  Name: $\\gamma=1.8 \\quad \\nu=\\pi$, Length: 181, dtype: float64,\n",
       "  0.00   -3.487868e-16\n",
       "  0.01   -1.204504e-02\n",
       "  0.02   -3.525183e-02\n",
       "  0.03   -6.920542e-02\n",
       "  0.04   -1.133254e-01\n",
       "              ...     \n",
       "  1.76   -2.446000e-01\n",
       "  1.77   -1.815463e-01\n",
       "  1.78   -1.187636e-01\n",
       "  1.79   -5.775798e-02\n",
       "  1.80   -3.836655e-15\n",
       "  Name: $\\gamma=1.8 \\quad \\nu=4/3 \\pi$, Length: 181, dtype: float64,\n",
       "  0.00   -1.743934e-16\n",
       "  0.01   -5.775798e-02\n",
       "  0.02   -1.187636e-01\n",
       "  0.03   -1.815463e-01\n",
       "  0.04   -2.446000e-01\n",
       "              ...     \n",
       "  1.76   -1.133254e-01\n",
       "  1.77   -6.920542e-02\n",
       "  1.78   -3.525183e-02\n",
       "  1.79   -1.204504e-02\n",
       "  1.80   -3.487868e-16\n",
       "  Name: $\\gamma=1.8 \\quad \\nu=5/3 \\pi$, Length: 181, dtype: float64,\n",
       "  0.00   -0.000000e+00\n",
       "  0.01   -4.914521e-02\n",
       "  0.02   -9.707641e-02\n",
       "  0.03   -1.425940e-01\n",
       "  0.04   -1.845272e-01\n",
       "              ...     \n",
       "  1.96    1.845272e-01\n",
       "  1.97    1.425940e-01\n",
       "  1.98    9.707641e-02\n",
       "  1.99    4.914521e-02\n",
       "  2.00    3.847341e-16\n",
       "  Name: $\\gamma=2 \\quad \\nu=0$, Length: 201, dtype: float64,\n",
       "  0.00   -0.000000e+00\n",
       "  0.01   -2.054974e-02\n",
       "  0.02   -3.250627e-02\n",
       "  0.03   -3.544774e-02\n",
       "  0.04   -2.908320e-02\n",
       "              ...     \n",
       "  1.96    1.554440e-01\n",
       "  1.97    1.071463e-01\n",
       "  1.98    6.457015e-02\n",
       "  1.99    2.859547e-02\n",
       "  2.00    3.487868e-16\n",
       "  Name: $\\gamma=2 \\quad \\nu=1/3 \\pi$, Length: 201, dtype: float64,\n",
       "  0.00   -0.000000e+00\n",
       "  0.01    2.859547e-02\n",
       "  0.02    6.457015e-02\n",
       "  0.03    1.071463e-01\n",
       "  0.04    1.554440e-01\n",
       "              ...     \n",
       "  1.96   -2.908320e-02\n",
       "  1.97   -3.544774e-02\n",
       "  1.98   -3.250627e-02\n",
       "  1.99   -2.054974e-02\n",
       "  2.00   -3.487868e-16\n",
       "  Name: $\\gamma=2 \\quad \\nu=2/3 \\pi$, Length: 201, dtype: float64,\n",
       "  0.00   -0.000000e+00\n",
       "  0.01    4.914521e-02\n",
       "  0.02    9.707641e-02\n",
       "  0.03    1.425940e-01\n",
       "  0.04    1.845272e-01\n",
       "              ...     \n",
       "  1.96   -1.845272e-01\n",
       "  1.97   -1.425940e-01\n",
       "  1.98   -9.707641e-02\n",
       "  1.99   -4.914521e-02\n",
       "  2.00   -3.594729e-17\n",
       "  Name: $\\gamma=2 \\quad \\nu=\\pi$, Length: 201, dtype: float64,\n",
       "  0.00   -0.000000e+00\n",
       "  0.01    2.054974e-02\n",
       "  0.02    3.250627e-02\n",
       "  0.03    3.544774e-02\n",
       "  0.04    2.908320e-02\n",
       "              ...     \n",
       "  1.96   -1.554440e-01\n",
       "  1.97   -1.071463e-01\n",
       "  1.98   -6.457015e-02\n",
       "  1.99   -2.859547e-02\n",
       "  2.00    2.092721e-15\n",
       "  Name: $\\gamma=2 \\quad \\nu=4/3 \\pi$, Length: 201, dtype: float64,\n",
       "  0.00   -0.000000e+00\n",
       "  0.01   -2.859547e-02\n",
       "  0.02   -6.457015e-02\n",
       "  0.03   -1.071463e-01\n",
       "  0.04   -1.554440e-01\n",
       "              ...     \n",
       "  1.96    2.908320e-02\n",
       "  1.97    3.544774e-02\n",
       "  1.98    3.250627e-02\n",
       "  1.99    2.054974e-02\n",
       "  2.00    3.487868e-16\n",
       "  Name: $\\gamma=2 \\quad \\nu=5/3 \\pi$, Length: 201, dtype: float64,\n",
       "  0.00   -0.000000e+00\n",
       "  0.01   -3.511644e-02\n",
       "  0.02   -7.390714e-02\n",
       "  0.03   -1.154774e-01\n",
       "  0.04   -1.588868e-01\n",
       "              ...     \n",
       "  2.16    1.588868e-01\n",
       "  2.17    1.154774e-01\n",
       "  2.18    7.390714e-02\n",
       "  2.19    3.511644e-02\n",
       "  2.20   -4.185442e-15\n",
       "  Name: $\\gamma=2.2 \\quad \\nu=0$, Length: 221, dtype: float64,\n",
       "  0.00   -1.743934e-16\n",
       "  0.01   -3.554400e-02\n",
       "  0.02   -6.707738e-02\n",
       "  0.03   -9.376809e-02\n",
       "  0.04   -1.148494e-01\n",
       "              ...     \n",
       "  2.16    4.403735e-02\n",
       "  2.17    2.170929e-02\n",
       "  2.18    6.829769e-03\n",
       "  2.19   -4.275629e-04\n",
       "  2.20   -0.000000e+00\n",
       "  Name: $\\gamma=2.2 \\quad \\nu=1/3 \\pi$, Length: 221, dtype: float64,\n",
       "  0.00   -3.487868e-16\n",
       "  0.01   -4.275629e-04\n",
       "  0.02    6.829769e-03\n",
       "  0.03    2.170929e-02\n",
       "  0.04    4.403735e-02\n",
       "              ...     \n",
       "  2.16   -1.148494e-01\n",
       "  2.17   -9.376809e-02\n",
       "  2.18   -6.707738e-02\n",
       "  2.19   -3.554400e-02\n",
       "  2.20    2.615901e-15\n",
       "  Name: $\\gamma=2.2 \\quad \\nu=2/3 \\pi$, Length: 221, dtype: float64,\n",
       "  0.00   -0.000000e+00\n",
       "  0.01    3.511644e-02\n",
       "  0.02    7.390714e-02\n",
       "  0.03    1.154774e-01\n",
       "  0.04    1.588868e-01\n",
       "              ...     \n",
       "  2.16   -1.588868e-01\n",
       "  2.17   -1.154774e-01\n",
       "  2.18   -7.390714e-02\n",
       "  2.19   -3.511644e-02\n",
       "  2.20    2.092721e-15\n",
       "  Name: $\\gamma=2.2 \\quad \\nu=\\pi$, Length: 221, dtype: float64,\n",
       "  0.00   -0.000000e+00\n",
       "  0.01    3.554400e-02\n",
       "  0.02    6.707738e-02\n",
       "  0.03    9.376809e-02\n",
       "  0.04    1.148494e-01\n",
       "              ...     \n",
       "  2.16   -4.403735e-02\n",
       "  2.17   -2.170929e-02\n",
       "  2.18   -6.829769e-03\n",
       "  2.19    4.275629e-04\n",
       "  2.20    3.487868e-16\n",
       "  Name: $\\gamma=2.2 \\quad \\nu=4/3 \\pi$, Length: 221, dtype: float64,\n",
       "  0.00    3.487868e-16\n",
       "  0.01    4.275629e-04\n",
       "  0.02   -6.829769e-03\n",
       "  0.03   -2.170929e-02\n",
       "  0.04   -4.403735e-02\n",
       "              ...     \n",
       "  2.16    1.148494e-01\n",
       "  2.17    9.376809e-02\n",
       "  2.18    6.707738e-02\n",
       "  2.19    3.554400e-02\n",
       "  2.20   -6.278163e-15\n",
       "  Name: $\\gamma=2.2 \\quad \\nu=5/3 \\pi$, Length: 221, dtype: float64,\n",
       "  0.00   -3.487868e-16\n",
       "  0.01   -1.361494e-02\n",
       "  0.02   -3.306480e-02\n",
       "  0.03   -5.796399e-02\n",
       "  0.04   -8.784667e-02\n",
       "              ...     \n",
       "  2.36    8.784667e-02\n",
       "  2.37    5.796399e-02\n",
       "  2.38    3.306480e-02\n",
       "  2.39    1.361494e-02\n",
       "  2.40    2.092721e-15\n",
       "  Name: $\\gamma=2.4 \\quad \\nu=0$, Length: 241, dtype: float64,\n",
       "  0.00   -0.000000e+00\n",
       "  0.01   -3.405522e-02\n",
       "  0.02   -6.862761e-02\n",
       "  0.03   -1.028830e-01\n",
       "  0.04   -1.359867e-01\n",
       "              ...     \n",
       "  2.36   -4.814007e-02\n",
       "  2.37   -4.491902e-02\n",
       "  2.38   -3.556281e-02\n",
       "  2.39   -2.044029e-02\n",
       "  2.40   -5.580590e-15\n",
       "  Name: $\\gamma=2.4 \\quad \\nu=1/3 \\pi$, Length: 241, dtype: float64,\n",
       "  0.00   -0.000000e+00\n",
       "  0.01   -2.044029e-02\n",
       "  0.02   -3.556281e-02\n",
       "  0.03   -4.491902e-02\n",
       "  0.04   -4.814007e-02\n",
       "              ...     \n",
       "  2.36   -1.359867e-01\n",
       "  2.37   -1.028830e-01\n",
       "  2.38   -6.862761e-02\n",
       "  2.39   -3.405522e-02\n",
       "  2.40   -8.109294e-15\n",
       "  Name: $\\gamma=2.4 \\quad \\nu=2/3 \\pi$, Length: 241, dtype: float64,\n",
       "  0.00   -0.000000e+00\n",
       "  0.01    1.361494e-02\n",
       "  0.02    3.306480e-02\n",
       "  0.03    5.796399e-02\n",
       "  0.04    8.784667e-02\n",
       "              ...     \n",
       "  2.36   -8.784667e-02\n",
       "  2.37   -5.796399e-02\n",
       "  2.38   -3.306480e-02\n",
       "  2.39   -1.361494e-02\n",
       "  2.40   -2.441508e-15\n",
       "  Name: $\\gamma=2.4 \\quad \\nu=\\pi$, Length: 241, dtype: float64,\n",
       "  0.00   -0.000000e+00\n",
       "  0.01    3.405522e-02\n",
       "  0.02    6.862761e-02\n",
       "  0.03    1.028830e-01\n",
       "  0.04    1.359867e-01\n",
       "              ...     \n",
       "  2.36    4.814007e-02\n",
       "  2.37    4.491902e-02\n",
       "  2.38    3.556281e-02\n",
       "  2.39    2.044029e-02\n",
       "  2.40    4.883016e-15\n",
       "  Name: $\\gamma=2.4 \\quad \\nu=4/3 \\pi$, Length: 241, dtype: float64,\n",
       "  0.00   -0.000000e+00\n",
       "  0.01    2.044029e-02\n",
       "  0.02    3.556281e-02\n",
       "  0.03    4.491902e-02\n",
       "  0.04    4.814007e-02\n",
       "              ...     \n",
       "  2.36    1.359867e-01\n",
       "  2.37    1.028830e-01\n",
       "  2.38    6.862761e-02\n",
       "  2.39    3.405522e-02\n",
       "  2.40    1.194595e-14\n",
       "  Name: $\\gamma=2.4 \\quad \\nu=5/3 \\pi$, Length: 241, dtype: float64,\n",
       "  0.00   -0.000000e+00\n",
       "  0.01    6.372559e-03\n",
       "  0.02    7.335128e-03\n",
       "  0.03    2.782161e-03\n",
       "  0.04   -7.314642e-03\n",
       "              ...     \n",
       "  2.56    7.314642e-03\n",
       "  2.57   -2.782161e-03\n",
       "  2.58   -7.335128e-03\n",
       "  2.59   -6.372559e-03\n",
       "  2.60    3.487868e-16\n",
       "  Name: $\\gamma=2.6 \\quad \\nu=0$, Length: 261, dtype: float64,\n",
       "  0.00   -0.000000e+00\n",
       "  0.01   -2.150238e-02\n",
       "  0.02   -4.658850e-02\n",
       "  0.03   -7.470439e-02\n",
       "  0.04   -1.052499e-01\n",
       "              ...     \n",
       "  2.56   -9.793526e-02\n",
       "  2.57   -7.748656e-02\n",
       "  2.58   -5.392363e-02\n",
       "  2.59   -2.787494e-02\n",
       "  2.60    1.395147e-15\n",
       "  Name: $\\gamma=2.6 \\quad \\nu=1/3 \\pi$, Length: 261, dtype: float64,\n",
       "  0.00   -0.000000\n",
       "  0.01   -0.027875\n",
       "  0.02   -0.053924\n",
       "  0.03   -0.077487\n",
       "  0.04   -0.097935\n",
       "            ...   \n",
       "  2.56   -0.105250\n",
       "  2.57   -0.074704\n",
       "  2.58   -0.046589\n",
       "  2.59   -0.021502\n",
       "  2.60   -0.000000\n",
       "  Name: $\\gamma=2.6 \\quad \\nu=2/3 \\pi$, Length: 261, dtype: float64,\n",
       "  0.00   -0.000000e+00\n",
       "  0.01   -6.372559e-03\n",
       "  0.02   -7.335128e-03\n",
       "  0.03   -2.782161e-03\n",
       "  0.04    7.314642e-03\n",
       "              ...     \n",
       "  2.56   -7.314642e-03\n",
       "  2.57    2.782161e-03\n",
       "  2.58    7.335128e-03\n",
       "  2.59    6.372559e-03\n",
       "  2.60   -6.975737e-16\n",
       "  Name: $\\gamma=2.6 \\quad \\nu=\\pi$, Length: 261, dtype: float64,\n",
       "  0.00   -0.000000e+00\n",
       "  0.01    2.150238e-02\n",
       "  0.02    4.658850e-02\n",
       "  0.03    7.470439e-02\n",
       "  0.04    1.052499e-01\n",
       "              ...     \n",
       "  2.56    9.793526e-02\n",
       "  2.57    7.748656e-02\n",
       "  2.58    5.392363e-02\n",
       "  2.59    2.787494e-02\n",
       "  2.60    2.354311e-15\n",
       "  Name: $\\gamma=2.6 \\quad \\nu=4/3 \\pi$, Length: 261, dtype: float64,\n",
       "  0.00   -0.000000e+00\n",
       "  0.01    2.787494e-02\n",
       "  0.02    5.392363e-02\n",
       "  0.03    7.748656e-02\n",
       "  0.04    9.793526e-02\n",
       "              ...     \n",
       "  2.56    1.052499e-01\n",
       "  2.57    7.470439e-02\n",
       "  2.58    4.658850e-02\n",
       "  2.59    2.150238e-02\n",
       "  2.60   -3.487868e-16\n",
       "  Name: $\\gamma=2.6 \\quad \\nu=5/3 \\pi$, Length: 261, dtype: float64,\n",
       "  0.00   -0.000000e+00\n",
       "  0.01    1.889385e-02\n",
       "  0.02    3.452951e-02\n",
       "  0.03    4.647922e-02\n",
       "  0.04    5.436418e-02\n",
       "              ...     \n",
       "  2.76   -5.436418e-02\n",
       "  2.77   -4.647922e-02\n",
       "  2.78   -3.452951e-02\n",
       "  2.79   -1.889385e-02\n",
       "  2.80    7.324524e-15\n",
       "  Name: $\\gamma=2.8 \\quad \\nu=0$, Length: 281, dtype: float64,\n",
       "  0.00   -0.000000e+00\n",
       "  0.01   -4.978345e-03\n",
       "  0.02   -1.457457e-02\n",
       "  0.03   -2.862724e-02\n",
       "  0.04   -4.691158e-02\n",
       "              ...     \n",
       "  2.76   -1.012758e-01\n",
       "  2.77   -7.510647e-02\n",
       "  2.78   -4.910408e-02\n",
       "  2.79   -2.387220e-02\n",
       "  2.80    1.185875e-14\n",
       "  Name: $\\gamma=2.8 \\quad \\nu=1/3 \\pi$, Length: 281, dtype: float64,\n",
       "  0.00   -0.000000e+00\n",
       "  0.01   -2.387220e-02\n",
       "  0.02   -4.910408e-02\n",
       "  0.03   -7.510647e-02\n",
       "  0.04   -1.012758e-01\n",
       "              ...     \n",
       "  2.76   -4.691158e-02\n",
       "  2.77   -2.862724e-02\n",
       "  2.78   -1.457457e-02\n",
       "  2.79   -4.978345e-03\n",
       "  2.80    6.975737e-16\n",
       "  Name: $\\gamma=2.8 \\quad \\nu=2/3 \\pi$, Length: 281, dtype: float64,\n",
       "  0.00   -0.000000e+00\n",
       "  0.01   -1.889385e-02\n",
       "  0.02   -3.452951e-02\n",
       "  0.03   -4.647922e-02\n",
       "  0.04   -5.436418e-02\n",
       "              ...     \n",
       "  2.76    5.436418e-02\n",
       "  2.77    4.647922e-02\n",
       "  2.78    3.452951e-02\n",
       "  2.79    1.889385e-02\n",
       "  2.80   -7.324524e-15\n",
       "  Name: $\\gamma=2.8 \\quad \\nu=\\pi$, Length: 281, dtype: float64,\n",
       "  0.00   -0.000000e+00\n",
       "  0.01    4.978345e-03\n",
       "  0.02    1.457457e-02\n",
       "  0.03    2.862724e-02\n",
       "  0.04    4.691158e-02\n",
       "              ...     \n",
       "  2.76    1.012758e-01\n",
       "  2.77    7.510647e-02\n",
       "  2.78    4.910408e-02\n",
       "  2.79    2.387220e-02\n",
       "  2.80   -4.883016e-15\n",
       "  Name: $\\gamma=2.8 \\quad \\nu=4/3 \\pi$, Length: 281, dtype: float64,\n",
       "  0.00   -0.000000e+00\n",
       "  0.01    2.387220e-02\n",
       "  0.02    4.910408e-02\n",
       "  0.03    7.510647e-02\n",
       "  0.04    1.012758e-01\n",
       "              ...     \n",
       "  2.76    4.691158e-02\n",
       "  2.77    2.862724e-02\n",
       "  2.78    1.457457e-02\n",
       "  2.79    4.978345e-03\n",
       "  2.80   -6.975737e-16\n",
       "  Name: $\\gamma=2.8 \\quad \\nu=5/3 \\pi$, Length: 281, dtype: float64,\n",
       "  0.00   -1.548925e-31\n",
       "  0.01    2.184431e-02\n",
       "  0.02    4.316091e-02\n",
       "  0.03    6.342778e-02\n",
       "  0.04    8.213419e-02\n",
       "              ...     \n",
       "  2.96   -8.213419e-02\n",
       "  2.97   -6.342778e-02\n",
       "  2.98   -4.316091e-02\n",
       "  2.99   -2.184431e-02\n",
       "  3.00   -2.564894e-16\n",
       "  Name: $\\gamma=3 \\quad \\nu=0$, Length: 301, dtype: float64,\n",
       "  0.00   -3.487868e-16\n",
       "  0.01    9.134080e-03\n",
       "  0.02    1.445298e-02\n",
       "  0.03    1.576993e-02\n",
       "  0.04    1.295257e-02\n",
       "              ...     \n",
       "  2.96   -6.918163e-02\n",
       "  2.97   -4.765785e-02\n",
       "  2.98   -2.870794e-02\n",
       "  2.99   -1.271023e-02\n",
       "  3.00    1.743934e-15\n",
       "  Name: $\\gamma=3 \\quad \\nu=1/3 \\pi$, Length: 301, dtype: float64,\n",
       "  0.00   -3.487868e-16\n",
       "  0.01   -1.271023e-02\n",
       "  0.02   -2.870794e-02\n",
       "  0.03   -4.765785e-02\n",
       "  0.04   -6.918163e-02\n",
       "              ...     \n",
       "  2.96    1.295257e-02\n",
       "  2.97    1.576993e-02\n",
       "  2.98    1.445298e-02\n",
       "  2.99    9.134080e-03\n",
       "  3.00    3.487868e-16\n",
       "  Name: $\\gamma=3 \\quad \\nu=2/3 \\pi$, Length: 301, dtype: float64,\n",
       "  0.00   -0.000000e+00\n",
       "  0.01   -2.184431e-02\n",
       "  0.02   -4.316091e-02\n",
       "  0.03   -6.342778e-02\n",
       "  0.04   -8.213419e-02\n",
       "              ...     \n",
       "  2.96    8.213419e-02\n",
       "  2.97    6.342778e-02\n",
       "  2.98    4.316091e-02\n",
       "  2.99    2.184431e-02\n",
       "  3.00    2.564894e-16\n",
       "  Name: $\\gamma=3 \\quad \\nu=\\pi$, Length: 301, dtype: float64,\n",
       "  0.00    3.487868e-16\n",
       "  0.01   -9.134080e-03\n",
       "  0.02   -1.445298e-02\n",
       "  0.03   -1.576993e-02\n",
       "  0.04   -1.295257e-02\n",
       "              ...     \n",
       "  2.96    6.918163e-02\n",
       "  2.97    4.765785e-02\n",
       "  2.98    2.870794e-02\n",
       "  2.99    1.271023e-02\n",
       "  3.00    2.441508e-15\n",
       "  Name: $\\gamma=3 \\quad \\nu=4/3 \\pi$, Length: 301, dtype: float64,\n",
       "  0.00    3.487868e-16\n",
       "  0.01    1.271023e-02\n",
       "  0.02    2.870794e-02\n",
       "  0.03    4.765785e-02\n",
       "  0.04    6.918163e-02\n",
       "              ...     \n",
       "  2.96   -1.295257e-02\n",
       "  2.97   -1.576993e-02\n",
       "  2.98   -1.445298e-02\n",
       "  2.99   -9.134080e-03\n",
       "  3.00   -0.000000e+00\n",
       "  Name: $\\gamma=3 \\quad \\nu=5/3 \\pi$, Length: 301, dtype: float64],\n",
       " 3.0)"
      ]
     },
     "execution_count": 31,
     "metadata": {},
     "output_type": "execute_result"
    }
   ],
   "source": [
    "# Create uniform grid of y and v values\n",
    "y_values = np.linspace(1, 3, 11)\n",
    "y_values_display = ['1', '1.2', '1.4', '1.6', '1.8', '2', '2.2', '2.4', '2.6', '2.8', '3']\n",
    "v_values = np.linspace(0, 5*np.pi/3, 6)\n",
    "v_values_display = ['0', '1/3 \\pi', '2/3 \\pi', '\\pi', '4/3 \\pi', '5/3 \\pi']\n",
    "\n",
    "# Create meshgrid for all combinations\n",
    "Y, V = np.meshgrid(y_values, v_values)\n",
    "\n",
    "# Flatten arrays for iteration\n",
    "y_flat = Y.flatten()\n",
    "v_flat = V.flatten()\n",
    "\n",
    "# Store results\n",
    "results = []\n",
    "dur = 0\n",
    "for y, y_display in zip(y_values, y_values_display):\n",
    "    for v, v_display in zip(v_values, v_values_display):\n",
    "        time, accel, duration, accel_input = mp_acceleration(y, v)\n",
    "        # Create timeseries for each result\n",
    "        if duration > dur:\n",
    "            dur = duration\n",
    "        name_str = f'$\\\\gamma={y_display} \\\\quad \\\\nu={v_display}$'\n",
    "        ts = pd.Series(accel, index=time, name=name_str)\n",
    "        results.append(ts)\n",
    "results, dur"
   ]
  },
  {
   "cell_type": "code",
   "execution_count": 32,
   "metadata": {},
   "outputs": [
    {
     "data": {
      "text/plain": [
       "'$\\\\gamma=3 \\\\quad \\\\nu=5/3 \\\\pi$'"
      ]
     },
     "execution_count": 32,
     "metadata": {},
     "output_type": "execute_result"
    }
   ],
   "source": [
    "name_str"
   ]
  },
  {
   "cell_type": "code",
   "execution_count": 33,
   "metadata": {},
   "outputs": [
    {
     "data": {
      "text/plain": [
       "0.00   -0.000000e+00\n",
       "0.01    1.964837e-01\n",
       "0.02    3.875364e-01\n",
       "0.03    5.678216e-01\n",
       "0.04    7.321915e-01\n",
       "            ...     \n",
       "0.96   -7.321915e-01\n",
       "0.97   -5.678216e-01\n",
       "0.98   -3.875364e-01\n",
       "0.99   -1.964837e-01\n",
       "1.00   -7.694683e-16\n",
       "Name: $\\gamma=1 \\quad \\nu=0$, Length: 101, dtype: float64"
      ]
     },
     "execution_count": 33,
     "metadata": {},
     "output_type": "execute_result"
    }
   ],
   "source": [
    "results[0]"
   ]
  },
  {
   "cell_type": "code",
   "execution_count": 34,
   "metadata": {},
   "outputs": [
    {
     "data": {
      "image/png": "[encoded data removed]",
      "text/plain": [
       "<patchworklib.patchworklib.Bricks at 0x17e7542c0>"
      ]
     },
     "execution_count": 34,
     "metadata": {},
     "output_type": "execute_result"
    },
    {
     "data": {
      "text/plain": [
       "<Figure size 640x480 with 0 Axes>"
      ]
     },
     "metadata": {},
     "output_type": "display_data"
    },
    {
     "data": {
      "text/plain": [
       "<Figure size 640x480 with 0 Axes>"
      ]
     },
     "metadata": {},
     "output_type": "display_data"
    },
    {
     "data": {
      "text/plain": [
       "<Figure size 640x480 with 0 Axes>"
      ]
     },
     "metadata": {},
     "output_type": "display_data"
    },
    {
     "data": {
      "text/plain": [
       "<Figure size 640x480 with 0 Axes>"
      ]
     },
     "metadata": {},
     "output_type": "display_data"
    }
   ],
   "source": [
    "# Randomly select 25 series from results\n",
    "import random\n",
    "import plotnine as p9\n",
    "from plotnine import ggplot, aes, geom_line, facet_wrap\n",
    "import patchworklib as pw\n",
    "random_indices = random.sample(range(len(results)), 4)\n",
    "\n",
    "# Create a list to store the plots\n",
    "plots = []\n",
    "\n",
    "# Create individual plots\n",
    "for idx in random_indices:\n",
    "    series = results[idx]\n",
    "    # Convert LaTeX title to matplotlib mathtext\n",
    "    plot = (ggplot(series.reset_index(), aes(x='index', y=series.name))\n",
    "            + geom_line()\n",
    "            + p9.theme_minimal()\n",
    "            + p9.labs(x='time [s]', \n",
    "                     y='accel [cm/s²]',\n",
    "                     title=series.name))\n",
    "    plots.append(pw.load_ggplot(plot, figsize=(2, 2)))\n",
    "\n",
    "# Arrange in 2x2 grid\n",
    "grid = (plots[0] | plots[1]) / (plots[2] | plots[3])\n",
    "\n",
    "# Save or show the combined plot\n",
    "grid.savefig(\"2x2_series_grid.png\")\n",
    "# Display the plot\n",
    "grid\n"
   ]
  },
  {
   "cell_type": "code",
   "execution_count": 39,
   "metadata": {},
   "outputs": [
    {
     "data": {
      "application/vnd.plotly.v1+json": {
       "config": {
        "plotlyServerURL": "https://plot.ly"
       },
       "data": [
        {
         "line": {
          "color": "gray"
         },
         "mode": "lines",
         "name": "$\\gamma=1 \\quad \\nu=2/3 \\pi$",
         "type": "scatter",
         "x": {
          "bdata": "AAAAAAAAAAB7FK5H4XqEP3sUrkfhepQ/uB6F61G4nj97FK5H4XqkP5qZmZmZmak/uB6F61G4rj/sUbgeheuxP3sUrkfherQ/CtejcD0Ktz+amZmZmZm5Pylcj8L1KLw/uB6F61G4vj+kcD0K16PAP+xRuB6F68E/MzMzMzMzwz97FK5H4XrEP8P1KFyPwsU/CtejcD0Kxz9SuB6F61HIP5qZmZmZmck/4XoUrkfhyj8pXI/C9SjMP3E9CtejcM0/uB6F61G4zj8AAAAAAADQP6RwPQrXo9A/SOF6FK5H0T/sUbgehevRP4/C9Shcj9I/MzMzMzMz0z/Xo3A9CtfTP3sUrkfhetQ/H4XrUbge1T/D9Shcj8LVP2dmZmZmZtY/CtejcD0K1z+uR+F6FK7XP1K4HoXrUdg/9ihcj8L12D+amZmZmZnZPz4K16NwPdo/4XoUrkfh2j+F61G4HoXbPylcj8L1KNw/zczMzMzM3D9xPQrXo3DdPxWuR+F6FN4/uB6F61G43j9cj8L1KFzfPwAAAAAAAOA/UrgehetR4D+kcD0K16PgP/YoXI/C9eA/SOF6FK5H4T+amZmZmZnhP+xRuB6F6+E/PgrXo3A94j+PwvUoXI/iP+F6FK5H4eI/MzMzMzMz4z+F61G4HoXjP9ejcD0K1+M/KVyPwvUo5D97FK5H4XrkP83MzMzMzOQ/H4XrUbge5T9xPQrXo3DlP8P1KFyPwuU/Fa5H4XoU5j9nZmZmZmbmP7gehetRuOY/CtejcD0K5z9cj8L1KFznP65H4XoUruc/AAAAAAAA6D9SuB6F61HoP6RwPQrXo+g/9ihcj8L16D9I4XoUrkfpP5qZmZmZmek/7FG4HoXr6T8+CtejcD3qP5DC9Shcj+o/4XoUrkfh6j8zMzMzMzPrP4XrUbgehes/16NwPQrX6z8pXI/C9SjsP3sUrkfheuw/zczMzMzM7D8fhetRuB7tP3E9CtejcO0/w/UoXI/C7T8VrkfhehTuP2dmZmZmZu4/uB6F61G47j8K16NwPQrvP1yPwvUoXO8/rkfhehSu7z8AAAAAAADwPw==",
          "dtype": "f8"
         },
         "xaxis": "x",
         "y": {
          "bdata": "AAAAAAAAAIBASh7xg0S9vynR4mCjf9C/Xukqpk9Q278bhnYgtr/jv3eNAK/zYOq/xF3WBqix8L/887188k30v440LCgZ7/e/f4DVnXB++7+B9YO3ReX+v0Osi9GgBgHAJ9BbYmZwAsDSihxqt6UDwAxpT1QVnQTAkDnxGupNBcCPZDSsr7AFwG22OhMTvwXAmfAG0RJ0BcBuSkPmF8wEwEoY5iMJxQPAJ5fab1heAsCVDUTDCZkAwMO/pIJn7/y/O7QUv/P897+fOOFkAGbyv0YILC1kcei/N14LZmUX1r9Mtix7kfS5P4DCElGUQuI/KBIUYuPo8D/NHSjHSd34P68G5J5FcgBAtTa2ifhxBEB9hVwKM2AIQHxzIVFvLwxA2H7BkWDSD0DB5MNNE54RQGdl8ABAMBNAsgFdBv2ZFEAQDlnYDtYVQJpoZ23M3xZA50/7tDGzF0D/fsig70wYQOgEFnp5qhhA+9xFTQ/KGEA6Dl9BxaoYQA5Wrr2HTBhAa7ZQTBywF0BpWYA1H9cWQN2yktz9wxVAcOqJ9O15FEAzRLeu4fwSQGWv/RF5URFAuIw0aeH5DkAxdY05HAoLQLXSyisU4AZAGP8UoPKIAkDpoQGaziT8PxHK8bzpFPM/blwtyPH84z/iwBoiMLKvP29i4c8xSd+/IaewkZxW8L/rxzLlN3b4v3Iq8JTYDADA7K1J89SVA8BIeQyRj8wGwNzLeEHWqAnAzWyJauIjDMDvu5yNbzgOwL94y7/L4g/AbKcj6nCQEMCP5EGKHvkQwEcr8T0DLBHAtGRaw30qEcA78B9fr/YQwD9hSCJxkxDAq7OHXUYEEMDQm1v1mJoOwOta1/5Q5gzAwrLzC+X1CsDPC5oAP9QIwE7toELTjAbATKrqmW8rBMDTz2rnCLwBwC57fAERlf6/Jppf/jPF+b/k2Ned9B71v8VsoouRt/C/ZOBCA2xF6b/8+kLtUOThv+WAey0G1ta/oRgU8WLPx79epdTXKD6pv0CRxr2FVqo/kG7+nDVzvT/nBOvCwQ3CP7TCS9ODm8A/57p/DT4ItT/SITN/fNnSvA==",
          "dtype": "f8"
         },
         "yaxis": "y"
        },
        {
         "line": {
          "color": "gray"
         },
         "mode": "lines",
         "name": "$\\gamma=1 \\quad \\nu=4/3 \\pi$",
         "type": "scatter",
         "x": {
          "bdata": "AAAAAAAAAAB7FK5H4XqEP3sUrkfhepQ/uB6F61G4nj97FK5H4XqkP5qZmZmZmak/uB6F61G4rj/sUbgeheuxP3sUrkfherQ/CtejcD0Ktz+amZmZmZm5Pylcj8L1KLw/uB6F61G4vj+kcD0K16PAP+xRuB6F68E/MzMzMzMzwz97FK5H4XrEP8P1KFyPwsU/CtejcD0Kxz9SuB6F61HIP5qZmZmZmck/4XoUrkfhyj8pXI/C9SjMP3E9CtejcM0/uB6F61G4zj8AAAAAAADQP6RwPQrXo9A/SOF6FK5H0T/sUbgehevRP4/C9Shcj9I/MzMzMzMz0z/Xo3A9CtfTP3sUrkfhetQ/H4XrUbge1T/D9Shcj8LVP2dmZmZmZtY/CtejcD0K1z+uR+F6FK7XP1K4HoXrUdg/9ihcj8L12D+amZmZmZnZPz4K16NwPdo/4XoUrkfh2j+F61G4HoXbPylcj8L1KNw/zczMzMzM3D9xPQrXo3DdPxWuR+F6FN4/uB6F61G43j9cj8L1KFzfPwAAAAAAAOA/UrgehetR4D+kcD0K16PgP/YoXI/C9eA/SOF6FK5H4T+amZmZmZnhP+xRuB6F6+E/PgrXo3A94j+PwvUoXI/iP+F6FK5H4eI/MzMzMzMz4z+F61G4HoXjP9ejcD0K1+M/KVyPwvUo5D97FK5H4XrkP83MzMzMzOQ/H4XrUbge5T9xPQrXo3DlP8P1KFyPwuU/Fa5H4XoU5j9nZmZmZmbmP7gehetRuOY/CtejcD0K5z9cj8L1KFznP65H4XoUruc/AAAAAAAA6D9SuB6F61HoP6RwPQrXo+g/9ihcj8L16D9I4XoUrkfpP5qZmZmZmek/7FG4HoXr6T8+CtejcD3qP5DC9Shcj+o/4XoUrkfh6j8zMzMzMzPrP4XrUbgehes/16NwPQrX6z8pXI/C9SjsP3sUrkfheuw/zczMzMzM7D8fhetRuB7tP3E9CtejcO0/w/UoXI/C7T8VrkfhehTuP2dmZmZmZu4/uB6F61G47j8K16NwPQrvP1yPwvUoXO8/rkfhehSu7z8AAAAAAADwPw==",
          "dtype": "f8"
         },
         "xaxis": "x2",
         "y": {
          "bdata": "AAAAAAAAAIAyu38NPgi1v4LCS9ODm8C/zQTrwsENwr93bv6cNXO9v6mQxr2FVqq/i6bU1yg+qT8fGRTxYs/HP+WAey0G1tY/A/tC7VDk4T964EIDbEXpP9tsoouRt/A/19jXnfQe9T8jml/+M8X5Pzh7fAERlf4/2c9q5wi8AUBBquqZbysEQF7toELTjAZAywuaAD/UCEDAsvML5fUKQPFa1/5Q5gxA2Jtb9ZiaDkCns4ddRgQQQD5hSCJxkxBAPfAfX6/2EEC0ZFrDfSoRQEcr8T0DLBFAjORBih75EEBopyPqcJAQQL94y7/L4g9A7LucjW84DkDEbIlq4iMMQMvLeEHWqAlAPHkMkY/MBkDZrUnz1JUDQGsq8JTYDABAzscy5Td2+D8Tp7CRnFbwPzZi4c8xSd8/p8IaIjCyr7+JXC3I8fzjvx/K8bzpFPO/5qEBms4k/L8f/xSg8ogCwMPSyisU4AbAP3WNORwKC8DEjDRp4fkOwGuv/RF5URHANkS3ruH8EsBz6on07XkUwN+yktz9wxXAa1mANR/XFsBttlBMHLAXwBBWrr2HTBjAOg5fQcWqGMD73EVND8oYwOgEFnp5qhjA/X7IoO9MGMDnT/u0MbMXwJpoZ23M3xbADg5Z2A7WFcCuAV0G/ZkUwGVl8ABAMBPAwOTDTROeEcDMfsGRYNIPwHlzIVFvLwzAaYVcCjNgCMCoNraJ+HEEwJoG5J5FcgDAsh0ox0nd+L8fEhRi4+jwv4nCElGUQuK/urQse5H0ub9cXgtmZRfWP3gILC1kceg/qDjhZABm8j87tBS/8/z3P9G/pIJn7/w/mA1EwwmZAEAtl9pvWF4CQE4Y5iMJxQNAc0pD5hfMBECd8AbREnQFQHG2OhMTvwVAk2Q0rK+wBUCTOfEa6k0FQBBpT1QVnQRA0oocarelA0Aq0FtiZnACQEKsi9GgBgFAhfWDt0Xl/j95gNWdcH77P4s0LCgZ7/c/8fO9fPJN9D/BXdYGqLHwP3uNAK/zYOo/KoZ2ILa/4z9Y6SqmT1DbPzvR4mCjf9A/J0oe8YNEvT8YLURU+yG5PA==",
          "dtype": "f8"
         },
         "yaxis": "y2"
        },
        {
         "line": {
          "color": "gray"
         },
         "mode": "lines",
         "name": "$\\gamma=1.8 \\quad \\nu=2/3 \\pi$",
         "type": "scatter",
         "x": {
          "bdata": "AAAAAAAAAAB7FK5H4XqEP3sUrkfhepQ/uB6F61G4nj97FK5H4XqkP5qZmZmZmak/uB6F61G4rj/sUbgeheuxP3sUrkfherQ/CtejcD0Ktz+amZmZmZm5Pylcj8L1KLw/uB6F61G4vj+kcD0K16PAP+xRuB6F68E/MzMzMzMzwz97FK5H4XrEP8P1KFyPwsU/CtejcD0Kxz9SuB6F61HIP5qZmZmZmck/4XoUrkfhyj8pXI/C9SjMP3E9CtejcM0/uB6F61G4zj8AAAAAAADQP6RwPQrXo9A/SOF6FK5H0T/sUbgehevRP4/C9Shcj9I/MzMzMzMz0z/Xo3A9CtfTP3sUrkfhetQ/H4XrUbge1T/D9Shcj8LVP2dmZmZmZtY/CtejcD0K1z+uR+F6FK7XP1K4HoXrUdg/9ihcj8L12D+amZmZmZnZPz4K16NwPdo/4XoUrkfh2j+F61G4HoXbPylcj8L1KNw/zczMzMzM3D9xPQrXo3DdPxWuR+F6FN4/uB6F61G43j9cj8L1KFzfPwAAAAAAAOA/UrgehetR4D+kcD0K16PgP/YoXI/C9eA/SOF6FK5H4T+amZmZmZnhP+xRuB6F6+E/PgrXo3A94j+PwvUoXI/iP+F6FK5H4eI/MzMzMzMz4z+F61G4HoXjP9ejcD0K1+M/KVyPwvUo5D97FK5H4XrkP83MzMzMzOQ/H4XrUbge5T9xPQrXo3DlP8P1KFyPwuU/Fa5H4XoU5j9nZmZmZmbmP7gehetRuOY/CtejcD0K5z9cj8L1KFznP65H4XoUruc/AAAAAAAA6D9SuB6F61HoP6RwPQrXo+g/9ihcj8L16D9I4XoUrkfpP5qZmZmZmek/7FG4HoXr6T8+CtejcD3qP5DC9Shcj+o/4XoUrkfh6j8zMzMzMzPrP4XrUbgehes/16NwPQrX6z8pXI/C9SjsP3sUrkfheuw/zczMzMzM7D8fhetRuB7tP3E9CtejcO0/w/UoXI/C7T8VrkfhehTuP2dmZmZmZu4/uB6F61G47j8K16NwPQrvP1yPwvUoXO8/rkfhehSu7z8AAAAAAADwPylcj8L1KPA/UrgehetR8D97FK5H4XrwP6RwPQrXo/A/zczMzMzM8D/2KFyPwvXwPx+F61G4HvE/SOF6FK5H8T9xPQrXo3DxP5qZmZmZmfE/w/UoXI/C8T/sUbgehevxPxWuR+F6FPI/PgrXo3A98j9nZmZmZmbyP4/C9Shcj/I/uB6F61G48j/hehSuR+HyPwrXo3A9CvM/MzMzMzMz8z9cj8L1KFzzP4XrUbgehfM/rkfhehSu8z/Xo3A9CtfzPwAAAAAAAPQ/KVyPwvUo9D9SuB6F61H0P3sUrkfhevQ/pHA9Ctej9D/NzMzMzMz0P/YoXI/C9fQ/H4XrUbge9T9I4XoUrkf1P3E9CtejcPU/mpmZmZmZ9T/D9Shcj8L1P+xRuB6F6/U/Fa5H4XoU9j8+CtejcD32P2dmZmZmZvY/j8L1KFyP9j+4HoXrUbj2P+F6FK5H4fY/CtejcD0K9z8zMzMzMzP3P1yPwvUoXPc/hetRuB6F9z+uR+F6FK73P9ejcD0K1/c/AAAAAAAA+D8pXI/C9Sj4P1K4HoXrUfg/exSuR+F6+D+kcD0K16P4P83MzMzMzPg/9ihcj8L1+D8fhetRuB75P0jhehSuR/k/cT0K16Nw+T+amZmZmZn5P8P1KFyPwvk/7FG4HoXr+T8VrkfhehT6Pz4K16NwPfo/Z2ZmZmZm+j+QwvUoXI/6P7gehetRuPo/4XoUrkfh+j8K16NwPQr7PzMzMzMzM/s/XI/C9Shc+z+F61G4HoX7P65H4XoUrvs/16NwPQrX+z8AAAAAAAD8Pylcj8L1KPw/UrgehetR/D97FK5H4Xr8P6RwPQrXo/w/zczMzMzM/D8=",
          "dtype": "f8"
         },
         "xaxis": "x3",
         "y": {
          "bdata": "AAAAAAAAAICJz/8YdJKtPxYHaDpLZ74/sQpm7ug8xz+N+5fDDU/PP16sw7IWnNM/iH0WLDhj1z+pLbuoVeTaP3EIQmN9B94/ebOr29Za4D80VLqIj2zhP3Em3mLFLuI/th1UBzeY4j/Y1uA+pKDiP0yg/JnqQOI/XpkjIh9z4T9y0e/YpDLgP4uUWIt/+Nw/7Mh3tUic2D/7S9IKBlDTP1ldkhE/LMo/7UU5Wi3Qtz8lTcTDm22gv3pkLOEsx8W/4VxvjCV/1L/O0tUlEc/ev35Zq+mp3+S/L8xc9K2c6r9ykT0PD0nwvx+lVPE4WfO/Fnnk4JZ39r/NryONgpz5v0QZWkf/v/y/VK/xUc3Z/7/JSDcOv3ABwEAvcZ1E5wLA2Xut8jBMBMD2QhtlRpsFwBlOmf5a0AbACco+ZmPnB8BNpoSifdwIwMHb7pf7qwnAtpGXKW1SCsCS3sLhqcwKwN7qpgnaFwvALy/XGH8xC8DQZz9mexcLwCsmUAYZyArAMI7nww9CCsCJP5gjioQJwAGjMWMpjwjAPGnSaQhiB8DlMlKfvf0FwD4JbKRbYwTAZS/C53CUAsAwao4WBpMAwFkPI9U2w/y/mAcms0kG+L9q9O5aCvbyv8EzbjogNOu/0WiUZdjq379BAORNWwjBvzkpZ5/zSc8/3+4Lpc0z5D9exrZ8MmbwP+/1ZaABw/Y/NL6QzeYk/T+RtjxqH8ABQD+vdqak5ARALWlQxyD6B0BTtLDwu/oKQBY7lVW14A1AvLV+2DdTEED1uerBPqMRQGyQun3W3RJAwGd/sokAFEATsXIJDAkVQEhvjU0/9RVAwqHwKjjDFkDMW3SDQnEXQMu7Jk7l/RdAdi6Q+OVnGEB2u7RBS64YQA7Q/4df0BhAyjaOhLLNGEB/np1vGqYYQN4TR4u0WRhActoOE+XoF0BzzzyQVlQXQAOSWZT4nBZA3bKS3P3DFUDJzifi2coUQIBrWN09sxNA/4GTQRV/EkAcwuK6gTARQP61Y2utkw9AKGlF9iibDECF9y/axXwJQLW5+tsXPgZA+GcsAuvkAkAuQvrCbu7+PyV9NiIp9vc/wNuqxlnt8D+/hzP/wcDjP6Vk28iH3MY/nqP1ZK9T0L8Sk4W+V8rlvwbOr9OeifG/rNQhWSX3978YPIh3JyP+v7063efUAQLAZWcEq7DHBMDVwhe04l4HwBFdhguQwwnAU5JnQE7yC8BKMn2OKegNwESQRfCpog/Ab0FrieuPEMCvoPKRHS8RwLc/jTpyrhHALcNL+bINEsCt1Kw260wSwPNLd15nbBLAQ4hTX7NsEsDb4I+dmE4SwN+nxV4bExLAZixPtXe7EcB/f6jzHUkRwNa66bCuvRDA1I2HaPYaEMCkH9eA0cUOwJlHfgI3Lw3AToLfmoJ2C8DxTQFISKAJwOwhVnk/sQfA8AU0ljeuBcAz/XFuDJwDwBhNKrGafwHAjLjZCmm7/r+zQGvALHb6vy4Vg2S4OPa/LinFDu4L8r8Cve++jPDrvzg2dCd8C+S/wq9HGBTv2L8zQbIRdgnFv4aOwSNme6g/uZdJnylvzz/vAdQB7mDbP6mS3zfk/eI/BVCnaNW95z+DEUDCsOvrPxGMdIOChO8/57Kj+X1D8T/7XggQt3nyPyUHbT3gZfM/cgZnt7EJ9D/FHkKPn2f0P1RNOT3PgvQ/6vtldgtf9D/LpLhvtgD0P5BIJbS6bPM/Tmejt3qo8j8INKxTv7nxPyH0elylpvA/BoLpABXr7j+u5oFJ81nsP4sHfeYtp+k/h/hDnRfg5j90ckPD5RHkP/NkVvuISeE/VKuz8g0n3T9m3D9gq/fXP1ofNpRwG9M/zvgqIXlOzT9iY/50FFzFP49y/JvkAr0/kfQFOnK3sT9ekKM2hwyiP88ck0gSq4g/AAAAAAAAAIA=",
          "dtype": "f8"
         },
         "yaxis": "y3"
        },
        {
         "line": {
          "color": "gray"
         },
         "mode": "lines",
         "name": "$\\gamma=1.8 \\quad \\nu=\\pi$",
         "type": "scatter",
         "x": {
          "bdata": "AAAAAAAAAAB7FK5H4XqEP3sUrkfhepQ/uB6F61G4nj97FK5H4XqkP5qZmZmZmak/uB6F61G4rj/sUbgeheuxP3sUrkfherQ/CtejcD0Ktz+amZmZmZm5Pylcj8L1KLw/uB6F61G4vj+kcD0K16PAP+xRuB6F68E/MzMzMzMzwz97FK5H4XrEP8P1KFyPwsU/CtejcD0Kxz9SuB6F61HIP5qZmZmZmck/4XoUrkfhyj8pXI/C9SjMP3E9CtejcM0/uB6F61G4zj8AAAAAAADQP6RwPQrXo9A/SOF6FK5H0T/sUbgehevRP4/C9Shcj9I/MzMzMzMz0z/Xo3A9CtfTP3sUrkfhetQ/H4XrUbge1T/D9Shcj8LVP2dmZmZmZtY/CtejcD0K1z+uR+F6FK7XP1K4HoXrUdg/9ihcj8L12D+amZmZmZnZPz4K16NwPdo/4XoUrkfh2j+F61G4HoXbPylcj8L1KNw/zczMzMzM3D9xPQrXo3DdPxWuR+F6FN4/uB6F61G43j9cj8L1KFzfPwAAAAAAAOA/UrgehetR4D+kcD0K16PgP/YoXI/C9eA/SOF6FK5H4T+amZmZmZnhP+xRuB6F6+E/PgrXo3A94j+PwvUoXI/iP+F6FK5H4eI/MzMzMzMz4z+F61G4HoXjP9ejcD0K1+M/KVyPwvUo5D97FK5H4XrkP83MzMzMzOQ/H4XrUbge5T9xPQrXo3DlP8P1KFyPwuU/Fa5H4XoU5j9nZmZmZmbmP7gehetRuOY/CtejcD0K5z9cj8L1KFznP65H4XoUruc/AAAAAAAA6D9SuB6F61HoP6RwPQrXo+g/9ihcj8L16D9I4XoUrkfpP5qZmZmZmek/7FG4HoXr6T8+CtejcD3qP5DC9Shcj+o/4XoUrkfh6j8zMzMzMzPrP4XrUbgehes/16NwPQrX6z8pXI/C9SjsP3sUrkfheuw/zczMzMzM7D8fhetRuB7tP3E9CtejcO0/w/UoXI/C7T8VrkfhehTuP2dmZmZmZu4/uB6F61G47j8K16NwPQrvP1yPwvUoXO8/rkfhehSu7z8AAAAAAADwPylcj8L1KPA/UrgehetR8D97FK5H4XrwP6RwPQrXo/A/zczMzMzM8D/2KFyPwvXwPx+F61G4HvE/SOF6FK5H8T9xPQrXo3DxP5qZmZmZmfE/w/UoXI/C8T/sUbgehevxPxWuR+F6FPI/PgrXo3A98j9nZmZmZmbyP4/C9Shcj/I/uB6F61G48j/hehSuR+HyPwrXo3A9CvM/MzMzMzMz8z9cj8L1KFzzP4XrUbgehfM/rkfhehSu8z/Xo3A9CtfzPwAAAAAAAPQ/KVyPwvUo9D9SuB6F61H0P3sUrkfhevQ/pHA9Ctej9D/NzMzMzMz0P/YoXI/C9fQ/H4XrUbge9T9I4XoUrkf1P3E9CtejcPU/mpmZmZmZ9T/D9Shcj8L1P+xRuB6F6/U/Fa5H4XoU9j8+CtejcD32P2dmZmZmZvY/j8L1KFyP9j+4HoXrUbj2P+F6FK5H4fY/CtejcD0K9z8zMzMzMzP3P1yPwvUoXPc/hetRuB6F9z+uR+F6FK73P9ejcD0K1/c/AAAAAAAA+D8pXI/C9Sj4P1K4HoXrUfg/exSuR+F6+D+kcD0K16P4P83MzMzMzPg/9ihcj8L1+D8fhetRuB75P0jhehSuR/k/cT0K16Nw+T+amZmZmZn5P8P1KFyPwvk/7FG4HoXr+T8VrkfhehT6Pz4K16NwPfo/Z2ZmZmZm+j+QwvUoXI/6P7gehetRuPo/4XoUrkfh+j8K16NwPQr7PzMzMzMzM/s/XI/C9Shc+z+F61G4HoX7P65H4XoUrvs/16NwPQrX+z8AAAAAAAD8Pylcj8L1KPw/UrgehetR/D97FK5H4Xr8P6RwPQrXo/w/zczMzMzM/D8=",
          "dtype": "f8"
         },
         "xaxis": "x4",
         "y": {
          "bdata": "GC1EVPshubxuCNuGr2enPzI/Fp8HYbU/PyDGol/CvD8Kwpl1m83AP5v1iPAY3ME/8AECN/d3wT8+ORRSlCO/P3CvCAxIP7g/Ft4dJf50rD9AlvexRoNxP8C/VAYGMq6/Kmu/V4Ifwb+OwnCeJhrMv5GMCl8RMtS/39GLvevv2r/4FgbgpRrhv9QdrOE+9+S/BuqKFNEC6b/oauFicjHtvzFZho0uu/C/jWfCoAji8r+sb1cbPAb1vzqrZyuFIPe/tN2CGnsp+b/Xe+KGpBn7v68L3gSM6fy/6hjS89SR/r/C63soqAUAwPJWOqmIpwDAixCcykArAcCNvIlUuo0BwNqM52MdzAHAKHHtQtnjAcAGT8amrNIBwCoLVjytlgHA4IWkb04uAcByNT5bZ5gAwMm9up1vqP+/42q4vdjC/b9XN4bgQoD7v792cm/K4fi/3GpVSHHp9b/5IjFhHpryv3+202w27+2/46SMCh4N5r8bL0pn3zHbv9SD7eQLfcK/LEJ/by1Hwz92QDD3ZlXdP3LylXag2ug/w2R5zsin8T+ShQKFP/v2P3vryYXAXfw/YSncgn7iAECR5fymMJMDQAc6jtCVOwZAuAwU5UHWCECnHXePyV0LQGkcvl7OzA1AnnzycgUPEEC1Hx5gLyYRQPfZ7S5tKRJAS78MPmUWE0C3eVCX4eoTQJsWWC/VpBRAsPiX02BCFUDLieG618EVQP84R63DIRZAQmgquehgFkB+90ZsSH4WQI+srIgkeRZA4SrHLgFRFkB1rdZ2pgUWQMlCi3UhlxVA+MHOqMQFFUDr1SvLJ1IUQFD+pg0nfRNAz+pFueGHEkCBvOY6uHMRQD0raJ1JQhBA4PTz7uDqDUAxvW6nfh4LQI6ozzX5IwhAdgTXEjwABUD7htdzh7gBQP1GkUHLpPw/umHtRT+n9T+QHyOXxQjtP6MzHCPrId0/VjRunkaX0ryuMxwj6yHdv6MfI5fFCO2/0GHtRT+n9b8HR5FBy6T8vwCH13OHuAHAbATXEjwABcCYqM81+SMIwDa9bqd+HgvA8PTz7uDqDcA/K2idSUIQwIS85jq4cxHA0upFueGHEsBR/qYNJ30TwOzVK8snUhTA+cHOqMQFFcDNQot1IZcVwHit1namBRbA5CrHLgFRFsCRrKyIJHkWwID3RmxIfhbAQ2gquehgFsD/OEetwyEWwMqJ4brXwRXArfiX02BCFcCbFlgv1aQUwL15UJfh6hPAT78MPmUWE8D82e0ubSkSwLYfHmAvJhHAo3zycgUPEMBxHL5ezswNwK8dd4/JXQvAsQwU5UHWCMAEOo7QlTsGwIzl/KYwkwPAYSncgn7iAMB468mFwF38v4qFAoU/+/a/x2R5zsin8b918pV2oNrov6hAMPdmVd2/4UF/by1Hw785hO3kC33CPzovSmffMds/5KSMCh4N5j+tttNsNu/tPwcjMWEemvI/42pVSHHp9T/JdnJvyuH4P1Y3huBCgPs/42q4vdjC/T/Fvbqdb6j/P281PltnmABA6oWkb04uAUAsC1Y8rZYBQAlPxqas0gFAJ3HtQtnjAUDmjOdjHcwBQJG8iVS6jQFAkBCcykArAUD6VjqpiKcAQMDreyioBQBA/hjS89SR/j+0C94EjOn8P+R74oakGfs/tN2CGnsp+T9Iq2crhSD3P65vVxs8BvU/l2fCoAji8j8tWYaNLrvwP/dq4WJyMe0/BuqKFNEC6T/XHazhPvfkP+wWBuClGuE/udGLvevv2j+XjApfETLUP//CcJ4mGsw/gmu/V4IfwT+Ov1QGBjKuP66U97FGg3G/490dJf50rL9XrwgMSD+4v4k5FFKUI7+/1wECN/d3wb+09YjwGNzBv/7BmXWbzcC/XR/Gol/CvL/EQBafB2G1v84J24avZ6e/GC1EVPshyTw=",
          "dtype": "f8"
         },
         "yaxis": "y4"
        },
        {
         "line": {
          "color": "gray"
         },
         "mode": "lines",
         "name": "$\\gamma=1.8 \\quad \\nu=5/3 \\pi$",
         "type": "scatter",
         "x": {
          "bdata": "AAAAAAAAAAB7FK5H4XqEP3sUrkfhepQ/uB6F61G4nj97FK5H4XqkP5qZmZmZmak/uB6F61G4rj/sUbgeheuxP3sUrkfherQ/CtejcD0Ktz+amZmZmZm5Pylcj8L1KLw/uB6F61G4vj+kcD0K16PAP+xRuB6F68E/MzMzMzMzwz97FK5H4XrEP8P1KFyPwsU/CtejcD0Kxz9SuB6F61HIP5qZmZmZmck/4XoUrkfhyj8pXI/C9SjMP3E9CtejcM0/uB6F61G4zj8AAAAAAADQP6RwPQrXo9A/SOF6FK5H0T/sUbgehevRP4/C9Shcj9I/MzMzMzMz0z/Xo3A9CtfTP3sUrkfhetQ/H4XrUbge1T/D9Shcj8LVP2dmZmZmZtY/CtejcD0K1z+uR+F6FK7XP1K4HoXrUdg/9ihcj8L12D+amZmZmZnZPz4K16NwPdo/4XoUrkfh2j+F61G4HoXbPylcj8L1KNw/zczMzMzM3D9xPQrXo3DdPxWuR+F6FN4/uB6F61G43j9cj8L1KFzfPwAAAAAAAOA/UrgehetR4D+kcD0K16PgP/YoXI/C9eA/SOF6FK5H4T+amZmZmZnhP+xRuB6F6+E/PgrXo3A94j+PwvUoXI/iP+F6FK5H4eI/MzMzMzMz4z+F61G4HoXjP9ejcD0K1+M/KVyPwvUo5D97FK5H4XrkP83MzMzMzOQ/H4XrUbge5T9xPQrXo3DlP8P1KFyPwuU/Fa5H4XoU5j9nZmZmZmbmP7gehetRuOY/CtejcD0K5z9cj8L1KFznP65H4XoUruc/AAAAAAAA6D9SuB6F61HoP6RwPQrXo+g/9ihcj8L16D9I4XoUrkfpP5qZmZmZmek/7FG4HoXr6T8+CtejcD3qP5DC9Shcj+o/4XoUrkfh6j8zMzMzMzPrP4XrUbgehes/16NwPQrX6z8pXI/C9SjsP3sUrkfheuw/zczMzMzM7D8fhetRuB7tP3E9CtejcO0/w/UoXI/C7T8VrkfhehTuP2dmZmZmZu4/uB6F61G47j8K16NwPQrvP1yPwvUoXO8/rkfhehSu7z8AAAAAAADwPylcj8L1KPA/UrgehetR8D97FK5H4XrwP6RwPQrXo/A/zczMzMzM8D/2KFyPwvXwPx+F61G4HvE/SOF6FK5H8T9xPQrXo3DxP5qZmZmZmfE/w/UoXI/C8T/sUbgehevxPxWuR+F6FPI/PgrXo3A98j9nZmZmZmbyP4/C9Shcj/I/uB6F61G48j/hehSuR+HyPwrXo3A9CvM/MzMzMzMz8z9cj8L1KFzzP4XrUbgehfM/rkfhehSu8z/Xo3A9CtfzPwAAAAAAAPQ/KVyPwvUo9D9SuB6F61H0P3sUrkfhevQ/pHA9Ctej9D/NzMzMzMz0P/YoXI/C9fQ/H4XrUbge9T9I4XoUrkf1P3E9CtejcPU/mpmZmZmZ9T/D9Shcj8L1P+xRuB6F6/U/Fa5H4XoU9j8+CtejcD32P2dmZmZmZvY/j8L1KFyP9j+4HoXrUbj2P+F6FK5H4fY/CtejcD0K9z8zMzMzMzP3P1yPwvUoXPc/hetRuB6F9z+uR+F6FK73P9ejcD0K1/c/AAAAAAAA+D8pXI/C9Sj4P1K4HoXrUfg/exSuR+F6+D+kcD0K16P4P83MzMzMzPg/9ihcj8L1+D8fhetRuB75P0jhehSuR/k/cT0K16Nw+T+amZmZmZn5P8P1KFyPwvk/7FG4HoXr+T8VrkfhehT6Pz4K16NwPfo/Z2ZmZmZm+j+QwvUoXI/6P7gehetRuPo/4XoUrkfh+j8K16NwPQr7PzMzMzMzM/s/XI/C9Shc+z+F61G4HoX7P65H4XoUrvs/16NwPQrX+z8AAAAAAAD8Pylcj8L1KPw/UrgehetR/D97FK5H4Xr8P6RwPQrXo/w/zczMzMzM/D8=",
          "dtype": "f8"
         },
         "xaxis": "x5",
         "y": {
          "bdata": "GC1EVPshqbyJz/8YdJKtv1QHaDpLZ76/mwpm7ug8x790+5fDDU/Pv2asw7IWnNO/iX0WLDhj17+pLbuoVeTav1sIQmN9B96/drOr29Za4L82VLqIj2zhv3gm3mLFLuK/vB1UBzeY4r/S1uA+pKDiv1Og/JnqQOK/YZkjIh9z4b9y0e/YpDLgv4uUWIt/+Ny/5sh3tUic2L8CTNIKBlDTv2ZdkhE/LMq/7UU5Wi3Qt7/ATMTDm22gP4dkLOEsx8U/1FxvjCV/1D/I0tUlEc/eP35Zq+mp3+Q/Kcxc9K2c6j9wkT0PD0nwPx+lVPE4WfM/Fnnk4JZ39j/OryONgpz5P0MZWkf/v/w/VK/xUc3Z/z/JSDcOv3ABQEAvcZ1E5wJA2Xut8jBMBED2QhtlRpsFQBlOmf5a0AZACMo+ZmPnB0BOpoSifdwIQMPb7pf7qwlAtZGXKW1SCkCS3sLhqcwKQN7qpgnaFwtALy/XGH8xC0DQZz9mexcLQCwmUAYZyApAMI7nww9CCkCJP5gjioQJQAKjMWMpjwhAPGnSaQhiB0DmMlKfvf0FQD8JbKRbYwRAZy/C53CUAkAxao4WBpMAQFsPI9U2w/w/mQcms0kG+D9t9O5aCvbyP8QzbjogNOs/4WiUZdjq3z9UAORNWwjBPyApZ5/zSc+/2u4Lpc0z5L9bxrZ8Mmbwv+71ZaABw/a/Mb6QzeYk/b+PtjxqH8ABwD6vdqak5ATAKmlQxyD6B8BTtLDwu/oKwBQ7lVW14A3AvLV+2DdTEMD0uerBPqMRwGyQun3W3RLAv2d/sokAFMATsXIJDAkVwEhvjU0/9RXAwqHwKjjDFsDMW3SDQnEXwMu7Jk7l/RfAdi6Q+OVnGMB2u7RBS64YwA7Q/4df0BjAyjaOhLLNGMB/np1vGqYYwN4TR4u0WRjActoOE+XoF8B0zzyQVlQXwAOSWZT4nBbA27KS3P3DFcDLzifi2coUwIFrWN09sxPA/oGTQRV/EsAbwuK6gTARwAW2Y2utkw/AJWlF9iibDMCC9y/axXwJwLy5+tsXPgbA/2csAuvkAsAmQvrCbu7+vzN9NiIp9ve/zduqxlnt8L+yhzP/wcDjv3Nk28iH3Ma/baP1ZK9T0D/6koW+V8rlPwrOr9OeifE/sdQhWSX39z8PPIh3JyP+P7k63efUAQJAZ2cEq7DHBEDVwhe04l4HQA5dhguQwwlAUZJnQE7yC0BIMn2OKegNQEKQRfCpog9Ab0FrieuPEECwoPKRHS8RQLc/jTpyrhFALcNL+bINEkCt1Kw260wSQPNLd15nbBJAQ4hTX7NsEkDa4I+dmE4SQN+nxV4bExJAZixPtXe7EUB/f6jzHUkRQNa66bCuvRBA1I2HaPYaEECkH9eA0cUOQJlHfgI3Lw1AToLfmoJ2C0DxTQFISKAJQO4hVnk/sQdA8gU0ljeuBUAy/XFuDJwDQBZNKrGafwFAibjZCmm7/j+sQGvALHb6PykVg2S4OPY/KinFDu4L8j/yvO++jPDrPyg2dCd8C+Q/7q9HGBTv2D+LQbIRdgnFP/SMwSNme6i/YZdJnylvz78bAtQB7mDbv7yS3zfk/eK/GVCnaNW957+XEUDCsOvrvyqMdIOChO+/27Kj+X1D8b/uXggQt3nyvxcHbT3gZfO/ZAZnt7EJ9L/PHkKPn2f0v15NOT3PgvS/9ftldgtf9L/YpLhvtgD0v4NIJbS6bPO/Qmejt3qo8r/8M6xTv7nxvxX0elylpvC/8oHpABXr7r/B5oFJ81nsv3oHfeYtp+m/b/hDnRfg5r+HckPD5RHkvwNlVvuISeG/c6uz8g0n3b+F3D9gq/fXv0EfNpRwG9O/qPgqIXlOzb9WY/50FFzFv1xy/JvkAr2/X/QFOnK3sb8nkaM2hwyiv5kdk0gSq4i/GC1EVPshubw=",
          "dtype": "f8"
         },
         "yaxis": "y5"
        },
        {
         "line": {
          "color": "gray"
         },
         "mode": "lines",
         "name": "$\\gamma=2.2 \\quad \\nu=\\pi$",
         "type": "scatter",
         "x": {
          "bdata": "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",
          "dtype": "f8"
         },
         "xaxis": "x6",
         "y": {
          "bdata": "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",
          "dtype": "f8"
         },
         "yaxis": "y6"
        },
        {
         "line": {
          "color": "gray"
         },
         "mode": "lines",
         "name": "$\\gamma=3 \\quad \\nu=4/3 \\pi$",
         "type": "scatter",
         "x": {
          "bdata": "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",
          "dtype": "f8"
         },
         "xaxis": "x7",
         "y": {
          "bdata": "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",
          "dtype": "f8"
         },
         "yaxis": "y7"
        },
        {
         "line": {
          "color": "gray"
         },
         "mode": "lines",
         "name": "$\\gamma=2.6 \\quad \\nu=\\pi$",
         "type": "scatter",
         "x": {
          "bdata": "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",
          "dtype": "f8"
         },
         "xaxis": "x8",
         "y": {
          "bdata": "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",
          "dtype": "f8"
         },
         "yaxis": "y8"
        },
        {
         "line": {
          "color": "gray"
         },
         "mode": "lines",
         "name": "$\\gamma=2.4 \\quad \\nu=2/3 \\pi$",
         "type": "scatter",
         "x": {
          "bdata": "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",
          "dtype": "f8"
         },
         "xaxis": "x9",
         "y": {
          "bdata": "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",
          "dtype": "f8"
         },
         "yaxis": "y9"
        },
        {
         "line": {
          "color": "gray"
         },
         "mode": "lines",
         "name": "$\\gamma=2.4 \\quad \\nu=5/3 \\pi$",
         "type": "scatter",
         "x": {
          "bdata": "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",
          "dtype": "f8"
         },
         "xaxis": "x10",
         "y": {
          "bdata": "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",
          "dtype": "f8"
         },
         "yaxis": "y10"
        },
        {
         "line": {
          "color": "gray"
         },
         "mode": "lines",
         "name": "$\\gamma=2.2 \\quad \\nu=5/3 \\pi$",
         "type": "scatter",
         "x": {
          "bdata": "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",
          "dtype": "f8"
         },
         "xaxis": "x11",
         "y": {
          "bdata": "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",
          "dtype": "f8"
         },
         "yaxis": "y11"
        },
        {
         "line": {
          "color": "gray"
         },
         "mode": "lines",
         "name": "$\\gamma=2 \\quad \\nu=\\pi$",
         "type": "scatter",
         "x": {
          "bdata": "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",
          "dtype": "f8"
         },
         "xaxis": "x12",
         "y": {
          "bdata": "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",
          "dtype": "f8"
         },
         "yaxis": "y12"
        },
        {
         "line": {
          "color": "gray"
         },
         "mode": "lines",
         "name": "$\\gamma=1.2 \\quad \\nu=5/3 \\pi$",
         "type": "scatter",
         "x": {
          "bdata": "AAAAAAAAAAB7FK5H4XqEP3sUrkfhepQ/uB6F61G4nj97FK5H4XqkP5qZmZmZmak/uB6F61G4rj/sUbgeheuxP3sUrkfherQ/CtejcD0Ktz+amZmZmZm5Pylcj8L1KLw/uB6F61G4vj+kcD0K16PAP+xRuB6F68E/MzMzMzMzwz97FK5H4XrEP8P1KFyPwsU/CtejcD0Kxz9SuB6F61HIP5qZmZmZmck/4XoUrkfhyj8pXI/C9SjMP3E9CtejcM0/uB6F61G4zj8AAAAAAADQP6RwPQrXo9A/SOF6FK5H0T/sUbgehevRP4/C9Shcj9I/MzMzMzMz0z/Xo3A9CtfTP3sUrkfhetQ/H4XrUbge1T/D9Shcj8LVP2dmZmZmZtY/CtejcD0K1z+uR+F6FK7XP1K4HoXrUdg/9ihcj8L12D+amZmZmZnZPz4K16NwPdo/4XoUrkfh2j+F61G4HoXbPylcj8L1KNw/zczMzMzM3D9xPQrXo3DdPxWuR+F6FN4/uB6F61G43j9cj8L1KFzfPwAAAAAAAOA/UrgehetR4D+kcD0K16PgP/YoXI/C9eA/SOF6FK5H4T+amZmZmZnhP+xRuB6F6+E/PgrXo3A94j+PwvUoXI/iP+F6FK5H4eI/MzMzMzMz4z+F61G4HoXjP9ejcD0K1+M/KVyPwvUo5D97FK5H4XrkP83MzMzMzOQ/H4XrUbge5T9xPQrXo3DlP8P1KFyPwuU/Fa5H4XoU5j9nZmZmZmbmP7gehetRuOY/CtejcD0K5z9cj8L1KFznP65H4XoUruc/AAAAAAAA6D9SuB6F61HoP6RwPQrXo+g/9ihcj8L16D9I4XoUrkfpP5qZmZmZmek/7FG4HoXr6T8+CtejcD3qP5DC9Shcj+o/4XoUrkfh6j8zMzMzMzPrP4XrUbgehes/16NwPQrX6z8pXI/C9SjsP3sUrkfheuw/zczMzMzM7D8fhetRuB7tP3E9CtejcO0/w/UoXI/C7T8VrkfhehTuP2dmZmZmZu4/uB6F61G47j8K16NwPQrvP1yPwvUoXO8/rkfhehSu7z8AAAAAAADwPylcj8L1KPA/UrgehetR8D97FK5H4XrwP6RwPQrXo/A/zczMzMzM8D/2KFyPwvXwPx+F61G4HvE/SOF6FK5H8T9xPQrXo3DxP5qZmZmZmfE/w/UoXI/C8T/sUbgehevxPxWuR+F6FPI/PgrXo3A98j9nZmZmZmbyP4/C9Shcj/I/uB6F61G48j/hehSuR+HyPwrXo3A9CvM/MzMzMzMz8z8=",
          "dtype": "f8"
         },
         "xaxis": "x13",
         "y": {
          "bdata": "GC1EVPshubwOUxoev4ZXv78CTAvZfJc/GJC1ztSjsj+n636q+N7CP9ZHPsFdb88/SUQP295m1z8uKd4m4i3gP+dlILp6N+U/YthZyLq56j86itsd1k3wP5ucJSceYfM/srU6S0+I9j8pFsdgW7T5P6OdAcfD1fw/xzu2wdLc/z8NOmv26lwBQG3IA36srgJAMwOm/C/cA0AZH6QbUN4EQC0R35dbrgVAzVjQRi9GBkBvdb1VTqAGQJkCWm34twZA6ykraz2JBkAKYBtqDhEGQF/DvNxLTQVAV0mchdA8BEBrrp4ked8CQPHyhbsoNgFAGYyarpKF/j9KxrSvkhD6P/3z3HYqFfU/tyZ1/Dc67z9dYtvE8GfjP89ted39N8s/Y62pdifYyb+9mJo+3kPkv/ZYeDhrPPG/9HBKFi14+L//o8Y7KML/vy0btG5lgwPAB222gh0ZB8BDJ+2DSpgKwPhnpTsV9w3AZYBdMvCVEMC/ucW2sxYSwMZOjiFueRPAzXUF4QG6FMAJpBg3qNQVwG4yzov9xRbAQVEUjQyLF8AXbIf2VyEYwOQHQ+DihhjAyoKweDe6GMAkg4YSbLoYwLmiuHUmhxjA70XeZ50gGMDQGIZmmIcXwLla7ZNtvRbA27KS3P3DFcBlewdir50UwDpPJD1mTRPAtMJKr3vWEcC165PfszwQwJpLQItkCA3AxRNA0NliCcCFJSQyPZIFwCiKDbpwoAHAtr7stUgv+78A89chbQTzv/IMOAhSquW/GYLsoaCxxb9uUxgzbxDVPxPZVb8gDOo/IdAYkc589D/IeToAj5b7P0rguWRpIQFASNbY9Ek5BEA0sOZOOAwHQH1GQplolAlAVbUy5gPNC0B0hLzhNLINQCX4FyIxQQ9Apzh0fx88EEDjv4bvW6sQQJYPaXyD7hBAnZYaRlIGEUBifG/VBvQQQLlhdVZcuRBAcINoPoNYEEAomFLvMKgPQB+cIWY2Xg5Ap10KBcPZDEBuCG3JFyILQJ/n1trvPglAJodecWQ4B0D7Y/6yzxYFQAZQduyu4gJAUFgxjISkAECQ04yMdMn8Pwuxxo8HV/g/SVaevIQB9D9DdeTIp6/vP5nDJs2ez+c/GujKJyt84D8AvvjyepfTP3jzY2eHjb4/cQgcgi0fpr/XXOw7rgrHvzsYdaFCj9K/wTowi3zX178fd51xcVvbv/acU+weIN2/aRVPC/Ex3b993FkRhaTbvxCY01RSkti/bDVDgzoc1L/lpQKyBdLMvwx+Irfgkr6/XjhVKXpqz7w=",
          "dtype": "f8"
         },
         "yaxis": "y13"
        },
        {
         "line": {
          "color": "gray"
         },
         "mode": "lines",
         "name": "$\\gamma=1 \\quad \\nu=5/3 \\pi$",
         "type": "scatter",
         "x": {
          "bdata": "AAAAAAAAAAB7FK5H4XqEP3sUrkfhepQ/uB6F61G4nj97FK5H4XqkP5qZmZmZmak/uB6F61G4rj/sUbgeheuxP3sUrkfherQ/CtejcD0Ktz+amZmZmZm5Pylcj8L1KLw/uB6F61G4vj+kcD0K16PAP+xRuB6F68E/MzMzMzMzwz97FK5H4XrEP8P1KFyPwsU/CtejcD0Kxz9SuB6F61HIP5qZmZmZmck/4XoUrkfhyj8pXI/C9SjMP3E9CtejcM0/uB6F61G4zj8AAAAAAADQP6RwPQrXo9A/SOF6FK5H0T/sUbgehevRP4/C9Shcj9I/MzMzMzMz0z/Xo3A9CtfTP3sUrkfhetQ/H4XrUbge1T/D9Shcj8LVP2dmZmZmZtY/CtejcD0K1z+uR+F6FK7XP1K4HoXrUdg/9ihcj8L12D+amZmZmZnZPz4K16NwPdo/4XoUrkfh2j+F61G4HoXbPylcj8L1KNw/zczMzMzM3D9xPQrXo3DdPxWuR+F6FN4/uB6F61G43j9cj8L1KFzfPwAAAAAAAOA/UrgehetR4D+kcD0K16PgP/YoXI/C9eA/SOF6FK5H4T+amZmZmZnhP+xRuB6F6+E/PgrXo3A94j+PwvUoXI/iP+F6FK5H4eI/MzMzMzMz4z+F61G4HoXjP9ejcD0K1+M/KVyPwvUo5D97FK5H4XrkP83MzMzMzOQ/H4XrUbge5T9xPQrXo3DlP8P1KFyPwuU/Fa5H4XoU5j9nZmZmZmbmP7gehetRuOY/CtejcD0K5z9cj8L1KFznP65H4XoUruc/AAAAAAAA6D9SuB6F61HoP6RwPQrXo+g/9ihcj8L16D9I4XoUrkfpP5qZmZmZmek/7FG4HoXr6T8+CtejcD3qP5DC9Shcj+o/4XoUrkfh6j8zMzMzMzPrP4XrUbgehes/16NwPQrX6z8pXI/C9SjsP3sUrkfheuw/zczMzMzM7D8fhetRuB7tP3E9CtejcO0/w/UoXI/C7T8VrkfhehTuP2dmZmZmZu4/uB6F61G47j8K16NwPQrvP1yPwvUoXO8/rkfhehSu7z8AAAAAAADwPw==",
          "dtype": "f8"
         },
         "xaxis": "x14",
         "y": {
          "bdata": "AAAAAAAAAIBASh7xg0S9PyLR4mCjf9A/ZOkqpk9Q2z8XhnYgtr/jP3SNAK/zYOo/yF3WBqix8D/+87188k30P480LCgZ7/c/foDVnXB++z+B9YO3ReX+P0Osi9GgBgFAJdBbYmZwAkDUihxqt6UDQAtpT1QVnQRAkTnxGupNBUCQZDSsr7AFQG62OhMTvwVAnfAG0RJ0BUBuSkPmF8wEQEsY5iMJxQNAKZfab1heAkCUDUTDCZkAQMa/pIJn7/w/PbQUv/P89z+gOOFkAGbyP0wILC1kceg/PV4LZmUX1j8atix7kfS5v3rCElGUQuK/JhIUYuPo8L/OHSjHSd34v68G5J5FcgDAsja2ifhxBMB8hVwKM2AIwHxzIVFvLwzA2H7BkWDSD8DB5MNNE54RwGdl8ABAMBPAsQFdBv2ZFMAPDlnYDtYVwJpoZ23M3xbA50/7tDGzF8D+fsig70wYwOgEFnp5qhjA+9xFTQ/KGMA5Dl9BxaoYwA9Wrr2HTBjAbbZQTBywF8BrWYA1H9cWwNuyktz9wxXAb+qJ9O15FMA2RLeu4fwSwGav/RF5URHAs4w0aeH5DsAwdY05HAoLwLzSyisU4AbAH/8UoPKIAsD6oQGaziT8vxrK8bzpFPO/XFwtyPH847+XwBoiMLKvvzZi4c8xSd8/FKewkZxW8D/xxzLlN3b4P3Uq8JTYDABA561J89SVA0BEeQyRj8wGQNzLeEHWqAlAz2yJauIjDEDvu5yNbzgOQL94y7/L4g9Aa6cj6nCQEECO5EGKHvkQQEcr8T0DLBFAtGRaw30qEUA78B9fr/YQQD9hSCJxkxBArLOHXUYEEEDQm1v1mJoOQOta1/5Q5gxAxLLzC+X1CkDPC5oAP9QIQE/toELTjAZATKrqmW8rBEDTz2rnCLwBQC57fAERlf4/Kppf/jPF+T/k2Ned9B71P8ZsoouRt/A/ZOBCA2xF6T/8+kLtUOThP+WAey0G1tY/oRgU8WLPxz/CpdTXKD6pP9uQxr2FVqq/RW7+nDVzvb/nBOvCwQ3Cv6jCS9ODm8C/Mrt/DT4Itb8YLURU+yG5vA==",
          "dtype": "f8"
         },
         "yaxis": "y14"
        },
        {
         "line": {
          "color": "gray"
         },
         "mode": "lines",
         "name": "$\\gamma=1.2 \\quad \\nu=0$",
         "type": "scatter",
         "x": {
          "bdata": "AAAAAAAAAAB7FK5H4XqEP3sUrkfhepQ/uB6F61G4nj97FK5H4XqkP5qZmZmZmak/uB6F61G4rj/sUbgeheuxP3sUrkfherQ/CtejcD0Ktz+amZmZmZm5Pylcj8L1KLw/uB6F61G4vj+kcD0K16PAP+xRuB6F68E/MzMzMzMzwz97FK5H4XrEP8P1KFyPwsU/CtejcD0Kxz9SuB6F61HIP5qZmZmZmck/4XoUrkfhyj8pXI/C9SjMP3E9CtejcM0/uB6F61G4zj8AAAAAAADQP6RwPQrXo9A/SOF6FK5H0T/sUbgehevRP4/C9Shcj9I/MzMzMzMz0z/Xo3A9CtfTP3sUrkfhetQ/H4XrUbge1T/D9Shcj8LVP2dmZmZmZtY/CtejcD0K1z+uR+F6FK7XP1K4HoXrUdg/9ihcj8L12D+amZmZmZnZPz4K16NwPdo/4XoUrkfh2j+F61G4HoXbPylcj8L1KNw/zczMzMzM3D9xPQrXo3DdPxWuR+F6FN4/uB6F61G43j9cj8L1KFzfPwAAAAAAAOA/UrgehetR4D+kcD0K16PgP/YoXI/C9eA/SOF6FK5H4T+amZmZmZnhP+xRuB6F6+E/PgrXo3A94j+PwvUoXI/iP+F6FK5H4eI/MzMzMzMz4z+F61G4HoXjP9ejcD0K1+M/KVyPwvUo5D97FK5H4XrkP83MzMzMzOQ/H4XrUbge5T9xPQrXo3DlP8P1KFyPwuU/Fa5H4XoU5j9nZmZmZmbmP7gehetRuOY/CtejcD0K5z9cj8L1KFznP65H4XoUruc/AAAAAAAA6D9SuB6F61HoP6RwPQrXo+g/9ihcj8L16D9I4XoUrkfpP5qZmZmZmek/7FG4HoXr6T8+CtejcD3qP5DC9Shcj+o/4XoUrkfh6j8zMzMzMzPrP4XrUbgehes/16NwPQrX6z8pXI/C9SjsP3sUrkfheuw/zczMzMzM7D8fhetRuB7tP3E9CtejcO0/w/UoXI/C7T8VrkfhehTuP2dmZmZmZu4/uB6F61G47j8K16NwPQrvP1yPwvUoXO8/rkfhehSu7z8AAAAAAADwPylcj8L1KPA/UrgehetR8D97FK5H4XrwP6RwPQrXo/A/zczMzMzM8D/2KFyPwvXwPx+F61G4HvE/SOF6FK5H8T9xPQrXo3DxP5qZmZmZmfE/w/UoXI/C8T/sUbgehevxPxWuR+F6FPI/PgrXo3A98j9nZmZmZmbyP4/C9Shcj/I/uB6F61G48j/hehSuR+HyPwrXo3A9CvM/MzMzMzMz8z8=",
          "dtype": "f8"
         },
         "xaxis": "x15",
         "y": {
          "bdata": "GC1EVPshubxwFaq6xTS+P2ImbNOgwc8/0Jnwti/F2D8fhwlV5wDhPy+A/PgZruU/7ywv82dM6j+x9wed8b3uP72Qd7mZcvE/3vr4hrxS8z9D0DjGpvH0Pywoo+5zQvY/5ZVLt0g59z/q1lDqgsv3PxZuQwrl7/c/scfQLb2e9z8+EkOGBtL2PyVWlReFhfU/BrCtPNu28z8NjYGnmGXxP2CdYkaFJu0/wQF86qqG5j/HKjlK++zdP+LouaWLEso/palrxuDktb8jPdyFC2/Zv3MUwbIvU+e/uijc/uQ58b+D2wWDev32v4JKmWcQ5Py/38CDJT1uAcBYYBBVb2oEwM5+cG94XQfAiOMXjRY+CsCURpvHCgMNwOfoNQE4ow/AE4Ypu+AKEcAnT99YFCkSwHdY/D41KBPA5ParOI0EFMA9zJJbvroUwKxlzd7ORxXAqKHHuzOpFcDGg1P02dwVwG1S4V0u4RXAbLSj1iO1FcDddLDON1gVwPrTvxR1yhTAuRH223QMFMBqohH2XR8TwKo1WEPiBBLAkCGZXzq/EMD6TQEzP6IOwDbqYY6IewvAwvEgIZURCMClusyZc2wEwPhtSSzllADA3AxO4oYo+b9YJoelyOjwv5H6Lo/x/eC/OMGIQokm5Dyh+i6P8f3gP18mh6XI6PA/7wxO4oYo+T8Ibkks5ZQAQK+6zJlzbARA0fEgIZURCEBE6mGOiHsLQAVOATM/og5AkyGZXzq/EECsNVhD4gQSQGuiEfZdHxNAuhH223QMFED6078UdcoUQN10sM43WBVAa7Sj1iO1FUBsUuFdLuEVQMaDU/TZ3BVApqHHuzOpFUCqZc3ezkcVQD3Mklu+uhRA3varOI0EFEBwWPw+NSgTQCBP31gUKRJAEYYpu+AKEUDk6DUBOKMPQI9Gm8cKAw1Ag+MXjRY+CkDAfnBveF0HQEpgEFVvagRA1MCDJT1uAUBuSplnEOT8P2vbBYN6/fY/oSjc/uQ58T9NFMGyL1PnP+o83IULb9k/DqlrxuDktT8u6bmlixLKv+AqOUr77N2/xwF86qqG5r9jnWJGhSbtvwmNgaeYZfG/BLCtPNu2878hVpUXhYX1v0ESQ4YG0va/rMfQLb2e978QbkMK5e/3v9fWUOqCy/e/25VLt0g5978ZKKPuc0L2vzXQOMam8fS/x/r4hrxS87+xkHe5mXLxv5f3B53xve6/ySwv82dM6r8TgPz4Ga7lvw+HCVXnAOG/tJnwti/F2L+CJmzToMHPv0oVqrrFNL6/AN/uyVxH8Tw=",
          "dtype": "f8"
         },
         "yaxis": "y15"
        },
        {
         "line": {
          "color": "gray"
         },
         "mode": "lines",
         "name": "$\\gamma=1.6 \\quad \\nu=0$",
         "type": "scatter",
         "x": {
          "bdata": "AAAAAAAAAAB7FK5H4XqEP3sUrkfhepQ/uB6F61G4nj97FK5H4XqkP5qZmZmZmak/uB6F61G4rj/sUbgeheuxP3sUrkfherQ/CtejcD0Ktz+amZmZmZm5Pylcj8L1KLw/uB6F61G4vj+kcD0K16PAP+xRuB6F68E/MzMzMzMzwz97FK5H4XrEP8P1KFyPwsU/CtejcD0Kxz9SuB6F61HIP5qZmZmZmck/4XoUrkfhyj8pXI/C9SjMP3E9CtejcM0/uB6F61G4zj8AAAAAAADQP6RwPQrXo9A/SOF6FK5H0T/sUbgehevRP4/C9Shcj9I/MzMzMzMz0z/Xo3A9CtfTP3sUrkfhetQ/H4XrUbge1T/D9Shcj8LVP2dmZmZmZtY/CtejcD0K1z+uR+F6FK7XP1K4HoXrUdg/9ihcj8L12D+amZmZmZnZPz4K16NwPdo/4XoUrkfh2j+F61G4HoXbPylcj8L1KNw/zczMzMzM3D9xPQrXo3DdPxWuR+F6FN4/uB6F61G43j9cj8L1KFzfPwAAAAAAAOA/UrgehetR4D+kcD0K16PgP/YoXI/C9eA/SOF6FK5H4T+amZmZmZnhP+xRuB6F6+E/PgrXo3A94j+PwvUoXI/iP+F6FK5H4eI/MzMzMzMz4z+F61G4HoXjP9ejcD0K1+M/KVyPwvUo5D97FK5H4XrkP83MzMzMzOQ/H4XrUbge5T9xPQrXo3DlP8P1KFyPwuU/Fa5H4XoU5j9nZmZmZmbmP7gehetRuOY/CtejcD0K5z9cj8L1KFznP65H4XoUruc/AAAAAAAA6D9SuB6F61HoP6RwPQrXo+g/9ihcj8L16D9I4XoUrkfpP5qZmZmZmek/7FG4HoXr6T8+CtejcD3qP5DC9Shcj+o/4XoUrkfh6j8zMzMzMzPrP4XrUbgehes/16NwPQrX6z8pXI/C9SjsP3sUrkfheuw/zczMzMzM7D8fhetRuB7tP3E9CtejcO0/w/UoXI/C7T8VrkfhehTuP2dmZmZmZu4/uB6F61G47j8K16NwPQrvP1yPwvUoXO8/rkfhehSu7z8AAAAAAADwPylcj8L1KPA/UrgehetR8D97FK5H4XrwP6RwPQrXo/A/zczMzMzM8D/2KFyPwvXwPx+F61G4HvE/SOF6FK5H8T9xPQrXo3DxP5qZmZmZmfE/w/UoXI/C8T/sUbgehevxPxWuR+F6FPI/PgrXo3A98j9nZmZmZmbyP4/C9Shcj/I/uB6F61G48j/hehSuR+HyPwrXo3A9CvM/MzMzMzMz8z9cj8L1KFzzP4XrUbgehfM/rkfhehSu8z/Xo3A9CtfzPwAAAAAAAPQ/KVyPwvUo9D9SuB6F61H0P3sUrkfhevQ/pHA9Ctej9D/NzMzMzMz0P/YoXI/C9fQ/H4XrUbge9T9I4XoUrkf1P3E9CtejcPU/mpmZmZmZ9T/D9Shcj8L1P+xRuB6F6/U/Fa5H4XoU9j8+CtejcD32P2dmZmZmZvY/j8L1KFyP9j+4HoXrUbj2P+F6FK5H4fY/CtejcD0K9z8zMzMzMzP3P1yPwvUoXPc/hetRuB6F9z+uR+F6FK73P9ejcD0K1/c/AAAAAAAA+D8pXI/C9Sj4P1K4HoXrUfg/exSuR+F6+D+kcD0K16P4P83MzMzMzPg/9ihcj8L1+D8fhetRuB75P0jhehSuR/k/cT0K16Nw+T+amZmZmZn5Pw==",
          "dtype": "f8"
         },
         "xaxis": "x16",
         "y": {
          "bdata": "AAAAAAAAAICR9XEafDqRvwQLFw2D0ZO/nxI32Sb8fb+27xlkYceTPzCHAFAj6K4/LqSxn6qLvT9AQnjVZIfHP526aj5b8dA/LkkhAILa1j/fe12UkmrdPxUSubUBReI/wEeCGE0P5j8KzrV03AXqPyWpClRZGe4/LKIlvckc8T+UEkC42CrzPywY77AxLvU/oJFs3gse9z+qQb2CmPH4P+eTNSEeoPo/Nv0BthMh/D964B+iO2z9PyWyxv+9ef4/ztCiFEJC/z86tHCZBr//P9IIepH46f8/eWIncMi9/z9Cqj5P/TX/P3mzdP0FT/4/ExyiskcG/T+9vSE9Klr7P9oAkYIhSvk/tIpGNbTW9j8MEkenfwH0Px7GNqs4zfA/bhVW91J76j/Eg35SWa/iPyYzSl+UhNQ/FfPMaGMepD8cB3rQZITQv0W065ugOOK/84NnH2yO7L8Ap4Tmlpfzv86L1hifAvm/hwl19fN8/r9G4mpUZ/0BwJRXRzoMuATA6HR+AERoB8BKj/a+3wcKwD7bUqK1kAzAeIIHVrD8DsDdibgv76IQwDva8aBAsxHAIjAIIo6sEsCTqfhXQYwTwLo41LPyTxTAsf+r1W/1FMCFkP12wXoVwAujzcww3hXAVeD1UkweFsAPL6fz6zkWwGOUwX80MBbA8wFhbpoAFsD1utbb46oVwDaBNMIpLxXAHWeMZ9iNFMDBuhAAr8cTwFylTYS+3RLAZmvEvWfREcD/RzmOWKQQwDKfBvAQsQ7ACa8432jgC8Ag9RABtNsIwI8q2aJjqAXADcSYKVNMAsBWnJ3VdZv9v/MCDzpEZva/oj8bDUAN7r9JHQ3C4ynev7VvZhD5g/Q8IB4NwuMp3j/gPxsNQA3uPx0DDzpEZvY/XZyd1XWb/T8WxJgpU0wCQJgq2aJjqAVAJPUQAbTbCEAOrzjfaOALQDWfBvAQsQ5AAUg5jlikEEBra8S9Z9ERQGGlTYS+3RJAxroQAK/HE0AhZ4xn2I0UQDaBNMIpLxVA9brW2+OqFUDzAWFumgAWQGOUwX80MBZADy+n8+s5FkBV4PVSTB4WQAqjzcww3hVAg5D9dsF6FUCw/6vVb/UUQLQ41LPyTxRAjqn4V0GME0AdMAgijqwSQDXa8aBAsxFA14m4L++iEEBuggdWsPwOQDXbUqK1kAxAQo/2vt8HCkDYdH4ARGgHQIBXRzoMuARANOJqVGf9AUBpCXX183z+P8yL1hifAvk/BqeE5paX8z/4g2cfbI7sP0i065ugOOI/CQd60GSE0D9/8sxoYx6kvz8zSl+UhNS/zoN+Ulmv4r98FVb3UnvqvyHGNqs4zfC/ChJHp38B9L+3ikY1tNb2v+MAkYIhSvm/ur0hPSpa+78JHKKyRwb9v2azdP0FT/6/RKo+T/01/792YidwyL3/v8gIepH46f+/LbRwmQa//7/S0KIUQkL/vw2yxv+9ef6/ZeAfojts/b8X/QG2EyH8v8WTNSEeoPq/nkG9gpjx+L+OkWzeCx73vxsY77AxLvW/kRJAuNgq878uoiW9yRzxvyWpClRZGe6/3s21dNwF6r+zR4IYTQ/mv/wRubUBReK/s3tdlJJq3b8hSSEAgtrWv366aj5b8dC/QEJ41WSHx7+Xo7Gfqou9v2eGAFAj6K6/tu8ZZGHHk7+fEjfZJvx9PzsKFw2D0ZM///NxGnw6kT91p7vpu/3lvA==",
          "dtype": "f8"
         },
         "yaxis": "y16"
        },
        {
         "line": {
          "color": "gray"
         },
         "mode": "lines",
         "name": "$\\gamma=1.8 \\quad \\nu=4/3 \\pi$",
         "type": "scatter",
         "x": {
          "bdata": "AAAAAAAAAAB7FK5H4XqEP3sUrkfhepQ/uB6F61G4nj97FK5H4XqkP5qZmZmZmak/uB6F61G4rj/sUbgeheuxP3sUrkfherQ/CtejcD0Ktz+amZmZmZm5Pylcj8L1KLw/uB6F61G4vj+kcD0K16PAP+xRuB6F68E/MzMzMzMzwz97FK5H4XrEP8P1KFyPwsU/CtejcD0Kxz9SuB6F61HIP5qZmZmZmck/4XoUrkfhyj8pXI/C9SjMP3E9CtejcM0/uB6F61G4zj8AAAAAAADQP6RwPQrXo9A/SOF6FK5H0T/sUbgehevRP4/C9Shcj9I/MzMzMzMz0z/Xo3A9CtfTP3sUrkfhetQ/H4XrUbge1T/D9Shcj8LVP2dmZmZmZtY/CtejcD0K1z+uR+F6FK7XP1K4HoXrUdg/9ihcj8L12D+amZmZmZnZPz4K16NwPdo/4XoUrkfh2j+F61G4HoXbPylcj8L1KNw/zczMzMzM3D9xPQrXo3DdPxWuR+F6FN4/uB6F61G43j9cj8L1KFzfPwAAAAAAAOA/UrgehetR4D+kcD0K16PgP/YoXI/C9eA/SOF6FK5H4T+amZmZmZnhP+xRuB6F6+E/PgrXo3A94j+PwvUoXI/iP+F6FK5H4eI/MzMzMzMz4z+F61G4HoXjP9ejcD0K1+M/KVyPwvUo5D97FK5H4XrkP83MzMzMzOQ/H4XrUbge5T9xPQrXo3DlP8P1KFyPwuU/Fa5H4XoU5j9nZmZmZmbmP7gehetRuOY/CtejcD0K5z9cj8L1KFznP65H4XoUruc/AAAAAAAA6D9SuB6F61HoP6RwPQrXo+g/9ihcj8L16D9I4XoUrkfpP5qZmZmZmek/7FG4HoXr6T8+CtejcD3qP5DC9Shcj+o/4XoUrkfh6j8zMzMzMzPrP4XrUbgehes/16NwPQrX6z8pXI/C9SjsP3sUrkfheuw/zczMzMzM7D8fhetRuB7tP3E9CtejcO0/w/UoXI/C7T8VrkfhehTuP2dmZmZmZu4/uB6F61G47j8K16NwPQrvP1yPwvUoXO8/rkfhehSu7z8AAAAAAADwPylcj8L1KPA/UrgehetR8D97FK5H4XrwP6RwPQrXo/A/zczMzMzM8D/2KFyPwvXwPx+F61G4HvE/SOF6FK5H8T9xPQrXo3DxP5qZmZmZmfE/w/UoXI/C8T/sUbgehevxPxWuR+F6FPI/PgrXo3A98j9nZmZmZmbyP4/C9Shcj/I/uB6F61G48j/hehSuR+HyPwrXo3A9CvM/MzMzMzMz8z9cj8L1KFzzP4XrUbgehfM/rkfhehSu8z/Xo3A9CtfzPwAAAAAAAPQ/KVyPwvUo9D9SuB6F61H0P3sUrkfhevQ/pHA9Ctej9D/NzMzMzMz0P/YoXI/C9fQ/H4XrUbge9T9I4XoUrkf1P3E9CtejcPU/mpmZmZmZ9T/D9Shcj8L1P+xRuB6F6/U/Fa5H4XoU9j8+CtejcD32P2dmZmZmZvY/j8L1KFyP9j+4HoXrUbj2P+F6FK5H4fY/CtejcD0K9z8zMzMzMzP3P1yPwvUoXPc/hetRuB6F9z+uR+F6FK73P9ejcD0K1/c/AAAAAAAA+D8pXI/C9Sj4P1K4HoXrUfg/exSuR+F6+D+kcD0K16P4P83MzMzMzPg/9ihcj8L1+D8fhetRuB75P0jhehSuR/k/cT0K16Nw+T+amZmZmZn5P8P1KFyPwvk/7FG4HoXr+T8VrkfhehT6Pz4K16NwPfo/Z2ZmZmZm+j+QwvUoXI/6P7gehetRuPo/4XoUrkfh+j8K16NwPQr7PzMzMzMzM/s/XI/C9Shc+z+F61G4HoX7P65H4XoUrvs/16NwPQrX+z8AAAAAAAD8Pylcj8L1KPw/UrgehetR/D97FK5H4Xr8P6RwPQrXo/w/zczMzMzM/D8=",
          "dtype": "f8"
         },
         "xaxis": "x17",
         "y": {
          "bdata": "GC1EVPshubw9G5NIEquIv8ePozaHDKK/D/UFOnK3sb/zcvyb5AK9v0lj/nQUXMW/DfkqIXlOzb9aHzaUcBvTv3/cP2Cr99e/KKuz8g0n3b8MZVb7iEnhv3FyQ8PlEeS/iPhDnRfg5r91B33mLafpv5vmgUnzWey/SoLpABXr7r8y9Hpcpabwvws0rFO/ufG/PWejt3qo8r9zSCW0umzzv9ukuG+2APS/6vtldgtf9L9DTTk9z4L0v6geQo+fZ/S/fAZnt7EJ9L8hB2094GXzv+1eCBC3efK/0bKj+X1D8b8fjHSDgoTvv4ERQMKw6+u/+E+naNW957+Tkt835P3iv7YB1AHuYNu/xpdJnylvz7+4jsEjZnuov39BshF2CcU/1a9HGBTv2D8YNnQnfAvkP9O8776M8Os/MCnFDu4L8j9FFYNkuDj2P8ZAa8Asdvo/kLjZCmm7/j8WTSqxmn8BQED9cW4MnANA9gU0ljeuBUDtIVZ5P7EHQO1NAUhIoAlAU4LfmoJ2C0CXR34CNy8NQJ0f14DRxQ5Azo2HaPYaEEDWuumwrr0QQH5/qPMdSRFAYyxPtXe7EUDgp8VeGxMSQNjgj52YThJAQYhTX7NsEkDtS3deZ2wSQKzUrDbrTBJAK8NL+bINEkC2P406cq4RQK2g8pEdLxFAb0FrieuPEEA/kEXwqaIPQDwyfY4p6A1AQ5JnQE7yC0ABXYYLkMMJQLzCF7TiXgdAVGcEq7DHBECoOt3n1AECQA08iHcnI/4/j9QhWSX39z/8za/TnonxP9aShb5XyuU/fKP1ZK9T0D8vZdvIh9zGv8+HM//BwOO/0duqxlnt8L8tfTYiKfb3vz1C+sJu7v6/C2gsAuvkAsC9ufrbFz4GwJL3L9rFfAnAIGlF9iibDMAFtmNrrZMPwB/C4rqBMBHABYKTQRV/EsCDa1jdPbMTwMvOJ+LZyhTA37KS3P3DFcAFklmU+JwWwHXPPJBWVBfAdNoOE+XoF8DfE0eLtFkYwICenW8aphjAyjaOhLLNGMAP0P+HX9AYwHa7tEFLrhjAdC6Q+OVnGMDKuyZO5f0XwM1bdINCcRfAwqHwKjjDFsBIb41NP/UVwBGxcgkMCRXAwGd/sokAFMBokLp91t0SwPa56sE+oxHAuLV+2DdTEMAWO5VVteANwEC0sPC7+grAHWlQxyD6B8Amr3ampOQEwIK2PGofwAHACL6QzeYk/b/Q9WWgAcP2v2LGtnwyZvC/7+4Lpc0z5L9MKWef80nPv0EA5E1bCME/1miUZdjq3z/CM246IDTrP2307loK9vI/qQcms0kG+D90DyPVNsP8PztqjhYGkwBAbC/C53CUAkBHCWykW2MEQPEyUp+9/QVARWnSaQhiB0AGozFjKY8IQIw/mCOKhAlAOY7nww9CCkA0JlAGGcgKQNNnP2Z7FwtAMy/XGH8xC0Dm6qYJ2hcLQJrewuGpzApAtpGXKW1SCkDD2+6X+6sJQEimhKJ93AhADco+ZmPnB0AhTpn+WtAGQPpCG2VGmwVA5Xut8jBMBEBBL3GdROcCQM5INw6/cAFAVK/xUc3Z/z9OGVpH/7/8P8uvI42CnPk/Hnnk4JZ39j8ypVTxOFnzP3ORPQ8PSfA/Msxc9K2c6j91Wavpqd/kP9rS1SURz94/51xvjCV/1D9IZCzhLMfFP/dLxMObbaA/7UU5Wi3Qt79ZXZIRPyzKvy5M0goGUNO/DMl3tUic2L+klFiLf/jcv2/R79ikMuC/RZkjIh9z4b93oPyZ6kDiv+vW4D6koOK/vx1UBzeY4r+NJt5ixS7ivyxUuoiPbOG/mbOr29Za4L9kCEJjfQfev9gtu6hV5Nq/dn0WLDhj17+rrMOyFpzTv377l8MNT8+/HQpm7ug8x79LCWg6S2e+v4/T/xh0kq2/AN/uyVxH8bw=",
          "dtype": "f8"
         },
         "yaxis": "y17"
        },
        {
         "line": {
          "color": "gray"
         },
         "mode": "lines",
         "name": "$\\gamma=1.4 \\quad \\nu=4/3 \\pi$",
         "type": "scatter",
         "x": {
          "bdata": "AAAAAAAAAAB7FK5H4XqEP3sUrkfhepQ/uB6F61G4nj97FK5H4XqkP5qZmZmZmak/uB6F61G4rj/sUbgeheuxP3sUrkfherQ/CtejcD0Ktz+amZmZmZm5Pylcj8L1KLw/uB6F61G4vj+kcD0K16PAP+xRuB6F68E/MzMzMzMzwz97FK5H4XrEP8P1KFyPwsU/CtejcD0Kxz9SuB6F61HIP5qZmZmZmck/4XoUrkfhyj8pXI/C9SjMP3E9CtejcM0/uB6F61G4zj8AAAAAAADQP6RwPQrXo9A/SOF6FK5H0T/sUbgehevRP4/C9Shcj9I/MzMzMzMz0z/Xo3A9CtfTP3sUrkfhetQ/H4XrUbge1T/D9Shcj8LVP2dmZmZmZtY/CtejcD0K1z+uR+F6FK7XP1K4HoXrUdg/9ihcj8L12D+amZmZmZnZPz4K16NwPdo/4XoUrkfh2j+F61G4HoXbPylcj8L1KNw/zczMzMzM3D9xPQrXo3DdPxWuR+F6FN4/uB6F61G43j9cj8L1KFzfPwAAAAAAAOA/UrgehetR4D+kcD0K16PgP/YoXI/C9eA/SOF6FK5H4T+amZmZmZnhP+xRuB6F6+E/PgrXo3A94j+PwvUoXI/iP+F6FK5H4eI/MzMzMzMz4z+F61G4HoXjP9ejcD0K1+M/KVyPwvUo5D97FK5H4XrkP83MzMzMzOQ/H4XrUbge5T9xPQrXo3DlP8P1KFyPwuU/Fa5H4XoU5j9nZmZmZmbmP7gehetRuOY/CtejcD0K5z9cj8L1KFznP65H4XoUruc/AAAAAAAA6D9SuB6F61HoP6RwPQrXo+g/9ihcj8L16D9I4XoUrkfpP5qZmZmZmek/7FG4HoXr6T8+CtejcD3qP5DC9Shcj+o/4XoUrkfh6j8zMzMzMzPrP4XrUbgehes/16NwPQrX6z8pXI/C9SjsP3sUrkfheuw/zczMzMzM7D8fhetRuB7tP3E9CtejcO0/w/UoXI/C7T8VrkfhehTuP2dmZmZmZu4/uB6F61G47j8K16NwPQrvP1yPwvUoXO8/rkfhehSu7z8AAAAAAADwPylcj8L1KPA/UrgehetR8D97FK5H4XrwP6RwPQrXo/A/zczMzMzM8D/2KFyPwvXwPx+F61G4HvE/SOF6FK5H8T9xPQrXo3DxP5qZmZmZmfE/w/UoXI/C8T/sUbgehevxPxWuR+F6FPI/PgrXo3A98j9nZmZmZmbyP4/C9Shcj/I/uB6F61G48j/hehSuR+HyPwrXo3A9CvM/MzMzMzMz8z9cj8L1KFzzP4XrUbgehfM/rkfhehSu8z/Xo3A9CtfzPwAAAAAAAPQ/KVyPwvUo9D9SuB6F61H0P3sUrkfhevQ/pHA9Ctej9D/NzMzMzMz0P/YoXI/C9fQ/H4XrUbge9T9I4XoUrkf1P3E9CtejcPU/mpmZmZmZ9T/D9Shcj8L1P+xRuB6F6/U/Fa5H4XoU9j8+CtejcD32P2dmZmZmZvY/",
          "dtype": "f8"
         },
         "xaxis": "x18",
         "y": {
          "bdata": "AAAAAAAAAIB2yEerb525v0FZmFrZysm/hUnoWNdP079uxDU3W3zZv+4+U/pnQd+/qSol9Vg74r8/LzUf4XrkvzOnle5ATea/dd/0Zt6h57939d5ezmnov4bkw4kMmOi/bDhdl60h6L8pYg3ICv7mv5xSj2nmJuW/0nq2xIiY4r/Xgas3qqPev8lQxuKsqNa/O+E4nQ+Ryr9K7GMPyoekv8OcQlIT1sI/yb/27H6T1j9e9anlyGXiPy64ulXy+Ok/lRAWdTr48D/e15SB0hv1P6wdKPMVXPk/SQ0MjiOt/T/hhDgyQwEBQIQiRQ6tJwNAevCdcjhDBUAGmY5UPU0HQL/jtoUWPwlAM6Xv2zUSC0A1z11GOMAMQKEsfZP5Qg5ABXSlrKeUD0CJanuG6lcQQLR42R3FxxBAaCdjCqsXEUBLYtJWrkURQGqwR1QyUBFA2RlsZvE1EUBCl9nfAfYQQAIZRt/ZjxBASs7QIFIDEEBCJrdzT6EOQNywBHL58AxA/079Ta/3CkCSChnRQ7gIQOuKXAlKNgZAOD7Zqw12A0C65rtgiXwAQBksRyW2nvo/phmswWzp8z+LN5tlVc3pP1l73Ss9k9Y/ghxYMfXPvL+XAKvk9b3ivxd+hPXlAPG/wSh1ejWi+L/f9+Y/HhkAwNC9j8kr0APA+VLIRQxuB8C2q4bquOoKwHa+gGhwPg7A0BgLteWwEMBk/D4T6CYSwJ/KxWgCfhPARTLPWUCzFMDgspLc/cMVwMTswyburRbA0BwVrSFvF8DjaNAjCwYYwGEKb3KDcRjAWt8cj8ywGMBklD46k8MYwCsrT5XvqRjAV5S1k2RkGMAPt4JH3vMXwAfbUQ+vWRfAoVO/rYuXFsDECgpWhq8VwA/xcrwIpBTAOaDAO813E8AfWe0j1y0SwABLakhqyRDAxnILzQOcDsBwzbf8jX4LwFNzjnQMQgjAKMT8A0vuBMANhueuMosBwF4fVnBoQfy/xAUAdWVt9b9Iql00ulPtv7Sb88DCC+C/Hxcak9/+uL/IYJ+V9ajSP6aPk5eAN+U/2seEGbo48D9L0o1nZ3b1PzpGDwM8S/o/aI6uMfmu/j/QWaoBYE0BQDXIqcCPBANAza6KSw97BEBDJp7OoK8FQOsEh77FoQZAE3SKN71RB0BcqG8ygMAHQCq8R5277wdAZaatbMjhB0AZLgXAoZkHQETl5DjZGgdA0fYZq4lpBkAyZIVPSIoFQOH8YqgUggRAajNOSUdWA0Db5YS4fwwCQJf1cqGRqgBArXPnJONs/j8B+9QBQ2z7P0HWq546X/g/11ikIY9R9T/OnTaJrU7yPyUHQAoNw+4/UzfjPdgo6T/eROEz4+HjP2oYdKw3/90/eJdwiAQj1T87Dz2V6JPKP+pATEEYKbo/t/Z31xCujj/uWxiddECrv03rh4NKG7q/NykhXT/JwL/Gf7pjwgjCv/3zrQEw3MC/FvoxH9+6ur9ykgFio7+uv3Wnu+m7/eU8",
          "dtype": "f8"
         },
         "yaxis": "y18"
        },
        {
         "line": {
          "color": "gray"
         },
         "mode": "lines",
         "name": "$\\gamma=1.8 \\quad \\nu=0$",
         "type": "scatter",
         "x": {
          "bdata": "AAAAAAAAAAB7FK5H4XqEP3sUrkfhepQ/uB6F61G4nj97FK5H4XqkP5qZmZmZmak/uB6F61G4rj/sUbgeheuxP3sUrkfherQ/CtejcD0Ktz+amZmZmZm5Pylcj8L1KLw/uB6F61G4vj+kcD0K16PAP+xRuB6F68E/MzMzMzMzwz97FK5H4XrEP8P1KFyPwsU/CtejcD0Kxz9SuB6F61HIP5qZmZmZmck/4XoUrkfhyj8pXI/C9SjMP3E9CtejcM0/uB6F61G4zj8AAAAAAADQP6RwPQrXo9A/SOF6FK5H0T/sUbgehevRP4/C9Shcj9I/MzMzMzMz0z/Xo3A9CtfTP3sUrkfhetQ/H4XrUbge1T/D9Shcj8LVP2dmZmZmZtY/CtejcD0K1z+uR+F6FK7XP1K4HoXrUdg/9ihcj8L12D+amZmZmZnZPz4K16NwPdo/4XoUrkfh2j+F61G4HoXbPylcj8L1KNw/zczMzMzM3D9xPQrXo3DdPxWuR+F6FN4/uB6F61G43j9cj8L1KFzfPwAAAAAAAOA/UrgehetR4D+kcD0K16PgP/YoXI/C9eA/SOF6FK5H4T+amZmZmZnhP+xRuB6F6+E/PgrXo3A94j+PwvUoXI/iP+F6FK5H4eI/MzMzMzMz4z+F61G4HoXjP9ejcD0K1+M/KVyPwvUo5D97FK5H4XrkP83MzMzMzOQ/H4XrUbge5T9xPQrXo3DlP8P1KFyPwuU/Fa5H4XoU5j9nZmZmZmbmP7gehetRuOY/CtejcD0K5z9cj8L1KFznP65H4XoUruc/AAAAAAAA6D9SuB6F61HoP6RwPQrXo+g/9ihcj8L16D9I4XoUrkfpP5qZmZmZmek/7FG4HoXr6T8+CtejcD3qP5DC9Shcj+o/4XoUrkfh6j8zMzMzMzPrP4XrUbgehes/16NwPQrX6z8pXI/C9SjsP3sUrkfheuw/zczMzMzM7D8fhetRuB7tP3E9CtejcO0/w/UoXI/C7T8VrkfhehTuP2dmZmZmZu4/uB6F61G47j8K16NwPQrvP1yPwvUoXO8/rkfhehSu7z8AAAAAAADwPylcj8L1KPA/UrgehetR8D97FK5H4XrwP6RwPQrXo/A/zczMzMzM8D/2KFyPwvXwPx+F61G4HvE/SOF6FK5H8T9xPQrXo3DxP5qZmZmZmfE/w/UoXI/C8T/sUbgehevxPxWuR+F6FPI/PgrXo3A98j9nZmZmZmbyP4/C9Shcj/I/uB6F61G48j/hehSuR+HyPwrXo3A9CvM/MzMzMzMz8z9cj8L1KFzzP4XrUbgehfM/rkfhehSu8z/Xo3A9CtfzPwAAAAAAAPQ/KVyPwvUo9D9SuB6F61H0P3sUrkfhevQ/pHA9Ctej9D/NzMzMzMz0P/YoXI/C9fQ/H4XrUbge9T9I4XoUrkf1P3E9CtejcPU/mpmZmZmZ9T/D9Shcj8L1P+xRuB6F6/U/Fa5H4XoU9j8+CtejcD32P2dmZmZmZvY/j8L1KFyP9j+4HoXrUbj2P+F6FK5H4fY/CtejcD0K9z8zMzMzMzP3P1yPwvUoXPc/hetRuB6F9z+uR+F6FK73P9ejcD0K1/c/AAAAAAAA+D8pXI/C9Sj4P1K4HoXrUfg/exSuR+F6+D+kcD0K16P4P83MzMzMzPg/9ihcj8L1+D8fhetRuB75P0jhehSuR/k/cT0K16Nw+T+amZmZmZn5P8P1KFyPwvk/7FG4HoXr+T8VrkfhehT6Pz4K16NwPfo/Z2ZmZmZm+j+QwvUoXI/6P7gehetRuPo/4XoUrkfh+j8K16NwPQr7PzMzMzMzM/s/XI/C9Shc+z+F61G4HoX7P65H4XoUrvs/16NwPQrX+z8AAAAAAAD8Pylcj8L1KPw/UrgehetR/D97FK5H4Xr8P6RwPQrXo/w/zczMzMzM/D8=",
          "dtype": "f8"
         },
         "xaxis": "x19",
         "y": {
          "bdata": "AAAAAAAAAIAFCduGr2env34/Fp8HYbW/DSDGol/CvL/lwZl1m83Av3X1iPAY3MG/FQICN/d3wb8+ORRSlCO/v7uvCAxIP7i/Ft4dJf50rL/Sl/exRoNxv1y/VAYGMq4/HWu/V4IfwT+BwnCeJhrMP4uMCl8RMtQ/2NGLvevv2j/7FgbgpRrhP9EdrOE+9+Q/CeqKFNEC6T/kauFicjHtPzBZho0uu/A/jWfCoAji8j+pb1cbPAb1PzmrZyuFIPc/sN2CGnsp+T/Xe+KGpBn7P7IL3gSM6fw/6RjS89SR/j/B63soqAUAQPJWOqmIpwBAixCcykArAUCOvIlUuo0BQNqM52MdzAFAKHHtQtnjAUAGT8amrNIBQCoLVjytlgFA4oWkb04uAUBzNT5bZ5gAQMu9up1vqP8/5mq4vdjC/T9cN4bgQoD7P8R2cm/K4fg/4WpVSHHp9T/9IjFhHpryP4e202w27+0/76SMCh4N5j8rL0pn3zHbPxOE7eQLfcI/DUJ/by1Hw79pQDD3ZlXdv2rylXag2ui/vWR5zsin8b+NhQKFP/v2v3XryYXAXfy/XSncgn7iAMCO5fymMJMDwAQ6jtCVOwbAtQwU5UHWCMCkHXePyV0LwGYcvl7OzA3AnXzycgUPEMCzHx5gLyYRwPfZ7S5tKRLAS78MPmUWE8C3eVCX4eoTwJsWWC/VpBTArviX02BCFcDKieG618EVwP84R63DIRbAQWgquehgFsB+90ZsSH4WwI+srIgkeRbA4SrHLgFRFsB2rdZ2pgUWwMlCi3UhlxXA+cHOqMQFFcDs1SvLJ1IUwFD+pg0nfRPA0OpFueGHEsCEvOY6uHMRwD4raJ1JQhDA5fTz7uDqDcA1vW6nfh4LwJCozzX5IwjAeQTXEjwABcD8htdzh7gBwABHkUHLpPy/v2HtRT+n9b+aHyOXxQjtv7QzHCPrId2/3p0iRxDBmzybMxwj6yHdP5sfI5fFCO0/zWHtRT+n9T8CR5FBy6T8P/2G13OHuAFAagTXEjwABUCWqM81+SMIQDW9bqd+HgtA7vTz7uDqDUA+K2idSUIQQIO85jq4cxFA0epFueGHEkBQ/qYNJ30TQO3VK8snUhRA+sHOqMQFFUDLQot1IZcVQHet1namBRZA4yrHLgFRFkCRrKyIJHkWQID3RmxIfhZAQ2gquehgFkD/OEetwyEWQMqJ4brXwRVArfiX02BCFUCbFlgv1aQUQLx5UJfh6hNATr8MPmUWE0D82e0ubSkSQLcfHmAvJhFAo3zycgUPEEBvHL5ezswNQLEdd4/JXQtAswwU5UHWCEADOo7QlTsGQInl/KYwkwNAYCncgn7iAEB968mFwF38P4mFAoU/+/Y/xGR5zsin8T9v8pV2oNroP5xAMPdmVd0/wkF/by1Hwz9ShO3kC33Cv0EvSmffMdu/7KSMCh4N5r+wttNsNu/tvwgjMWEemvK/5mpVSHHp9b/KdnJvyuH4v1c3huBCgPu/5Wq4vdjC/b/Gvbqdb6j/v281PltnmADA6oWkb04uAcAsC1Y8rZYBwApPxqas0gHAJ3HtQtnjAcDmjOdjHcwBwJG8iVS6jQHAkBCcykArAcD6VjqpiKcAwMDreyioBQDAABnS89SR/r+1C94EjOn8v+R74oakGfu/s92CGnsp+b9Iq2crhSD3v65vVxs8BvW/lWfCoAji8r8rWYaNLrvwv/dq4WJyMe2/BuqKFNEC6b/UHazhPvfkv+kWBuClGuG/udGLvevv2r+XjApfETLUv+bCcJ4mGsy/aWu/V4Ifwb+Ov1QGBjKuv66U97FGg3E/Ft4dJf50rD9XrwgMSD+4P4k5FFKUI78/8AECN/d3wT/B9YjwGNzBP/7BmXWbzcA/XR/Gol/CvD/dQBafB2G1P84J24avZ6c/GC1EVPshybw=",
          "dtype": "f8"
         },
         "yaxis": "y19"
        },
        {
         "line": {
          "color": "gray"
         },
         "mode": "lines",
         "name": "$\\gamma=1.6 \\quad \\nu=5/3 \\pi$",
         "type": "scatter",
         "x": {
          "bdata": "AAAAAAAAAAB7FK5H4XqEP3sUrkfhepQ/uB6F61G4nj97FK5H4XqkP5qZmZmZmak/uB6F61G4rj/sUbgeheuxP3sUrkfherQ/CtejcD0Ktz+amZmZmZm5Pylcj8L1KLw/uB6F61G4vj+kcD0K16PAP+xRuB6F68E/MzMzMzMzwz97FK5H4XrEP8P1KFyPwsU/CtejcD0Kxz9SuB6F61HIP5qZmZmZmck/4XoUrkfhyj8pXI/C9SjMP3E9CtejcM0/uB6F61G4zj8AAAAAAADQP6RwPQrXo9A/SOF6FK5H0T/sUbgehevRP4/C9Shcj9I/MzMzMzMz0z/Xo3A9CtfTP3sUrkfhetQ/H4XrUbge1T/D9Shcj8LVP2dmZmZmZtY/CtejcD0K1z+uR+F6FK7XP1K4HoXrUdg/9ihcj8L12D+amZmZmZnZPz4K16NwPdo/4XoUrkfh2j+F61G4HoXbPylcj8L1KNw/zczMzMzM3D9xPQrXo3DdPxWuR+F6FN4/uB6F61G43j9cj8L1KFzfPwAAAAAAAOA/UrgehetR4D+kcD0K16PgP/YoXI/C9eA/SOF6FK5H4T+amZmZmZnhP+xRuB6F6+E/PgrXo3A94j+PwvUoXI/iP+F6FK5H4eI/MzMzMzMz4z+F61G4HoXjP9ejcD0K1+M/KVyPwvUo5D97FK5H4XrkP83MzMzMzOQ/H4XrUbge5T9xPQrXo3DlP8P1KFyPwuU/Fa5H4XoU5j9nZmZmZmbmP7gehetRuOY/CtejcD0K5z9cj8L1KFznP65H4XoUruc/AAAAAAAA6D9SuB6F61HoP6RwPQrXo+g/9ihcj8L16D9I4XoUrkfpP5qZmZmZmek/7FG4HoXr6T8+CtejcD3qP5DC9Shcj+o/4XoUrkfh6j8zMzMzMzPrP4XrUbgehes/16NwPQrX6z8pXI/C9SjsP3sUrkfheuw/zczMzMzM7D8fhetRuB7tP3E9CtejcO0/w/UoXI/C7T8VrkfhehTuP2dmZmZmZu4/uB6F61G47j8K16NwPQrvP1yPwvUoXO8/rkfhehSu7z8AAAAAAADwPylcj8L1KPA/UrgehetR8D97FK5H4XrwP6RwPQrXo/A/zczMzMzM8D/2KFyPwvXwPx+F61G4HvE/SOF6FK5H8T9xPQrXo3DxP5qZmZmZmfE/w/UoXI/C8T/sUbgehevxPxWuR+F6FPI/PgrXo3A98j9nZmZmZmbyP4/C9Shcj/I/uB6F61G48j/hehSuR+HyPwrXo3A9CvM/MzMzMzMz8z9cj8L1KFzzP4XrUbgehfM/rkfhehSu8z/Xo3A9CtfzPwAAAAAAAPQ/KVyPwvUo9D9SuB6F61H0P3sUrkfhevQ/pHA9Ctej9D/NzMzMzMz0P/YoXI/C9fQ/H4XrUbge9T9I4XoUrkf1P3E9CtejcPU/mpmZmZmZ9T/D9Shcj8L1P+xRuB6F6/U/Fa5H4XoU9j8+CtejcD32P2dmZmZmZvY/j8L1KFyP9j+4HoXrUbj2P+F6FK5H4fY/CtejcD0K9z8zMzMzMzP3P1yPwvUoXPc/hetRuB6F9z+uR+F6FK73P9ejcD0K1/c/AAAAAAAA+D8pXI/C9Sj4P1K4HoXrUfg/exSuR+F6+D+kcD0K16P4P83MzMzMzPg/9ihcj8L1+D8fhetRuB75P0jhehSuR/k/cT0K16Nw+T+amZmZmZn5Pw==",
          "dtype": "f8"
         },
         "xaxis": "x20",
         "y": {
          "bdata": "AAAAAAAAAIAWDn/2Jteyv+HpRfbjNsK/VpSlLewmyr+BIKr84oHQv84bIBmzTNO/HEfipCZc1b8wM7BKFZvWvxkQ3To499a/RNPX1Gth1r+10Ucm6M3Uv8THi5hvNNK/yNTvgOYgzb/RlIfBWMLDv3eTlTWrprC/XDamGUB5pD9ji56ZIn3EP4SgLawY1tI/w0HE/KZD3D9nVIUN2DjjP7hxbZGzo+g/RfAGUn5U7j9DgemK+R3yPzSGaZnLJPU/y1fcQPM1+D+ZHyFfQUj7P6V37uoyUv4/1qJKpwWlAEBzy33X9xICQHj4ZWoBbgNAezTptUCxBEC8AKUl79cFQA7yujxv3QZAKDOmTlq9B0DSTBrJjXMIQFm77+k3/AhAoSuLveNTCUC2G/VDhHcJQB9o/Jx+ZAlAynE5HrMYCUD6fZI4hZIIQAdk9RXi0AdAEXBO20XTBkAdzk9+v5kFQCN2ViLzJARAXZKX8xp2AkCWdbl7Bo8AQADLBd4w5Pw/+xGw6oVE+D+H3YXsBEbzP5Oa7sxb4es/W//6/O+a4D+tLWZn9jHDP3S4+zuW0s2/aUVg27MR5L9MBQ9VVXnwv452amBA//a/Agc13a+N/b9SEaL7twsCwDnk3I6RRwXAe2iJxbBzCMDmITaQbIkLwOgWfqE2gg7AyRqemtWrEMCLM+5D0AESwBsuEusaQBPADMd03/BjFMA2VtXwv2oVwNxvcssuUhbA1gGe0CIYF8CHO5FcxboXwPBLyWuIOBjAXfbMkyqQGMCNA/JEusAYwBcujEyYyRjAqY3YkHmqGMB2s/MBaGMYwCNvML3C9BfABjs0Yj1fF8BDME+b3qMWwNyyktz9wxXAZl4uX0DBFMAO05BglZ0TwF2urK4xWxLAYkyMjIr8EMA2Vxj4nwgPwJgxP/bM6gvA7hHTiMClCMCvPWFI7D8FwKP4i+f/vwHAFM5fObNZ/L+SWWZL7Br1v5FTJjmCo+u/vrZJDA8x2r9PD9ALxPOkP+wxJXLt8N4/TTtEv5xI7T+1nAtPE1P1P9cjCrxkvPs/RjwYV2vqAEA3WGLg58gDQNthvgrQdAZAvQ9Z8srpCEDoe728ByQLQDk2czdFIA1Ah9BpBdjbDkB5J5ymVyoQQHn8Ee+rxBBATbvz4n48EUAmIaMqtpERQPVAx0qGxBFABr+cGnHVEUDwPut6Q8URQIkepVQSlRFA5ysS6DZGEUCPCyl3StoQQAbeYFchUxBAliGS8YplD0AQUSjj4PYNQBBR8DwKXwxA376h0hGjCkD4PZaQOcgIQK4hExHs0wZAwnpV763LBEA7prX/DrUCQElYVJSblQBAiYft6pvl/D+a2wVoAKT4Pyvj5Pa8cPQ/mkMoDrRV8D+tmWByc7joP8p6rq75GeE/crLzfsm/0z+dMt7mLcS4P64SuWhafLm/dlI+6RTb0b9q5BlPOzHcvwFYuszkqeK/ir5sLoSc5r8vCv0Zqe3pvwu2/bCInOy/7C7191iq7r8xgTsfIg3wv/yv44WrePC/IEEMZTSb8L9mcFi8/3jwv8OtXl0XF/C/AbMXpXL27r/vPL64hlftvwb2/oE5X+u/qaZSXT0c6b9Mjnzq9p3mvzblo7xJ9OO/JSq22mMv4b/Ar85MEb/cv/ErIIO3Kde/C7/rElm+0b9829v2CjfJv0kPRilneb+/AyDF3w8Rrb/qb4gJG7T6PA==",
          "dtype": "f8"
         },
         "yaxis": "y20"
        },
        {
         "line": {
          "color": "gray"
         },
         "mode": "lines",
         "name": "$\\gamma=1.4 \\quad \\nu=0$",
         "type": "scatter",
         "x": {
          "bdata": "AAAAAAAAAAB7FK5H4XqEP3sUrkfhepQ/uB6F61G4nj97FK5H4XqkP5qZmZmZmak/uB6F61G4rj/sUbgeheuxP3sUrkfherQ/CtejcD0Ktz+amZmZmZm5Pylcj8L1KLw/uB6F61G4vj+kcD0K16PAP+xRuB6F68E/MzMzMzMzwz97FK5H4XrEP8P1KFyPwsU/CtejcD0Kxz9SuB6F61HIP5qZmZmZmck/4XoUrkfhyj8pXI/C9SjMP3E9CtejcM0/uB6F61G4zj8AAAAAAADQP6RwPQrXo9A/SOF6FK5H0T/sUbgehevRP4/C9Shcj9I/MzMzMzMz0z/Xo3A9CtfTP3sUrkfhetQ/H4XrUbge1T/D9Shcj8LVP2dmZmZmZtY/CtejcD0K1z+uR+F6FK7XP1K4HoXrUdg/9ihcj8L12D+amZmZmZnZPz4K16NwPdo/4XoUrkfh2j+F61G4HoXbPylcj8L1KNw/zczMzMzM3D9xPQrXo3DdPxWuR+F6FN4/uB6F61G43j9cj8L1KFzfPwAAAAAAAOA/UrgehetR4D+kcD0K16PgP/YoXI/C9eA/SOF6FK5H4T+amZmZmZnhP+xRuB6F6+E/PgrXo3A94j+PwvUoXI/iP+F6FK5H4eI/MzMzMzMz4z+F61G4HoXjP9ejcD0K1+M/KVyPwvUo5D97FK5H4XrkP83MzMzMzOQ/H4XrUbge5T9xPQrXo3DlP8P1KFyPwuU/Fa5H4XoU5j9nZmZmZmbmP7gehetRuOY/CtejcD0K5z9cj8L1KFznP65H4XoUruc/AAAAAAAA6D9SuB6F61HoP6RwPQrXo+g/9ihcj8L16D9I4XoUrkfpP5qZmZmZmek/7FG4HoXr6T8+CtejcD3qP5DC9Shcj+o/4XoUrkfh6j8zMzMzMzPrP4XrUbgehes/16NwPQrX6z8pXI/C9SjsP3sUrkfheuw/zczMzMzM7D8fhetRuB7tP3E9CtejcO0/w/UoXI/C7T8VrkfhehTuP2dmZmZmZu4/uB6F61G47j8K16NwPQrvP1yPwvUoXO8/rkfhehSu7z8AAAAAAADwPylcj8L1KPA/UrgehetR8D97FK5H4XrwP6RwPQrXo/A/zczMzMzM8D/2KFyPwvXwPx+F61G4HvE/SOF6FK5H8T9xPQrXo3DxP5qZmZmZmfE/w/UoXI/C8T/sUbgehevxPxWuR+F6FPI/PgrXo3A98j9nZmZmZmbyP4/C9Shcj/I/uB6F61G48j/hehSuR+HyPwrXo3A9CvM/MzMzMzMz8z9cj8L1KFzzP4XrUbgehfM/rkfhehSu8z/Xo3A9CtfzPwAAAAAAAPQ/KVyPwvUo9D9SuB6F61H0P3sUrkfhevQ/pHA9Ctej9D/NzMzMzMz0P/YoXI/C9fQ/H4XrUbge9T9I4XoUrkf1P3E9CtejcPU/mpmZmZmZ9T/D9Shcj8L1P+xRuB6F6/U/Fa5H4XoU9j8+CtejcD32P2dmZmZmZvY/",
          "dtype": "f8"
         },
         "xaxis": "x21",
         "y": {
          "bdata": "AAAAAAAAAIBr/Y30O3ukP6e4/pXT2rg/QZ8isH7DxT+ZhFgF+nfQP0iqwkvI3NY/p1poSd/v3T+KqWPV2cbiPxqH8zH5x+Y/omcebwHn6j9KOS6EyA7vPycY/mbHlPE/WKLLtqSQ8z+OU/f99m/1P/ZEuVPfJ/c//kB758qt+D9IfiEXmPf5PwPtVVq6+/o/ZPJSklyx+z9mGlBSgRD8Pxkgn7ogEvw/OTuoh0Ow+z/+0DT+Gub6P8IKv2cVsPk/L+mv2+4L+D+U8HUdvvj1PwrQC2P9dvM/Pb29446I8D/bpDI3emHqP5QPonlt6OI/il1OVRlk1T8o1UN4t9CsPwb7xuKU1c6/L4GidcDB4b/lo/7eXULsv6r75I/Uj/O/q1f31y8g+b+M9pgW6sT+vzmq26INOALAsqs+E7gJBcB22935KNAHwPT8zJsHhArAx0/zpgIeDcBuQv8M5ZYPwGCBkl3V8xDAxEHveMoEEsBxSGcAH/sSwOZZQhbW0xPAXS8UwzGMFMBRSABAuyEVwI2nrIZKkhXAzdgzEA3cFcAc2rmui/0VwG2E12+v9RXAblHVeMXDFcAXwKDQgWcVwPR3fg4B4RTApZCt58gwFMC2qnSZx1cTwCA0XjBSVxLA2pC0sCExEcBGdh5Pns4PwOVq212d+AzAZAPW5NLlCcAZffaJbZwGwEQAubUoIwPATsaP9XYC/78GskVCjHz3v42ReiL6iO+/AqhLz9yq378fO8MsLBHjPPKnS8/cqt8/oJF6IvqI7z8DskVCjHz3P1bGj/V2Av8/QgC5tSgjA0AWffaJbZwGQGcD1uTS5QlA5WrbXZ34DEBGdh5Pns4PQNmQtLAhMRFAIjReMFJXEkC2qnSZx1cTQKmQrefIMBRA9Hd+DgHhFEAYwKDQgWcVQG5R1XjFwxVAboTXb6/1FUAb2rmui/0VQMzYMxAN3BVAjaeshkqSFUBUSABAuyEVQFsvFMMxjBRA5llCFtbTE0BwSGcAH/sSQMVB73jKBBJAYYGSXdXzEEB0Qv8M5ZYPQM9P86YCHg1A7vzMmweECkB42935KNAHQLSrPhO4CQVANarbog04AkCJ9pgW6sT+P6pX99cvIPk/qPvkj9SP8z+2o/7eXULsPxOBonXAweE/rvrG4pTVzj/x1UN4t9Csv89dTlUZZNW/pw+ieW3o4r8CpTI3emHqv0q9veOOiPC/ENALY/1287+e8HUdvvj1vyvpr9vuC/i/ugq/ZxWw+b8B0TT+Gub6vzY7qIdDsPu/HCCfuiAS/L9lGlBSgRD8v3DyUpJcsfu/DO1VWrr7+r9OfiEXmPf5vwJBe+fKrfi/+kS5U98n97+HU/f99m/1v1yiy7akkPO/Khj+ZseU8b9ROS6EyA7vv4BnHm8B5+q/IofzMfnH5r+RqWPV2cbiv5paaEnf792/D6rCS8jc1r+shFgF+nfQv06fIrB+w8W/2bj+ldPauL9w/I30O3ukv9IhM3982dI8",
          "dtype": "f8"
         },
         "yaxis": "y21"
        },
        {
         "line": {
          "color": "gray"
         },
         "mode": "lines",
         "name": "$\\gamma=1 \\quad \\nu=0$",
         "type": "scatter",
         "x": {
          "bdata": "AAAAAAAAAAB7FK5H4XqEP3sUrkfhepQ/uB6F61G4nj97FK5H4XqkP5qZmZmZmak/uB6F61G4rj/sUbgeheuxP3sUrkfherQ/CtejcD0Ktz+amZmZmZm5Pylcj8L1KLw/uB6F61G4vj+kcD0K16PAP+xRuB6F68E/MzMzMzMzwz97FK5H4XrEP8P1KFyPwsU/CtejcD0Kxz9SuB6F61HIP5qZmZmZmck/4XoUrkfhyj8pXI/C9SjMP3E9CtejcM0/uB6F61G4zj8AAAAAAADQP6RwPQrXo9A/SOF6FK5H0T/sUbgehevRP4/C9Shcj9I/MzMzMzMz0z/Xo3A9CtfTP3sUrkfhetQ/H4XrUbge1T/D9Shcj8LVP2dmZmZmZtY/CtejcD0K1z+uR+F6FK7XP1K4HoXrUdg/9ihcj8L12D+amZmZmZnZPz4K16NwPdo/4XoUrkfh2j+F61G4HoXbPylcj8L1KNw/zczMzMzM3D9xPQrXo3DdPxWuR+F6FN4/uB6F61G43j9cj8L1KFzfPwAAAAAAAOA/UrgehetR4D+kcD0K16PgP/YoXI/C9eA/SOF6FK5H4T+amZmZmZnhP+xRuB6F6+E/PgrXo3A94j+PwvUoXI/iP+F6FK5H4eI/MzMzMzMz4z+F61G4HoXjP9ejcD0K1+M/KVyPwvUo5D97FK5H4XrkP83MzMzMzOQ/H4XrUbge5T9xPQrXo3DlP8P1KFyPwuU/Fa5H4XoU5j9nZmZmZmbmP7gehetRuOY/CtejcD0K5z9cj8L1KFznP65H4XoUruc/AAAAAAAA6D9SuB6F61HoP6RwPQrXo+g/9ihcj8L16D9I4XoUrkfpP5qZmZmZmek/7FG4HoXr6T8+CtejcD3qP5DC9Shcj+o/4XoUrkfh6j8zMzMzMzPrP4XrUbgehes/16NwPQrX6z8pXI/C9SjsP3sUrkfheuw/zczMzMzM7D8fhetRuB7tP3E9CtejcO0/w/UoXI/C7T8VrkfhehTuP2dmZmZmZu4/uB6F61G47j8K16NwPQrvP1yPwvUoXO8/rkfhehSu7z8AAAAAAADwPw==",
          "dtype": "f8"
         },
         "xaxis": "x22",
         "y": {
          "bdata": "AAAAAAAAAIDAAk//YCbJP1+yiEplzdg/6jXQQ5gr4j/qUxbUHG7nP4f23ApcBuw/JnEvgG3P7z/bcJseBlTxP1lUzZyXOfI/AAM0J0iM8j9HheK1j0LyP7HrdBewVfE/8I6/TbCD7z8M97KrdQzrP8mtRE4zSuU/yE0znAmP3D8NpZskAVTIP8DdxuwFuLm/ddmYfGEB279CocGWNKfov0mF4rWPQvK/XAkCC4F4+L9ws5bvBd/+v5diPoMurwLAWYa13uTuBcAYLURU+yEJwHtUl3CtOwzAUV3CZ1AvD8BAWhAwQ/gQwK8UCGq4ORLAgGJTn3BWE8DWvQ6nQ0kUwD9pLvCNDRXA+ldhDUSfFcCsGdP+A/sVwPbOCPMjHhbAYXEtQr4GFsCIDjByurMVwIx77h3TJBXAL8wYpphaFMCBYlOfcFYTwBX2Kv6RGhLAcOd6Dv6pEMDj/nuh7BAOwBI3YcjedArAvET+YAKKBsCzj4kZqVsCwJaawq467Pu/4chldurM8r/Wd7MHiuniv4TnA5oXubu8znezB4rp4j/dyGV26szyP6Sawq467Ps/u4+JGalbAkDCRP5gAooGQBg3YcjedApA4v57oewQDkBs53oO/qkQQBT2Kv6RGhJAgGJTn3BWE0AvzBimmFoUQIx77h3TJBVAiA4wcrqzFUBicS1CvgYWQPbOCPMjHhZArBnT/gP7FUD6V2ENRJ8VQDxpLvCNDRVA1L0Op0NJFECCYlOfcFYTQLMUCGq4ORJAP1oQMEP4EEBTXcJnUC8PQHZUl3CtOwxAGi1EVPshCUBihrXe5O4FQJViPoMurwJAebOW7wXf/j9ZCQILgXj4P0yF4rWPQvI/L6HBljSn6D9v2Zh8YQHbP5PcxuwFuLk/taSbJAFUyL/ITTOcCY/cv8WtRE4zSuW/DPeyq3UM67/wjr9NsIPvv7TrdBewVfG/R4XitY9C8r8DAzQnSIzyv1hUzZyXOfK/2nCbHgZU8b8lcS+Abc/vv4r23ApcBuy/+1MW1Bxu57/lNdBDmCviv4SyiEplzdi/qgJP/2Amyb+D5wOaF7nLvA==",
          "dtype": "f8"
         },
         "yaxis": "y22"
        },
        {
         "line": {
          "color": "gray"
         },
         "mode": "lines",
         "name": "$\\gamma=2 \\quad \\nu=4/3 \\pi$",
         "type": "scatter",
         "x": {
          "bdata": "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",
          "dtype": "f8"
         },
         "xaxis": "x23",
         "y": {
          "bdata": "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",
          "dtype": "f8"
         },
         "yaxis": "y23"
        },
        {
         "line": {
          "color": "gray"
         },
         "mode": "lines",
         "name": "$\\gamma=2.6 \\quad \\nu=2/3 \\pi$",
         "type": "scatter",
         "x": {
          "bdata": "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",
          "dtype": "f8"
         },
         "xaxis": "x24",
         "y": {
          "bdata": "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",
          "dtype": "f8"
         },
         "yaxis": "y24"
        },
        {
         "line": {
          "color": "gray"
         },
         "mode": "lines",
         "name": "$\\gamma=2.8 \\quad \\nu=5/3 \\pi$",
         "type": "scatter",
         "x": {
          "bdata": "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",
          "dtype": "f8"
         },
         "xaxis": "x25",
         "y": {
          "bdata": "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",
          "dtype": "f8"
         },
         "yaxis": "y25"
        },
        {
         "line": {
          "color": "gray"
         },
         "mode": "lines",
         "name": "$\\gamma=1.2 \\quad \\nu=4/3 \\pi$",
         "type": "scatter",
         "x": {
          "bdata": "AAAAAAAAAAB7FK5H4XqEP3sUrkfhepQ/uB6F61G4nj97FK5H4XqkP5qZmZmZmak/uB6F61G4rj/sUbgeheuxP3sUrkfherQ/CtejcD0Ktz+amZmZmZm5Pylcj8L1KLw/uB6F61G4vj+kcD0K16PAP+xRuB6F68E/MzMzMzMzwz97FK5H4XrEP8P1KFyPwsU/CtejcD0Kxz9SuB6F61HIP5qZmZmZmck/4XoUrkfhyj8pXI/C9SjMP3E9CtejcM0/uB6F61G4zj8AAAAAAADQP6RwPQrXo9A/SOF6FK5H0T/sUbgehevRP4/C9Shcj9I/MzMzMzMz0z/Xo3A9CtfTP3sUrkfhetQ/H4XrUbge1T/D9Shcj8LVP2dmZmZmZtY/CtejcD0K1z+uR+F6FK7XP1K4HoXrUdg/9ihcj8L12D+amZmZmZnZPz4K16NwPdo/4XoUrkfh2j+F61G4HoXbPylcj8L1KNw/zczMzMzM3D9xPQrXo3DdPxWuR+F6FN4/uB6F61G43j9cj8L1KFzfPwAAAAAAAOA/UrgehetR4D+kcD0K16PgP/YoXI/C9eA/SOF6FK5H4T+amZmZmZnhP+xRuB6F6+E/PgrXo3A94j+PwvUoXI/iP+F6FK5H4eI/MzMzMzMz4z+F61G4HoXjP9ejcD0K1+M/KVyPwvUo5D97FK5H4XrkP83MzMzMzOQ/H4XrUbge5T9xPQrXo3DlP8P1KFyPwuU/Fa5H4XoU5j9nZmZmZmbmP7gehetRuOY/CtejcD0K5z9cj8L1KFznP65H4XoUruc/AAAAAAAA6D9SuB6F61HoP6RwPQrXo+g/9ihcj8L16D9I4XoUrkfpP5qZmZmZmek/7FG4HoXr6T8+CtejcD3qP5DC9Shcj+o/4XoUrkfh6j8zMzMzMzPrP4XrUbgehes/16NwPQrX6z8pXI/C9SjsP3sUrkfheuw/zczMzMzM7D8fhetRuB7tP3E9CtejcO0/w/UoXI/C7T8VrkfhehTuP2dmZmZmZu4/uB6F61G47j8K16NwPQrvP1yPwvUoXO8/rkfhehSu7z8AAAAAAADwPylcj8L1KPA/UrgehetR8D97FK5H4XrwP6RwPQrXo/A/zczMzMzM8D/2KFyPwvXwPx+F61G4HvE/SOF6FK5H8T9xPQrXo3DxP5qZmZmZmfE/w/UoXI/C8T/sUbgehevxPxWuR+F6FPI/PgrXo3A98j9nZmZmZmbyP4/C9Shcj/I/uB6F61G48j/hehSuR+HyPwrXo3A9CvM/MzMzMzMz8z8=",
          "dtype": "f8"
         },
         "xaxis": "x26",
         "y": {
          "bdata": "GC1EVPshqbwIfyK34JK+vz2mArIF0sy/0DVDgzoc1L9cmNNUUpLYv3HcWRGFpNu/lRVPC/Ex3b8CnVPsHiDdvxh3nXFxW9u/oTowi3zX178bGHWhQo/Sv39c7DuuCse/FgYcgi0fpr8o9GNnh42+P0W++PJ6l9M/N+jKJyt84D+8wybNns/nP3J15Minr+8/YlaevIQB9D8nscaPB1f4P67TjIx0yfw/X1gxjISkAEAZUHbsruICQAxk/rLPFgVAOIdecWQ4B0Cw59ba7z4JQHwIbckXIgtAtV0KBcPZDEAtnCFmNl4OQDOYUu8wqA9AdoNoPoNYEEC/YXVWXLkQQGZ8b9UG9BBAmpYaRlIGEUCVD2l8g+4QQOK/hu9bqxBApzh0fx88EEAc+BciMUEPQG6EvOE0sg1ASrUy5gPNC0B6RkKZaJQJQCqw5k44DAdASNbY9Ek5BEBF4LlkaSEBQL15OgCPlvs/DdAYkc589D/h2FW/IAzqPxxTGDNvENU/w4LsoaCxxb8SDTgIUqrlvxbz1yFtBPO/0r7stUgv+784ig26cKABwJclJDI9kgXA2RNA0NliCcCrS0CLZAgNwL/rk9+zPBDAusJKr3vWEcA+TyQ9Zk0TwGt7B2KvnRTA4LKS3P3DFcC7Wu2Tbb0WwNMYhmaYhxfA8EXeZ50gGMC6orh1JocYwCSDhhJsuhjAyYKweDe6GMDhB0Pg4oYYwBRsh/ZXIRjAPlEUjQyLF8BpMs6L/cUWwAakGDeo1BXAyHUF4QG6FMDBTo4hbnkTwLi5xbazFhLAX4BdMvCVEMDtZ6U7FfcNwDsn7YNKmArA/my2gh0ZB8AZG7RuZYMDwOyjxjsowv+/x3BKFi14+L/PWHg4azzxv2GYmj7eQ+S//6ypdifYyb9mbnnd/TfLP3ti28TwZ+M/3CZ1/Dc67z8V9Nx2KhX1P2DGtK+SEPo/J4yarpKF/j/58oW7KDYBQHGuniR53wJAXkmchdA8BEBjw7zcS00FQApgG2oOEQZA4ykraz2JBkCUAlpt+LcGQGl1vVVOoAZAyFjQRi9GBkAnEd+XW64FQBAfpBtQ3gRAKwOm/C/cA0BmyAN+rK4CQAk6a/bqXAFAvTu2wdLc/z+KnQHHw9X8PwgWx2BbtPk/mbU6S0+I9j+BnCUnHmHzPyOK2x3WTfA/M9hZyLq56j/IZSC6ejflPw4p3ibiLeA/EUQP295m1z9+Rz7BXW/PP5vrfqr43sI/5o+1ztSjsj9bAkwL2XyXPw5TGh6/hle/AAAAAAAAAIA=",
          "dtype": "f8"
         },
         "yaxis": "y26"
        },
        {
         "line": {
          "color": "gray"
         },
         "mode": "lines",
         "name": "$\\gamma=1.8 \\quad \\nu=1/3 \\pi$",
         "type": "scatter",
         "x": {
          "bdata": "AAAAAAAAAAB7FK5H4XqEP3sUrkfhepQ/uB6F61G4nj97FK5H4XqkP5qZmZmZmak/uB6F61G4rj/sUbgeheuxP3sUrkfherQ/CtejcD0Ktz+amZmZmZm5Pylcj8L1KLw/uB6F61G4vj+kcD0K16PAP+xRuB6F68E/MzMzMzMzwz97FK5H4XrEP8P1KFyPwsU/CtejcD0Kxz9SuB6F61HIP5qZmZmZmck/4XoUrkfhyj8pXI/C9SjMP3E9CtejcM0/uB6F61G4zj8AAAAAAADQP6RwPQrXo9A/SOF6FK5H0T/sUbgehevRP4/C9Shcj9I/MzMzMzMz0z/Xo3A9CtfTP3sUrkfhetQ/H4XrUbge1T/D9Shcj8LVP2dmZmZmZtY/CtejcD0K1z+uR+F6FK7XP1K4HoXrUdg/9ihcj8L12D+amZmZmZnZPz4K16NwPdo/4XoUrkfh2j+F61G4HoXbPylcj8L1KNw/zczMzMzM3D9xPQrXo3DdPxWuR+F6FN4/uB6F61G43j9cj8L1KFzfPwAAAAAAAOA/UrgehetR4D+kcD0K16PgP/YoXI/C9eA/SOF6FK5H4T+amZmZmZnhP+xRuB6F6+E/PgrXo3A94j+PwvUoXI/iP+F6FK5H4eI/MzMzMzMz4z+F61G4HoXjP9ejcD0K1+M/KVyPwvUo5D97FK5H4XrkP83MzMzMzOQ/H4XrUbge5T9xPQrXo3DlP8P1KFyPwuU/Fa5H4XoU5j9nZmZmZmbmP7gehetRuOY/CtejcD0K5z9cj8L1KFznP65H4XoUruc/AAAAAAAA6D9SuB6F61HoP6RwPQrXo+g/9ihcj8L16D9I4XoUrkfpP5qZmZmZmek/7FG4HoXr6T8+CtejcD3qP5DC9Shcj+o/4XoUrkfh6j8zMzMzMzPrP4XrUbgehes/16NwPQrX6z8pXI/C9SjsP3sUrkfheuw/zczMzMzM7D8fhetRuB7tP3E9CtejcO0/w/UoXI/C7T8VrkfhehTuP2dmZmZmZu4/uB6F61G47j8K16NwPQrvP1yPwvUoXO8/rkfhehSu7z8AAAAAAADwPylcj8L1KPA/UrgehetR8D97FK5H4XrwP6RwPQrXo/A/zczMzMzM8D/2KFyPwvXwPx+F61G4HvE/SOF6FK5H8T9xPQrXo3DxP5qZmZmZmfE/w/UoXI/C8T/sUbgehevxPxWuR+F6FPI/PgrXo3A98j9nZmZmZmbyP4/C9Shcj/I/uB6F61G48j/hehSuR+HyPwrXo3A9CvM/MzMzMzMz8z9cj8L1KFzzP4XrUbgehfM/rkfhehSu8z/Xo3A9CtfzPwAAAAAAAPQ/KVyPwvUo9D9SuB6F61H0P3sUrkfhevQ/pHA9Ctej9D/NzMzMzMz0P/YoXI/C9fQ/H4XrUbge9T9I4XoUrkf1P3E9CtejcPU/mpmZmZmZ9T/D9Shcj8L1P+xRuB6F6/U/Fa5H4XoU9j8+CtejcD32P2dmZmZmZvY/j8L1KFyP9j+4HoXrUbj2P+F6FK5H4fY/CtejcD0K9z8zMzMzMzP3P1yPwvUoXPc/hetRuB6F9z+uR+F6FK73P9ejcD0K1/c/AAAAAAAA+D8pXI/C9Sj4P1K4HoXrUfg/exSuR+F6+D+kcD0K16P4P83MzMzMzPg/9ihcj8L1+D8fhetRuB75P0jhehSuR/k/cT0K16Nw+T+amZmZmZn5P8P1KFyPwvk/7FG4HoXr+T8VrkfhehT6Pz4K16NwPfo/Z2ZmZmZm+j+QwvUoXI/6P7gehetRuPo/4XoUrkfh+j8K16NwPQr7PzMzMzMzM/s/XI/C9Shc+z+F61G4HoX7P65H4XoUrvs/16NwPQrX+z8AAAAAAAD8Pylcj8L1KPw/UrgehetR/D97FK5H4Xr8P6RwPQrXo/w/zczMzMzM/D8=",
          "dtype": "f8"
         },
         "xaxis": "x27",
         "y": {
          "bdata": "GC1EVPshuTyZHZNIEquIP8ePozaHDKI/D/UFOnK3sT+ocvyb5AK9Pz1j/nQUXMU/M/kqIXlOzT9aHzaUcBvTP4zcP2Cr99c/Iauz8g0n3T8MZVb7iEnhP2tyQ8PlEeQ/g/hDnRfg5j94B33mLafpP5nmgUnzWew/S4LpABXr7j8y9HpcpabwPwo0rFO/ufE/QWejt3qo8j9zSCW0umzzP9qkuG+2APQ/7Ptldgtf9D8/TTk9z4L0P6seQo+fZ/Q/egZnt7EJ9D8fB2094GXzP+teCBC3efI/0bKj+X1D8T8cjHSDgoTvP4ERQMKw6+s/90+naNW95z+Tkt835P3iP7YB1AHuYNs/xpdJnylvzz+GjsEjZnuoP39BshF2CcW/3K9HGBTv2L8eNnQnfAvkv9a8776M8Ou/MSnFDu4L8r9IFYNkuDj2v8lAa8Asdvq/k7jZCmm7/r8XTSqxmn8BwEH9cW4MnAPA9gU0ljeuBcDtIVZ5P7EHwO1NAUhIoAnAU4LfmoJ2C8CXR34CNy8NwJ0f14DRxQ7Azo2HaPYaEMDXuumwrr0QwH5/qPMdSRHAYyxPtXe7EcDgp8VeGxMSwNngj52YThLAQYhTX7NsEsDtS3deZ2wSwKzUrDbrTBLAKsNL+bINEsC0P406cq4RwKyg8pEdLxHAbkFrieuPEMA+kEXwqaIPwDoyfY4p6A3AQZJnQE7yC8ABXYYLkMMJwLvCF7TiXgfAUmcEq7DHBMCmOt3n1AECwAw8iHcnI/6/itQhWSX397/4za/Tnonxv8+Shb5XyuW/cKP1ZK9T0L9PZdvIh9zGP9aHM//BwOM/1Nuqxlnt8D8wfTYiKfb3P0FC+sJu7v4/DWgsAuvkAkC/ufrbFz4GQJP3L9rFfAlAIWlF9iibDEAItmNrrZMPQCDC4rqBMBFABYKTQRV/EkCDa1jdPbMTQMzOJ+LZyhRA37KS3P3DFUAGklmU+JwWQHXPPJBWVBdAddoOE+XoF0DfE0eLtFkYQICenW8aphhAyjaOhLLNGEAO0P+HX9AYQHa7tEFLrhhAdC6Q+OVnGEDKuyZO5f0XQMxbdINCcRdAwqHwKjjDFkBIb41NP/UVQBGxcgkMCRVAwGd/sokAFEBokLp91t0SQPS56sE+oxFAt7V+2DdTEEAUO5VVteANQD+0sPC7+gpAG2lQxyD6B0Alr3ampOQEQIC2PGofwAFABb6QzeYk/T/O9WWgAcP2P1/GtnwyZvA/5+4Lpc0z5D8zKWef80nPP00A5E1bCMG/4miUZdjq37/KM246IDTrv2707loK9vK/qgcms0kG+L91DyPVNsP8vzxqjhYGkwDAbC/C53CUAsBICWykW2MEwPEyUp+9/QXARWnSaQhiB8AGozFjKY8IwIw/mCOKhAnAOY7nww9CCsA2JlAGGcgKwNNnP2Z7FwvAMy/XGH8xC8Dm6qYJ2hcLwJrewuGpzArAtpGXKW1SCsDD2+6X+6sJwEemhKJ93AjADco+ZmPnB8AhTpn+WtAGwPtCG2VGmwXA5Hut8jBMBMBBL3GdROcCwM5INw6/cAHAVK/xUc3Z/79MGVpH/7/8v8uvI42CnPm/Hnnk4JZ39r8vpVTxOFnzv3KRPQ8PSfC/LMxc9K2c6r94Wavpqd/kv+HS1SURz96/51xvjCV/1L9IZCzhLMfFv8VLxMObbaC/7UU5Wi3Qtz9NXZIRPyzKPzRM0goGUNM/DMl3tUic2D+elFiLf/jcP2zR79ikMuA/QZkjIh9z4T93oPyZ6kDiP+nW4D6koOI/vx1UBzeY4j+OJt5ixS7iPzBUuoiPbOE/m7Or29Za4D9kCEJjfQfeP9Utu6hV5No/dn0WLDhj1z+rrMOyFpzTP377l8MNT88/IApm7ug8xz9YCWg6S2e+P03R/xh0kq0/GC1EVPshqbw=",
          "dtype": "f8"
         },
         "yaxis": "y27"
        },
        {
         "line": {
          "color": "gray"
         },
         "mode": "lines",
         "name": "$\\gamma=2.2 \\quad \\nu=4/3 \\pi$",
         "type": "scatter",
         "x": {
          "bdata": "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",
          "dtype": "f8"
         },
         "xaxis": "x28",
         "y": {
          "bdata": "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",
          "dtype": "f8"
         },
         "yaxis": "y28"
        },
        {
         "line": {
          "color": "gray"
         },
         "mode": "lines",
         "name": "$\\gamma=1.4 \\quad \\nu=5/3 \\pi$",
         "type": "scatter",
         "x": {
          "bdata": "AAAAAAAAAAB7FK5H4XqEP3sUrkfhepQ/uB6F61G4nj97FK5H4XqkP5qZmZmZmak/uB6F61G4rj/sUbgeheuxP3sUrkfherQ/CtejcD0Ktz+amZmZmZm5Pylcj8L1KLw/uB6F61G4vj+kcD0K16PAP+xRuB6F68E/MzMzMzMzwz97FK5H4XrEP8P1KFyPwsU/CtejcD0Kxz9SuB6F61HIP5qZmZmZmck/4XoUrkfhyj8pXI/C9SjMP3E9CtejcM0/uB6F61G4zj8AAAAAAADQP6RwPQrXo9A/SOF6FK5H0T/sUbgehevRP4/C9Shcj9I/MzMzMzMz0z/Xo3A9CtfTP3sUrkfhetQ/H4XrUbge1T/D9Shcj8LVP2dmZmZmZtY/CtejcD0K1z+uR+F6FK7XP1K4HoXrUdg/9ihcj8L12D+amZmZmZnZPz4K16NwPdo/4XoUrkfh2j+F61G4HoXbPylcj8L1KNw/zczMzMzM3D9xPQrXo3DdPxWuR+F6FN4/uB6F61G43j9cj8L1KFzfPwAAAAAAAOA/UrgehetR4D+kcD0K16PgP/YoXI/C9eA/SOF6FK5H4T+amZmZmZnhP+xRuB6F6+E/PgrXo3A94j+PwvUoXI/iP+F6FK5H4eI/MzMzMzMz4z+F61G4HoXjP9ejcD0K1+M/KVyPwvUo5D97FK5H4XrkP83MzMzMzOQ/H4XrUbge5T9xPQrXo3DlP8P1KFyPwuU/Fa5H4XoU5j9nZmZmZmbmP7gehetRuOY/CtejcD0K5z9cj8L1KFznP65H4XoUruc/AAAAAAAA6D9SuB6F61HoP6RwPQrXo+g/9ihcj8L16D9I4XoUrkfpP5qZmZmZmek/7FG4HoXr6T8+CtejcD3qP5DC9Shcj+o/4XoUrkfh6j8zMzMzMzPrP4XrUbgehes/16NwPQrX6z8pXI/C9SjsP3sUrkfheuw/zczMzMzM7D8fhetRuB7tP3E9CtejcO0/w/UoXI/C7T8VrkfhehTuP2dmZmZmZu4/uB6F61G47j8K16NwPQrvP1yPwvUoXO8/rkfhehSu7z8AAAAAAADwPylcj8L1KPA/UrgehetR8D97FK5H4XrwP6RwPQrXo/A/zczMzMzM8D/2KFyPwvXwPx+F61G4HvE/SOF6FK5H8T9xPQrXo3DxP5qZmZmZmfE/w/UoXI/C8T/sUbgehevxPxWuR+F6FPI/PgrXo3A98j9nZmZmZmbyP4/C9Shcj/I/uB6F61G48j/hehSuR+HyPwrXo3A9CvM/MzMzMzMz8z9cj8L1KFzzP4XrUbgehfM/rkfhehSu8z/Xo3A9CtfzPwAAAAAAAPQ/KVyPwvUo9D9SuB6F61H0P3sUrkfhevQ/pHA9Ctej9D/NzMzMzMz0P/YoXI/C9fQ/H4XrUbge9T9I4XoUrkf1P3E9CtejcPU/mpmZmZmZ9T/D9Shcj8L1P+xRuB6F6/U/Fa5H4XoU9j8+CtejcD32P2dmZmZmZvY/",
          "dtype": "f8"
         },
         "xaxis": "x29",
         "y": {
          "bdata": "AAAAAAAAAIBtkwFio7+uv+P5MR/furq/y/OtATDcwL+Uf7pjwgjCv1ApIV0/ycC/AuuHg0obur9XWxiddECrv9v5d9cQro4/T0FMQRgpuj9UDz2V6JPKP5GXcIgEI9U/ihh0rDf/3T/uROEz4+HjP1M34z3YKOk/KAdACg3D7j/SnTaJrU7yP81YpCGPUfU/Ntarnjpf+D//+tQBQ2z7P61z5yTjbP4/k/VyoZGqAEDU5YS4fwwCQGozTklHVgNA3/xiqBSCBEA2ZIVPSIoFQNn2GauJaQZAQeXkONkaB0AVLgXAoZkHQGamrWzI4QdAKbxHnbvvB0BZqG8ygMAHQAx0ije9UQdA5wSHvsWhBkA7Jp7OoK8FQMmuiksPewRALsipwI8EA0DLWaoBYE0BQF2OrjH5rv4/OUYPAzxL+j9C0o1nZ3b1P8THhBm6OPA/qo+Tl4A35T+8YJ+V9ajSP2sXGpPf/ri/xpvzwMIL4L99ql00ulPtv98FAHVlbfW/cR9WcGhB/L8NhueuMosBwCzE/ANL7gTAYXOOdAxCCMB4zbf8jX4LwMlyC80DnA7AAktqSGrJEMAkWe0j1y0SwDygwDvNdxPAFvFyvAikFMDHCgpWhq8VwKNTv62LlxbAB9tRD69ZF8APt4JH3vMXwFeUtZNkZBjALCtPle+pGMBklD46k8MYwFrfHI/MsBjAYApvcoNxGMDjaNAjCwYYwM0cFa0hbxfAxOzDJu6tFsDbspLc/cMVwEUyz1lAsxTAmsrFaAJ+E8Bj/D4T6CYSwMwYC7XlsBDAbL6AaHA+DsC4q4bquOoKwPVSyEUMbgfAwb2PySvQA8Dd9+Y/HhkAwKwodXo1ovi/8n2E9eUA8b+BAKvk9b3ivx8ZWDH1z7y/hnvdKz2T1j/QN5tlVc3pP6gZrMFs6fM/MCxHJbae+j/F5rtgiXwAQD8+2asNdgNA84pcCUo2BkCVChnRQ7gIQARP/U2v9wpA57AEcvnwDEBIJrdzT6EOQEzO0CBSAxBAAxlG39mPEEBEl9nfAfYQQNsZbGbxNRFAbLBHVDJQEUBLYtJWrkURQGknYwqrFxFAtHjZHcXHEECHanuG6lcQQAt0paynlA9AmSx9k/lCDkAoz11GOMAMQDKl79s1EgtAteO2hRY/CUAImY5UPU0HQHTwnXI4QwVAdSJFDq0nA0DchDgyQwEBQDINDI4jrf0/ix0o8xVc+T/P15SB0hv1P6EQFnU6+PA/K7i6VfL46T9x9anlyGXiP9C/9ux+k9Y/RpxCUhPWwj/h7GMPyoekv3rhOJ0Pkcq/1VDG4qyo1r/Rgas3qqPev8V6tsSImOK/j1KPaeYm5b81Yg3ICv7mv4g4XZetIei/teTDiQyY6L+I9d5ezmnov2bf9Gbeoee/N6eV7kBN5r8gLzUf4Xrkv68qJfVYO+K/oT5T+mdB37+RxDU3W3zZv/dJ6FjXT9O/eFmYWtnKyb+Bx0erb525v9IhM3982dK8",
          "dtype": "f8"
         },
         "yaxis": "y29"
        },
        {
         "line": {
          "color": "gray"
         },
         "mode": "lines",
         "name": "$\\gamma=1.6 \\quad \\nu=\\pi$",
         "type": "scatter",
         "x": {
          "bdata": "AAAAAAAAAAB7FK5H4XqEP3sUrkfhepQ/uB6F61G4nj97FK5H4XqkP5qZmZmZmak/uB6F61G4rj/sUbgeheuxP3sUrkfherQ/CtejcD0Ktz+amZmZmZm5Pylcj8L1KLw/uB6F61G4vj+kcD0K16PAP+xRuB6F68E/MzMzMzMzwz97FK5H4XrEP8P1KFyPwsU/CtejcD0Kxz9SuB6F61HIP5qZmZmZmck/4XoUrkfhyj8pXI/C9SjMP3E9CtejcM0/uB6F61G4zj8AAAAAAADQP6RwPQrXo9A/SOF6FK5H0T/sUbgehevRP4/C9Shcj9I/MzMzMzMz0z/Xo3A9CtfTP3sUrkfhetQ/H4XrUbge1T/D9Shcj8LVP2dmZmZmZtY/CtejcD0K1z+uR+F6FK7XP1K4HoXrUdg/9ihcj8L12D+amZmZmZnZPz4K16NwPdo/4XoUrkfh2j+F61G4HoXbPylcj8L1KNw/zczMzMzM3D9xPQrXo3DdPxWuR+F6FN4/uB6F61G43j9cj8L1KFzfPwAAAAAAAOA/UrgehetR4D+kcD0K16PgP/YoXI/C9eA/SOF6FK5H4T+amZmZmZnhP+xRuB6F6+E/PgrXo3A94j+PwvUoXI/iP+F6FK5H4eI/MzMzMzMz4z+F61G4HoXjP9ejcD0K1+M/KVyPwvUo5D97FK5H4XrkP83MzMzMzOQ/H4XrUbge5T9xPQrXo3DlP8P1KFyPwuU/Fa5H4XoU5j9nZmZmZmbmP7gehetRuOY/CtejcD0K5z9cj8L1KFznP65H4XoUruc/AAAAAAAA6D9SuB6F61HoP6RwPQrXo+g/9ihcj8L16D9I4XoUrkfpP5qZmZmZmek/7FG4HoXr6T8+CtejcD3qP5DC9Shcj+o/4XoUrkfh6j8zMzMzMzPrP4XrUbgehes/16NwPQrX6z8pXI/C9SjsP3sUrkfheuw/zczMzMzM7D8fhetRuB7tP3E9CtejcO0/w/UoXI/C7T8VrkfhehTuP2dmZmZmZu4/uB6F61G47j8K16NwPQrvP1yPwvUoXO8/rkfhehSu7z8AAAAAAADwPylcj8L1KPA/UrgehetR8D97FK5H4XrwP6RwPQrXo/A/zczMzMzM8D/2KFyPwvXwPx+F61G4HvE/SOF6FK5H8T9xPQrXo3DxP5qZmZmZmfE/w/UoXI/C8T/sUbgehevxPxWuR+F6FPI/PgrXo3A98j9nZmZmZmbyP4/C9Shcj/I/uB6F61G48j/hehSuR+HyPwrXo3A9CvM/MzMzMzMz8z9cj8L1KFzzP4XrUbgehfM/rkfhehSu8z/Xo3A9CtfzPwAAAAAAAPQ/KVyPwvUo9D9SuB6F61H0P3sUrkfhevQ/pHA9Ctej9D/NzMzMzMz0P/YoXI/C9fQ/H4XrUbge9T9I4XoUrkf1P3E9CtejcPU/mpmZmZmZ9T/D9Shcj8L1P+xRuB6F6/U/Fa5H4XoU9j8+CtejcD32P2dmZmZmZvY/j8L1KFyP9j+4HoXrUbj2P+F6FK5H4fY/CtejcD0K9z8zMzMzMzP3P1yPwvUoXPc/hetRuB6F9z+uR+F6FK73P9ejcD0K1/c/AAAAAAAA+D8pXI/C9Sj4P1K4HoXrUfg/exSuR+F6+D+kcD0K16P4P83MzMzMzPg/9ihcj8L1+D8fhetRuB75P0jhehSuR/k/cT0K16Nw+T+amZmZmZn5Pw==",
          "dtype": "f8"
         },
         "xaxis": "x30",
         "y": {
          "bdata": "GC1EVPshuTzI9HEafDqRP2gLFw2D0ZM/nxI32Sb8fT+27xlkYceTv/6GAFAj6K6/LqSxn6qLvb9ZQnjVZIfHv526aj5b8dC/QUkhAILa1r/fe12UkmrdvxISubUBReK/w0eCGE0P5r8NzrV03AXqvyupClRZGe6/LqIlvckc8b+REkC42CrzvyoY77AxLvW/m5Fs3gse97+rQb2CmPH4v+eTNSEeoPq/M/0BthMh/L994B+iO2z9vyKyxv+9ef6/zNCiFEJC/789tHCZBr//v9IIepH46f+/d2IncMi9/79Bqj5P/TX/v3WzdP0FT/6/EByiskcG/b+4vSE9Klr7v9YAkYIhSvm/r4pGNbTW9r8IEkenfwH0vxvGNqs4zfC/ZhVW91J76r+4g35SWa/ivxAzSl+UhNS/sfLMaGMepL8pB3rQZITQP1G065ugOOI/AYRnH2yO7D8Gp4TmlpfzP9SL1hifAvk/iwl19fN8/j9H4mpUZ/0BQJdXRzoMuARA6nR+AERoB0BNj/a+3wcKQEDbUqK1kAxAeYIHVrD8DkDeibgv76IQQDza8aBAsxFAIjAIIo6sEkCUqfhXQYwTQLs41LPyTxRAs/+r1W/1FECFkP12wXoVQAyjzcww3hVAVeD1UkweFkAPL6fz6zkWQGOUwX80MBZA8gFhbpoAFkD0utbb46oVQDSBNMIpLxVAHGeMZ9iNFEDAuhAAr8cTQFqlTYS+3RJAZWvEvWfREUD+RzmOWKQQQC+fBvAQsQ5ABK8432jgC0Ab9RABtNsIQI0q2aJjqAVAC8SYKVNMAkBTnJ3VdZv9P+QCDzpEZvY/hj8bDUAN7j87HQ3C4ynePycwKrrsgvi8MB4NwuMp3r/oPxsNQA3uvyADDzpEZva/YZyd1XWb/b8YxJgpU0wCwJoq2aJjqAXAJ/UQAbTbCMAPrzjfaOALwDifBvAQsQ7AAkg5jlikEMBsa8S9Z9ERwGKlTYS+3RLAxroQAK/HE8AhZ4xn2I0UwDaBNMIpLxXA9brW2+OqFcD1AWFumgAWwGOUwX80MBbADy+n8+s5FsBV4PVSTB4WwAqjzcww3hXAhZD9dsF6FcCx/6vVb/UUwLQ41LPyTxTAjqn4V0GME8AdMAgijqwSwDba8aBAsxHA14m4L++iEMBwggdWsPwOwDXbUqK1kAzAQY/2vt8HCsDadH4ARGgHwIFXRzoMuATANOJqVGf9AcBiCXX183z+v9CL1hifAvm/CaeE5paX87/tg2cfbI7svz2065ugOOK/Fgd60GSE0L/o8cxoYx6kP2UzSl+UhNQ/4YN+Ulmv4j92FVb3UnvqPx/GNqs4zfA/CRJHp38B9D/BikY1tNb2P+EAkYIhSvk/uL0hPSpa+z8IHKKyRwb9P2SzdP0FT/4/Qqo+T/01/z90YidwyL3/P8cIepH46f8/LLRwmQa//z/S0KIUQkL/Pwyyxv+9ef4/ZeAfojts/T8V/QG2EyH8P8WTNSEeoPo/nkG9gpjx+D+OkWzeCx73Px0Y77AxLvU/kRJAuNgq8z8uoiW9yRzxPyWpClRZGe4/4c21dNwF6j+wR4IYTQ/mP/8RubUBReI/s3tdlJJq3T8hSSEAgtrWP4u6aj5b8dA/QEJ41WSHxz+wo7Gfqou9P2eGAFAj6K4/tu8ZZGHHkz+fEjfZJvx9v58KFw2D0ZO///NxGnw6kb8YLURU+yHpPA==",
          "dtype": "f8"
         },
         "yaxis": "y30"
        }
       ],
       "layout": {
        "annotations": [
         {
          "font": {
           "size": 16
          },
          "showarrow": false,
          "text": "$\\gamma=1 \\quad \\nu=2/3 \\pi$",
          "x": 0.092,
          "xanchor": "center",
          "xref": "paper",
          "y": 1,
          "yanchor": "bottom",
          "yref": "paper"
         },
         {
          "font": {
           "size": 16
          },
          "showarrow": false,
          "text": "$\\gamma=1 \\quad \\nu=4/3 \\pi$",
          "x": 0.296,
          "xanchor": "center",
          "xref": "paper",
          "y": 1,
          "yanchor": "bottom",
          "yref": "paper"
         },
         {
          "font": {
           "size": 16
          },
          "showarrow": false,
          "text": "$\\gamma=1.8 \\quad \\nu=2/3 \\pi$",
          "x": 0.5,
          "xanchor": "center",
          "xref": "paper",
          "y": 1,
          "yanchor": "bottom",
          "yref": "paper"
         },
         {
          "font": {
           "size": 16
          },
          "showarrow": false,
          "text": "$\\gamma=1.8 \\quad \\nu=\\pi$",
          "x": 0.7040000000000001,
          "xanchor": "center",
          "xref": "paper",
          "y": 1,
          "yanchor": "bottom",
          "yref": "paper"
         },
         {
          "font": {
           "size": 16
          },
          "showarrow": false,
          "text": "$\\gamma=1.8 \\quad \\nu=5/3 \\pi$",
          "x": 0.9079999999999999,
          "xanchor": "center",
          "xref": "paper",
          "y": 1,
          "yanchor": "bottom",
          "yref": "paper"
         },
         {
          "font": {
           "size": 16
          },
          "showarrow": false,
          "text": "$\\gamma=2.2 \\quad \\nu=\\pi$",
          "x": 0.092,
          "xanchor": "center",
          "xref": "paper",
          "y": 0.8266666666666667,
          "yanchor": "bottom",
          "yref": "paper"
         },
         {
          "font": {
           "size": 16
          },
          "showarrow": false,
          "text": "$\\gamma=3 \\quad \\nu=4/3 \\pi$",
          "x": 0.296,
          "xanchor": "center",
          "xref": "paper",
          "y": 0.8266666666666667,
          "yanchor": "bottom",
          "yref": "paper"
         },
         {
          "font": {
           "size": 16
          },
          "showarrow": false,
          "text": "$\\gamma=2.6 \\quad \\nu=\\pi$",
          "x": 0.5,
          "xanchor": "center",
          "xref": "paper",
          "y": 0.8266666666666667,
          "yanchor": "bottom",
          "yref": "paper"
         },
         {
          "font": {
           "size": 16
          },
          "showarrow": false,
          "text": "$\\gamma=2.4 \\quad \\nu=2/3 \\pi$",
          "x": 0.7040000000000001,
          "xanchor": "center",
          "xref": "paper",
          "y": 0.8266666666666667,
          "yanchor": "bottom",
          "yref": "paper"
         },
         {
          "font": {
           "size": 16
          },
          "showarrow": false,
          "text": "$\\gamma=2.4 \\quad \\nu=5/3 \\pi$",
          "x": 0.9079999999999999,
          "xanchor": "center",
          "xref": "paper",
          "y": 0.8266666666666667,
          "yanchor": "bottom",
          "yref": "paper"
         },
         {
          "font": {
           "size": 16
          },
          "showarrow": false,
          "text": "$\\gamma=2.2 \\quad \\nu=5/3 \\pi$",
          "x": 0.092,
          "xanchor": "center",
          "xref": "paper",
          "y": 0.6533333333333333,
          "yanchor": "bottom",
          "yref": "paper"
         },
         {
          "font": {
           "size": 16
          },
          "showarrow": false,
          "text": "$\\gamma=2 \\quad \\nu=\\pi$",
          "x": 0.296,
          "xanchor": "center",
          "xref": "paper",
          "y": 0.6533333333333333,
          "yanchor": "bottom",
          "yref": "paper"
         },
         {
          "font": {
           "size": 16
          },
          "showarrow": false,
          "text": "$\\gamma=1.2 \\quad \\nu=5/3 \\pi$",
          "x": 0.5,
          "xanchor": "center",
          "xref": "paper",
          "y": 0.6533333333333333,
          "yanchor": "bottom",
          "yref": "paper"
         },
         {
          "font": {
           "size": 16
          },
          "showarrow": false,
          "text": "$\\gamma=1 \\quad \\nu=5/3 \\pi$",
          "x": 0.7040000000000001,
          "xanchor": "center",
          "xref": "paper",
          "y": 0.6533333333333333,
          "yanchor": "bottom",
          "yref": "paper"
         },
         {
          "font": {
           "size": 16
          },
          "showarrow": false,
          "text": "$\\gamma=1.2 \\quad \\nu=0$",
          "x": 0.9079999999999999,
          "xanchor": "center",
          "xref": "paper",
          "y": 0.6533333333333333,
          "yanchor": "bottom",
          "yref": "paper"
         },
         {
          "font": {
           "size": 16
          },
          "showarrow": false,
          "text": "$\\gamma=1.6 \\quad \\nu=0$",
          "x": 0.092,
          "xanchor": "center",
          "xref": "paper",
          "y": 0.48,
          "yanchor": "bottom",
          "yref": "paper"
         },
         {
          "font": {
           "size": 16
          },
          "showarrow": false,
          "text": "$\\gamma=1.8 \\quad \\nu=4/3 \\pi$",
          "x": 0.296,
          "xanchor": "center",
          "xref": "paper",
          "y": 0.48,
          "yanchor": "bottom",
          "yref": "paper"
         },
         {
          "font": {
           "size": 16
          },
          "showarrow": false,
          "text": "$\\gamma=1.4 \\quad \\nu=4/3 \\pi$",
          "x": 0.5,
          "xanchor": "center",
          "xref": "paper",
          "y": 0.48,
          "yanchor": "bottom",
          "yref": "paper"
         },
         {
          "font": {
           "size": 16
          },
          "showarrow": false,
          "text": "$\\gamma=1.8 \\quad \\nu=0$",
          "x": 0.7040000000000001,
          "xanchor": "center",
          "xref": "paper",
          "y": 0.48,
          "yanchor": "bottom",
          "yref": "paper"
         },
         {
          "font": {
           "size": 16
          },
          "showarrow": false,
          "text": "$\\gamma=1.6 \\quad \\nu=5/3 \\pi$",
          "x": 0.9079999999999999,
          "xanchor": "center",
          "xref": "paper",
          "y": 0.48,
          "yanchor": "bottom",
          "yref": "paper"
         },
         {
          "font": {
           "size": 16
          },
          "showarrow": false,
          "text": "$\\gamma=1.4 \\quad \\nu=0$",
          "x": 0.092,
          "xanchor": "center",
          "xref": "paper",
          "y": 0.30666666666666664,
          "yanchor": "bottom",
          "yref": "paper"
         },
         {
          "font": {
           "size": 16
          },
          "showarrow": false,
          "text": "$\\gamma=1 \\quad \\nu=0$",
          "x": 0.296,
          "xanchor": "center",
          "xref": "paper",
          "y": 0.30666666666666664,
          "yanchor": "bottom",
          "yref": "paper"
         },
         {
          "font": {
           "size": 16
          },
          "showarrow": false,
          "text": "$\\gamma=2 \\quad \\nu=4/3 \\pi$",
          "x": 0.5,
          "xanchor": "center",
          "xref": "paper",
          "y": 0.30666666666666664,
          "yanchor": "bottom",
          "yref": "paper"
         },
         {
          "font": {
           "size": 16
          },
          "showarrow": false,
          "text": "$\\gamma=2.6 \\quad \\nu=2/3 \\pi$",
          "x": 0.7040000000000001,
          "xanchor": "center",
          "xref": "paper",
          "y": 0.30666666666666664,
          "yanchor": "bottom",
          "yref": "paper"
         },
         {
          "font": {
           "size": 16
          },
          "showarrow": false,
          "text": "$\\gamma=2.8 \\quad \\nu=5/3 \\pi$",
          "x": 0.9079999999999999,
          "xanchor": "center",
          "xref": "paper",
          "y": 0.30666666666666664,
          "yanchor": "bottom",
          "yref": "paper"
         },
         {
          "font": {
           "size": 16
          },
          "showarrow": false,
          "text": "$\\gamma=1.2 \\quad \\nu=4/3 \\pi$",
          "x": 0.092,
          "xanchor": "center",
          "xref": "paper",
          "y": 0.13333333333333333,
          "yanchor": "bottom",
          "yref": "paper"
         },
         {
          "font": {
           "size": 16
          },
          "showarrow": false,
          "text": "$\\gamma=1.8 \\quad \\nu=1/3 \\pi$",
          "x": 0.296,
          "xanchor": "center",
          "xref": "paper",
          "y": 0.13333333333333333,
          "yanchor": "bottom",
          "yref": "paper"
         },
         {
          "font": {
           "size": 16
          },
          "showarrow": false,
          "text": "$\\gamma=2.2 \\quad \\nu=4/3 \\pi$",
          "x": 0.5,
          "xanchor": "center",
          "xref": "paper",
          "y": 0.13333333333333333,
          "yanchor": "bottom",
          "yref": "paper"
         },
         {
          "font": {
           "size": 16
          },
          "showarrow": false,
          "text": "$\\gamma=1.4 \\quad \\nu=5/3 \\pi$",
          "x": 0.7040000000000001,
          "xanchor": "center",
          "xref": "paper",
          "y": 0.13333333333333333,
          "yanchor": "bottom",
          "yref": "paper"
         },
         {
          "font": {
           "size": 16
          },
          "showarrow": false,
          "text": "$\\gamma=1.6 \\quad \\nu=\\pi$",
          "x": 0.9079999999999999,
          "xanchor": "center",
          "xref": "paper",
          "y": 0.13333333333333333,
          "yanchor": "bottom",
          "yref": "paper"
         }
        ],
        "height": 1728,
        "plot_bgcolor": "rgba(0,0,0,0)",
        "showlegend": false,
        "template": {
         "data": {
          "bar": [
           {
            "error_x": {
             "color": "#2a3f5f"
            },
            "error_y": {
             "color": "#2a3f5f"
            },
            "marker": {
             "line": {
              "color": "#E5ECF6",
              "width": 0.5
             },
             "pattern": {
              "fillmode": "overlay",
              "size": 10,
              "solidity": 0.2
             }
            },
            "type": "bar"
           }
          ],
          "barpolar": [
           {
            "marker": {
             "line": {
              "color": "#E5ECF6",
              "width": 0.5
             },
             "pattern": {
              "fillmode": "overlay",
              "size": 10,
              "solidity": 0.2
             }
            },
            "type": "barpolar"
           }
          ],
          "carpet": [
           {
            "aaxis": {
             "endlinecolor": "#2a3f5f",
             "gridcolor": "white",
             "linecolor": "white",
             "minorgridcolor": "white",
             "startlinecolor": "#2a3f5f"
            },
            "baxis": {
             "endlinecolor": "#2a3f5f",
             "gridcolor": "white",
             "linecolor": "white",
             "minorgridcolor": "white",
             "startlinecolor": "#2a3f5f"
            },
            "type": "carpet"
           }
          ],
          "choropleth": [
           {
            "colorbar": {
             "outlinewidth": 0,
             "ticks": ""
            },
            "type": "choropleth"
           }
          ],
          "contour": [
           {
            "colorbar": {
             "outlinewidth": 0,
             "ticks": ""
            },
            "colorscale": [
             [
              0,
              "#0d0887"
             ],
             [
              0.1111111111111111,
              "#46039f"
             ],
             [
              0.2222222222222222,
              "#7201a8"
             ],
             [
              0.3333333333333333,
              "#9c179e"
             ],
             [
              0.4444444444444444,
              "#bd3786"
             ],
             [
              0.5555555555555556,
              "#d8576b"
             ],
             [
              0.6666666666666666,
              "#ed7953"
             ],
             [
              0.7777777777777778,
              "#fb9f3a"
             ],
             [
              0.8888888888888888,
              "#fdca26"
             ],
             [
              1,
              "#f0f921"
             ]
            ],
            "type": "contour"
           }
          ],
          "contourcarpet": [
           {
            "colorbar": {
             "outlinewidth": 0,
             "ticks": ""
            },
            "type": "contourcarpet"
           }
          ],
          "heatmap": [
           {
            "colorbar": {
             "outlinewidth": 0,
             "ticks": ""
            },
            "colorscale": [
             [
              0,
              "#0d0887"
             ],
             [
              0.1111111111111111,
              "#46039f"
             ],
             [
              0.2222222222222222,
              "#7201a8"
             ],
             [
              0.3333333333333333,
              "#9c179e"
             ],
             [
              0.4444444444444444,
              "#bd3786"
             ],
             [
              0.5555555555555556,
              "#d8576b"
             ],
             [
              0.6666666666666666,
              "#ed7953"
             ],
             [
              0.7777777777777778,
              "#fb9f3a"
             ],
             [
              0.8888888888888888,
              "#fdca26"
             ],
             [
              1,
              "#f0f921"
             ]
            ],
            "type": "heatmap"
           }
          ],
          "histogram": [
           {
            "marker": {
             "pattern": {
              "fillmode": "overlay",
              "size": 10,
              "solidity": 0.2
             }
            },
            "type": "histogram"
           }
          ],
          "histogram2d": [
           {
            "colorbar": {
             "outlinewidth": 0,
             "ticks": ""
            },
            "colorscale": [
             [
              0,
              "#0d0887"
             ],
             [
              0.1111111111111111,
              "#46039f"
             ],
             [
              0.2222222222222222,
              "#7201a8"
             ],
             [
              0.3333333333333333,
              "#9c179e"
             ],
             [
              0.4444444444444444,
              "#bd3786"
             ],
             [
              0.5555555555555556,
              "#d8576b"
             ],
             [
              0.6666666666666666,
              "#ed7953"
             ],
             [
              0.7777777777777778,
              "#fb9f3a"
             ],
             [
              0.8888888888888888,
              "#fdca26"
             ],
             [
              1,
              "#f0f921"
             ]
            ],
            "type": "histogram2d"
           }
          ],
          "histogram2dcontour": [
           {
            "colorbar": {
             "outlinewidth": 0,
             "ticks": ""
            },
            "colorscale": [
             [
              0,
              "#0d0887"
             ],
             [
              0.1111111111111111,
              "#46039f"
             ],
             [
              0.2222222222222222,
              "#7201a8"
             ],
             [
              0.3333333333333333,
              "#9c179e"
             ],
             [
              0.4444444444444444,
              "#bd3786"
             ],
             [
              0.5555555555555556,
              "#d8576b"
             ],
             [
              0.6666666666666666,
              "#ed7953"
             ],
             [
              0.7777777777777778,
              "#fb9f3a"
             ],
             [
              0.8888888888888888,
              "#fdca26"
             ],
             [
              1,
              "#f0f921"
             ]
            ],
            "type": "histogram2dcontour"
           }
          ],
          "mesh3d": [
           {
            "colorbar": {
             "outlinewidth": 0,
             "ticks": ""
            },
            "type": "mesh3d"
           }
          ],
          "parcoords": [
           {
            "line": {
             "colorbar": {
              "outlinewidth": 0,
              "ticks": ""
             }
            },
            "type": "parcoords"
           }
          ],
          "pie": [
           {
            "automargin": true,
            "type": "pie"
           }
          ],
          "scatter": [
           {
            "fillpattern": {
             "fillmode": "overlay",
             "size": 10,
             "solidity": 0.2
            },
            "type": "scatter"
           }
          ],
          "scatter3d": [
           {
            "line": {
             "colorbar": {
              "outlinewidth": 0,
              "ticks": ""
             }
            },
            "marker": {
             "colorbar": {
              "outlinewidth": 0,
              "ticks": ""
             }
            },
            "type": "scatter3d"
           }
          ],
          "scattercarpet": [
           {
            "marker": {
             "colorbar": {
              "outlinewidth": 0,
              "ticks": ""
             }
            },
            "type": "scattercarpet"
           }
          ],
          "scattergeo": [
           {
            "marker": {
             "colorbar": {
              "outlinewidth": 0,
              "ticks": ""
             }
            },
            "type": "scattergeo"
           }
          ],
          "scattergl": [
           {
            "marker": {
             "colorbar": {
              "outlinewidth": 0,
              "ticks": ""
             }
            },
            "type": "scattergl"
           }
          ],
          "scattermap": [
           {
            "marker": {
             "colorbar": {
              "outlinewidth": 0,
              "ticks": ""
             }
            },
            "type": "scattermap"
           }
          ],
          "scattermapbox": [
           {
            "marker": {
             "colorbar": {
              "outlinewidth": 0,
              "ticks": ""
             }
            },
            "type": "scattermapbox"
           }
          ],
          "scatterpolar": [
           {
            "marker": {
             "colorbar": {
              "outlinewidth": 0,
              "ticks": ""
             }
            },
            "type": "scatterpolar"
           }
          ],
          "scatterpolargl": [
           {
            "marker": {
             "colorbar": {
              "outlinewidth": 0,
              "ticks": ""
             }
            },
            "type": "scatterpolargl"
           }
          ],
          "scatterternary": [
           {
            "marker": {
             "colorbar": {
              "outlinewidth": 0,
              "ticks": ""
             }
            },
            "type": "scatterternary"
           }
          ],
          "surface": [
           {
            "colorbar": {
             "outlinewidth": 0,
             "ticks": ""
            },
            "colorscale": [
             [
              0,
              "#0d0887"
             ],
             [
              0.1111111111111111,
              "#46039f"
             ],
             [
              0.2222222222222222,
              "#7201a8"
             ],
             [
              0.3333333333333333,
              "#9c179e"
             ],
             [
              0.4444444444444444,
              "#bd3786"
             ],
             [
              0.5555555555555556,
              "#d8576b"
             ],
             [
              0.6666666666666666,
              "#ed7953"
             ],
             [
              0.7777777777777778,
              "#fb9f3a"
             ],
             [
              0.8888888888888888,
              "#fdca26"
             ],
             [
              1,
              "#f0f921"
             ]
            ],
            "type": "surface"
           }
          ],
          "table": [
           {
            "cells": {
             "fill": {
              "color": "#EBF0F8"
             },
             "line": {
              "color": "white"
             }
            },
            "header": {
             "fill": {
              "color": "#C8D4E3"
             },
             "line": {
              "color": "white"
             }
            },
            "type": "table"
           }
          ]
         },
         "layout": {
          "annotationdefaults": {
           "arrowcolor": "#2a3f5f",
           "arrowhead": 0,
           "arrowwidth": 1
          },
          "autotypenumbers": "strict",
          "coloraxis": {
           "colorbar": {
            "outlinewidth": 0,
            "ticks": ""
           }
          },
          "colorscale": {
           "diverging": [
            [
             0,
             "#8e0152"
            ],
            [
             0.1,
             "#c51b7d"
            ],
            [
             0.2,
             "#de77ae"
            ],
            [
             0.3,
             "#f1b6da"
            ],
            [
             0.4,
             "#fde0ef"
            ],
            [
             0.5,
             "#f7f7f7"
            ],
            [
             0.6,
             "#e6f5d0"
            ],
            [
             0.7,
             "#b8e186"
            ],
            [
             0.8,
             "#7fbc41"
            ],
            [
             0.9,
             "#4d9221"
            ],
            [
             1,
             "#276419"
            ]
           ],
           "sequential": [
            [
             0,
             "#0d0887"
            ],
            [
             0.1111111111111111,
             "#46039f"
            ],
            [
             0.2222222222222222,
             "#7201a8"
            ],
            [
             0.3333333333333333,
             "#9c179e"
            ],
            [
             0.4444444444444444,
             "#bd3786"
            ],
            [
             0.5555555555555556,
             "#d8576b"
            ],
            [
             0.6666666666666666,
             "#ed7953"
            ],
            [
             0.7777777777777778,
             "#fb9f3a"
            ],
            [
             0.8888888888888888,
             "#fdca26"
            ],
            [
             1,
             "#f0f921"
            ]
           ],
           "sequentialminus": [
            [
             0,
             "#0d0887"
            ],
            [
             0.1111111111111111,
             "#46039f"
            ],
            [
             0.2222222222222222,
             "#7201a8"
            ],
            [
             0.3333333333333333,
             "#9c179e"
            ],
            [
             0.4444444444444444,
             "#bd3786"
            ],
            [
             0.5555555555555556,
             "#d8576b"
            ],
            [
             0.6666666666666666,
             "#ed7953"
            ],
            [
             0.7777777777777778,
             "#fb9f3a"
            ],
            [
             0.8888888888888888,
             "#fdca26"
            ],
            [
             1,
             "#f0f921"
            ]
           ]
          },
          "colorway": [
           "#636efa",
           "#EF553B",
           "#00cc96",
           "#ab63fa",
           "#FFA15A",
           "#19d3f3",
           "#FF6692",
           "#B6E880",
           "#FF97FF",
           "#FECB52"
          ],
          "font": {
           "color": "#2a3f5f"
          },
          "geo": {
           "bgcolor": "white",
           "lakecolor": "white",
           "landcolor": "#E5ECF6",
           "showlakes": true,
           "showland": true,
           "subunitcolor": "white"
          },
          "hoverlabel": {
           "align": "left"
          },
          "hovermode": "closest",
          "mapbox": {
           "style": "light"
          },
          "paper_bgcolor": "white",
          "plot_bgcolor": "#E5ECF6",
          "polar": {
           "angularaxis": {
            "gridcolor": "white",
            "linecolor": "white",
            "ticks": ""
           },
           "bgcolor": "#E5ECF6",
           "radialaxis": {
            "gridcolor": "white",
            "linecolor": "white",
            "ticks": ""
           }
          },
          "scene": {
           "xaxis": {
            "backgroundcolor": "#E5ECF6",
            "gridcolor": "white",
            "gridwidth": 2,
            "linecolor": "white",
            "showbackground": true,
            "ticks": "",
            "zerolinecolor": "white"
           },
           "yaxis": {
            "backgroundcolor": "#E5ECF6",
            "gridcolor": "white",
            "gridwidth": 2,
            "linecolor": "white",
            "showbackground": true,
            "ticks": "",
            "zerolinecolor": "white"
           },
           "zaxis": {
            "backgroundcolor": "#E5ECF6",
            "gridcolor": "white",
            "gridwidth": 2,
            "linecolor": "white",
            "showbackground": true,
            "ticks": "",
            "zerolinecolor": "white"
           }
          },
          "shapedefaults": {
           "line": {
            "color": "#2a3f5f"
           }
          },
          "ternary": {
           "aaxis": {
            "gridcolor": "white",
            "linecolor": "white",
            "ticks": ""
           },
           "baxis": {
            "gridcolor": "white",
            "linecolor": "white",
            "ticks": ""
           },
           "bgcolor": "#E5ECF6",
           "caxis": {
            "gridcolor": "white",
            "linecolor": "white",
            "ticks": ""
           }
          },
          "title": {
           "x": 0.05
          },
          "xaxis": {
           "automargin": true,
           "gridcolor": "white",
           "linecolor": "white",
           "ticks": "",
           "title": {
            "standoff": 15
           },
           "zerolinecolor": "white",
           "zerolinewidth": 2
          },
          "yaxis": {
           "automargin": true,
           "gridcolor": "white",
           "linecolor": "white",
           "ticks": "",
           "title": {
            "standoff": 15
           },
           "zerolinecolor": "white",
           "zerolinewidth": 2
          }
         }
        },
        "width": 1440,
        "xaxis": {
         "anchor": "y",
         "domain": [
          0,
          0.184
         ],
         "linecolor": "gray",
         "linewidth": 1,
         "mirror": true,
         "showgrid": false,
         "showline": true,
         "ticks": "inside",
         "zerolinewidth": 0
        },
        "xaxis10": {
         "anchor": "y10",
         "domain": [
          0.816,
          1
         ],
         "linecolor": "gray",
         "linewidth": 1,
         "mirror": true,
         "showgrid": false,
         "showline": true,
         "ticks": "inside",
         "zerolinewidth": 0
        },
        "xaxis11": {
         "anchor": "y11",
         "domain": [
          0,
          0.184
         ],
         "linecolor": "gray",
         "linewidth": 1,
         "mirror": true,
         "showgrid": false,
         "showline": true,
         "ticks": "inside",
         "zerolinewidth": 0
        },
        "xaxis12": {
         "anchor": "y12",
         "domain": [
          0.204,
          0.388
         ],
         "linecolor": "gray",
         "linewidth": 1,
         "mirror": true,
         "showgrid": false,
         "showline": true,
         "ticks": "inside",
         "zerolinewidth": 0
        },
        "xaxis13": {
         "anchor": "y13",
         "domain": [
          0.408,
          0.592
         ],
         "linecolor": "gray",
         "linewidth": 1,
         "mirror": true,
         "showgrid": false,
         "showline": true,
         "ticks": "inside",
         "zerolinewidth": 0
        },
        "xaxis14": {
         "anchor": "y14",
         "domain": [
          0.6120000000000001,
          0.796
         ],
         "linecolor": "gray",
         "linewidth": 1,
         "mirror": true,
         "showgrid": false,
         "showline": true,
         "ticks": "inside",
         "zerolinewidth": 0
        },
        "xaxis15": {
         "anchor": "y15",
         "domain": [
          0.816,
          1
         ],
         "linecolor": "gray",
         "linewidth": 1,
         "mirror": true,
         "showgrid": false,
         "showline": true,
         "ticks": "inside",
         "zerolinewidth": 0
        },
        "xaxis16": {
         "anchor": "y16",
         "domain": [
          0,
          0.184
         ],
         "linecolor": "gray",
         "linewidth": 1,
         "mirror": true,
         "showgrid": false,
         "showline": true,
         "ticks": "inside",
         "zerolinewidth": 0
        },
        "xaxis17": {
         "anchor": "y17",
         "domain": [
          0.204,
          0.388
         ],
         "linecolor": "gray",
         "linewidth": 1,
         "mirror": true,
         "showgrid": false,
         "showline": true,
         "ticks": "inside",
         "zerolinewidth": 0
        },
        "xaxis18": {
         "anchor": "y18",
         "domain": [
          0.408,
          0.592
         ],
         "linecolor": "gray",
         "linewidth": 1,
         "mirror": true,
         "showgrid": false,
         "showline": true,
         "ticks": "inside",
         "zerolinewidth": 0
        },
        "xaxis19": {
         "anchor": "y19",
         "domain": [
          0.6120000000000001,
          0.796
         ],
         "linecolor": "gray",
         "linewidth": 1,
         "mirror": true,
         "showgrid": false,
         "showline": true,
         "ticks": "inside",
         "zerolinewidth": 0
        },
        "xaxis2": {
         "anchor": "y2",
         "domain": [
          0.204,
          0.388
         ],
         "linecolor": "gray",
         "linewidth": 1,
         "mirror": true,
         "showgrid": false,
         "showline": true,
         "ticks": "inside",
         "zerolinewidth": 0
        },
        "xaxis20": {
         "anchor": "y20",
         "domain": [
          0.816,
          1
         ],
         "linecolor": "gray",
         "linewidth": 1,
         "mirror": true,
         "showgrid": false,
         "showline": true,
         "ticks": "inside",
         "zerolinewidth": 0
        },
        "xaxis21": {
         "anchor": "y21",
         "domain": [
          0,
          0.184
         ],
         "linecolor": "gray",
         "linewidth": 1,
         "mirror": true,
         "showgrid": false,
         "showline": true,
         "ticks": "inside",
         "zerolinewidth": 0
        },
        "xaxis22": {
         "anchor": "y22",
         "domain": [
          0.204,
          0.388
         ],
         "linecolor": "gray",
         "linewidth": 1,
         "mirror": true,
         "showgrid": false,
         "showline": true,
         "ticks": "inside",
         "zerolinewidth": 0
        },
        "xaxis23": {
         "anchor": "y23",
         "domain": [
          0.408,
          0.592
         ],
         "linecolor": "gray",
         "linewidth": 1,
         "mirror": true,
         "showgrid": false,
         "showline": true,
         "ticks": "inside",
         "zerolinewidth": 0
        },
        "xaxis24": {
         "anchor": "y24",
         "domain": [
          0.6120000000000001,
          0.796
         ],
         "linecolor": "gray",
         "linewidth": 1,
         "mirror": true,
         "showgrid": false,
         "showline": true,
         "ticks": "inside",
         "zerolinewidth": 0
        },
        "xaxis25": {
         "anchor": "y25",
         "domain": [
          0.816,
          1
         ],
         "linecolor": "gray",
         "linewidth": 1,
         "mirror": true,
         "showgrid": false,
         "showline": true,
         "ticks": "inside",
         "zerolinewidth": 0
        },
        "xaxis26": {
         "anchor": "y26",
         "domain": [
          0,
          0.184
         ],
         "linecolor": "gray",
         "linewidth": 1,
         "mirror": true,
         "showgrid": false,
         "showline": true,
         "ticks": "inside",
         "title": {
          "text": "t [s]"
         },
         "zerolinewidth": 0
        },
        "xaxis27": {
         "anchor": "y27",
         "domain": [
          0.204,
          0.388
         ],
         "linecolor": "gray",
         "linewidth": 1,
         "mirror": true,
         "showgrid": false,
         "showline": true,
         "ticks": "inside",
         "title": {
          "text": "t [s]"
         },
         "zerolinewidth": 0
        },
        "xaxis28": {
         "anchor": "y28",
         "domain": [
          0.408,
          0.592
         ],
         "linecolor": "gray",
         "linewidth": 1,
         "mirror": true,
         "showgrid": false,
         "showline": true,
         "ticks": "inside",
         "title": {
          "text": "t [s]"
         },
         "zerolinewidth": 0
        },
        "xaxis29": {
         "anchor": "y29",
         "domain": [
          0.6120000000000001,
          0.796
         ],
         "linecolor": "gray",
         "linewidth": 1,
         "mirror": true,
         "showgrid": false,
         "showline": true,
         "ticks": "inside",
         "title": {
          "text": "t [s]"
         },
         "zerolinewidth": 0
        },
        "xaxis3": {
         "anchor": "y3",
         "domain": [
          0.408,
          0.592
         ],
         "linecolor": "gray",
         "linewidth": 1,
         "mirror": true,
         "showgrid": false,
         "showline": true,
         "ticks": "inside",
         "zerolinewidth": 0
        },
        "xaxis30": {
         "anchor": "y30",
         "domain": [
          0.816,
          1
         ],
         "linecolor": "gray",
         "linewidth": 1,
         "mirror": true,
         "showgrid": false,
         "showline": true,
         "ticks": "inside",
         "title": {
          "text": "t [s]"
         },
         "zerolinewidth": 0
        },
        "xaxis4": {
         "anchor": "y4",
         "domain": [
          0.6120000000000001,
          0.796
         ],
         "linecolor": "gray",
         "linewidth": 1,
         "mirror": true,
         "showgrid": false,
         "showline": true,
         "ticks": "inside",
         "zerolinewidth": 0
        },
        "xaxis5": {
         "anchor": "y5",
         "domain": [
          0.816,
          1
         ],
         "linecolor": "gray",
         "linewidth": 1,
         "mirror": true,
         "showgrid": false,
         "showline": true,
         "ticks": "inside",
         "zerolinewidth": 0
        },
        "xaxis6": {
         "anchor": "y6",
         "domain": [
          0,
          0.184
         ],
         "linecolor": "gray",
         "linewidth": 1,
         "mirror": true,
         "showgrid": false,
         "showline": true,
         "ticks": "inside",
         "zerolinewidth": 0
        },
        "xaxis7": {
         "anchor": "y7",
         "domain": [
          0.204,
          0.388
         ],
         "linecolor": "gray",
         "linewidth": 1,
         "mirror": true,
         "showgrid": false,
         "showline": true,
         "ticks": "inside",
         "zerolinewidth": 0
        },
        "xaxis8": {
         "anchor": "y8",
         "domain": [
          0.408,
          0.592
         ],
         "linecolor": "gray",
         "linewidth": 1,
         "mirror": true,
         "showgrid": false,
         "showline": true,
         "ticks": "inside",
         "zerolinewidth": 0
        },
        "xaxis9": {
         "anchor": "y9",
         "domain": [
          0.6120000000000001,
          0.796
         ],
         "linecolor": "gray",
         "linewidth": 1,
         "mirror": true,
         "showgrid": false,
         "showline": true,
         "ticks": "inside",
         "zerolinewidth": 0
        },
        "yaxis": {
         "anchor": "x",
         "domain": [
          0.8666666666666667,
          1
         ],
         "linecolor": "gray",
         "linewidth": 1,
         "mirror": true,
         "showgrid": false,
         "showline": true,
         "ticks": "inside",
         "title": {
          "text": "aₚ(t) [cm/s²]"
         },
         "zerolinewidth": 0
        },
        "yaxis10": {
         "anchor": "x10",
         "domain": [
          0.6933333333333334,
          0.8266666666666667
         ],
         "linecolor": "gray",
         "linewidth": 1,
         "mirror": true,
         "showgrid": false,
         "showline": true,
         "ticks": "inside",
         "zerolinewidth": 0
        },
        "yaxis11": {
         "anchor": "x11",
         "domain": [
          0.52,
          0.6533333333333333
         ],
         "linecolor": "gray",
         "linewidth": 1,
         "mirror": true,
         "showgrid": false,
         "showline": true,
         "ticks": "inside",
         "title": {
          "text": "aₚ(t) [cm/s²]"
         },
         "zerolinewidth": 0
        },
        "yaxis12": {
         "anchor": "x12",
         "domain": [
          0.52,
          0.6533333333333333
         ],
         "linecolor": "gray",
         "linewidth": 1,
         "mirror": true,
         "showgrid": false,
         "showline": true,
         "ticks": "inside",
         "zerolinewidth": 0
        },
        "yaxis13": {
         "anchor": "x13",
         "domain": [
          0.52,
          0.6533333333333333
         ],
         "linecolor": "gray",
         "linewidth": 1,
         "mirror": true,
         "showgrid": false,
         "showline": true,
         "ticks": "inside",
         "zerolinewidth": 0
        },
        "yaxis14": {
         "anchor": "x14",
         "domain": [
          0.52,
          0.6533333333333333
         ],
         "linecolor": "gray",
         "linewidth": 1,
         "mirror": true,
         "showgrid": false,
         "showline": true,
         "ticks": "inside",
         "zerolinewidth": 0
        },
        "yaxis15": {
         "anchor": "x15",
         "domain": [
          0.52,
          0.6533333333333333
         ],
         "linecolor": "gray",
         "linewidth": 1,
         "mirror": true,
         "showgrid": false,
         "showline": true,
         "ticks": "inside",
         "zerolinewidth": 0
        },
        "yaxis16": {
         "anchor": "x16",
         "domain": [
          0.3466666666666667,
          0.48
         ],
         "linecolor": "gray",
         "linewidth": 1,
         "mirror": true,
         "showgrid": false,
         "showline": true,
         "ticks": "inside",
         "title": {
          "text": "aₚ(t) [cm/s²]"
         },
         "zerolinewidth": 0
        },
        "yaxis17": {
         "anchor": "x17",
         "domain": [
          0.3466666666666667,
          0.48
         ],
         "linecolor": "gray",
         "linewidth": 1,
         "mirror": true,
         "showgrid": false,
         "showline": true,
         "ticks": "inside",
         "zerolinewidth": 0
        },
        "yaxis18": {
         "anchor": "x18",
         "domain": [
          0.3466666666666667,
          0.48
         ],
         "linecolor": "gray",
         "linewidth": 1,
         "mirror": true,
         "showgrid": false,
         "showline": true,
         "ticks": "inside",
         "zerolinewidth": 0
        },
        "yaxis19": {
         "anchor": "x19",
         "domain": [
          0.3466666666666667,
          0.48
         ],
         "linecolor": "gray",
         "linewidth": 1,
         "mirror": true,
         "showgrid": false,
         "showline": true,
         "ticks": "inside",
         "zerolinewidth": 0
        },
        "yaxis2": {
         "anchor": "x2",
         "domain": [
          0.8666666666666667,
          1
         ],
         "linecolor": "gray",
         "linewidth": 1,
         "mirror": true,
         "showgrid": false,
         "showline": true,
         "ticks": "inside",
         "zerolinewidth": 0
        },
        "yaxis20": {
         "anchor": "x20",
         "domain": [
          0.3466666666666667,
          0.48
         ],
         "linecolor": "gray",
         "linewidth": 1,
         "mirror": true,
         "showgrid": false,
         "showline": true,
         "ticks": "inside",
         "zerolinewidth": 0
        },
        "yaxis21": {
         "anchor": "x21",
         "domain": [
          0.17333333333333334,
          0.30666666666666664
         ],
         "linecolor": "gray",
         "linewidth": 1,
         "mirror": true,
         "showgrid": false,
         "showline": true,
         "ticks": "inside",
         "title": {
          "text": "aₚ(t) [cm/s²]"
         },
         "zerolinewidth": 0
        },
        "yaxis22": {
         "anchor": "x22",
         "domain": [
          0.17333333333333334,
          0.30666666666666664
         ],
         "linecolor": "gray",
         "linewidth": 1,
         "mirror": true,
         "showgrid": false,
         "showline": true,
         "ticks": "inside",
         "zerolinewidth": 0
        },
        "yaxis23": {
         "anchor": "x23",
         "domain": [
          0.17333333333333334,
          0.30666666666666664
         ],
         "linecolor": "gray",
         "linewidth": 1,
         "mirror": true,
         "showgrid": false,
         "showline": true,
         "ticks": "inside",
         "zerolinewidth": 0
        },
        "yaxis24": {
         "anchor": "x24",
         "domain": [
          0.17333333333333334,
          0.30666666666666664
         ],
         "linecolor": "gray",
         "linewidth": 1,
         "mirror": true,
         "showgrid": false,
         "showline": true,
         "ticks": "inside",
         "zerolinewidth": 0
        },
        "yaxis25": {
         "anchor": "x25",
         "domain": [
          0.17333333333333334,
          0.30666666666666664
         ],
         "linecolor": "gray",
         "linewidth": 1,
         "mirror": true,
         "showgrid": false,
         "showline": true,
         "ticks": "inside",
         "zerolinewidth": 0
        },
        "yaxis26": {
         "anchor": "x26",
         "domain": [
          0,
          0.13333333333333333
         ],
         "linecolor": "gray",
         "linewidth": 1,
         "mirror": true,
         "showgrid": false,
         "showline": true,
         "ticks": "inside",
         "title": {
          "text": "aₚ(t) [cm/s²]"
         },
         "zerolinewidth": 0
        },
        "yaxis27": {
         "anchor": "x27",
         "domain": [
          0,
          0.13333333333333333
         ],
         "linecolor": "gray",
         "linewidth": 1,
         "mirror": true,
         "showgrid": false,
         "showline": true,
         "ticks": "inside",
         "zerolinewidth": 0
        },
        "yaxis28": {
         "anchor": "x28",
         "domain": [
          0,
          0.13333333333333333
         ],
         "linecolor": "gray",
         "linewidth": 1,
         "mirror": true,
         "showgrid": false,
         "showline": true,
         "ticks": "inside",
         "zerolinewidth": 0
        },
        "yaxis29": {
         "anchor": "x29",
         "domain": [
          0,
          0.13333333333333333
         ],
         "linecolor": "gray",
         "linewidth": 1,
         "mirror": true,
         "showgrid": false,
         "showline": true,
         "ticks": "inside",
         "zerolinewidth": 0
        },
        "yaxis3": {
         "anchor": "x3",
         "domain": [
          0.8666666666666667,
          1
         ],
         "linecolor": "gray",
         "linewidth": 1,
         "mirror": true,
         "showgrid": false,
         "showline": true,
         "ticks": "inside",
         "zerolinewidth": 0
        },
        "yaxis30": {
         "anchor": "x30",
         "domain": [
          0,
          0.13333333333333333
         ],
         "linecolor": "gray",
         "linewidth": 1,
         "mirror": true,
         "showgrid": false,
         "showline": true,
         "ticks": "inside",
         "zerolinewidth": 0
        },
        "yaxis4": {
         "anchor": "x4",
         "domain": [
          0.8666666666666667,
          1
         ],
         "linecolor": "gray",
         "linewidth": 1,
         "mirror": true,
         "showgrid": false,
         "showline": true,
         "ticks": "inside",
         "zerolinewidth": 0
        },
        "yaxis5": {
         "anchor": "x5",
         "domain": [
          0.8666666666666667,
          1
         ],
         "linecolor": "gray",
         "linewidth": 1,
         "mirror": true,
         "showgrid": false,
         "showline": true,
         "ticks": "inside",
         "zerolinewidth": 0
        },
        "yaxis6": {
         "anchor": "x6",
         "domain": [
          0.6933333333333334,
          0.8266666666666667
         ],
         "linecolor": "gray",
         "linewidth": 1,
         "mirror": true,
         "showgrid": false,
         "showline": true,
         "ticks": "inside",
         "title": {
          "text": "aₚ(t) [cm/s²]"
         },
         "zerolinewidth": 0
        },
        "yaxis7": {
         "anchor": "x7",
         "domain": [
          0.6933333333333334,
          0.8266666666666667
         ],
         "linecolor": "gray",
         "linewidth": 1,
         "mirror": true,
         "showgrid": false,
         "showline": true,
         "ticks": "inside",
         "zerolinewidth": 0
        },
        "yaxis8": {
         "anchor": "x8",
         "domain": [
          0.6933333333333334,
          0.8266666666666667
         ],
         "linecolor": "gray",
         "linewidth": 1,
         "mirror": true,
         "showgrid": false,
         "showline": true,
         "ticks": "inside",
         "zerolinewidth": 0
        },
        "yaxis9": {
         "anchor": "x9",
         "domain": [
          0.6933333333333334,
          0.8266666666666667
         ],
         "linecolor": "gray",
         "linewidth": 1,
         "mirror": true,
         "showgrid": false,
         "showline": true,
         "ticks": "inside",
         "zerolinewidth": 0
        }
       }
      }
     },
     "metadata": {},
     "output_type": "display_data"
    }
   ],
   "source": [
    "import plotly.graph_objects as go\n",
    "from plotly.subplots import make_subplots\n",
    "\n",
    "# Create subplot figure with 2x2 grid\n",
    "nrows = 6\n",
    "ncols = 5\n",
    "num = nrows * ncols\n",
    "random_indices = random.sample(range(len(results)), num)\n",
    "subresults = [results[i] for i in random_indices]\n",
    "\n",
    "titles = [s.name for s in subresults]\n",
    "fig = make_subplots(rows=nrows, cols=ncols, vertical_spacing=0.04, horizontal_spacing=0.02, subplot_titles=titles)\n",
    "\n",
    "# Add traces for each randomly selected series\n",
    "ix = 0\n",
    "for rix, row in enumerate(range(nrows), 1):\n",
    "    for cix, col in enumerate(range(ncols), 1):\n",
    "        series = subresults[ix]\n",
    "        fig.add_trace(\n",
    "            go.Scatter(\n",
    "                x=series.index,\n",
    "                y=series.values,\n",
    "                name=series.name,\n",
    "                mode='lines',\n",
    "                line=dict(color='gray')\n",
    "            ),\n",
    "            row=rix,\n",
    "            col=cix\n",
    "        )\n",
    "        \n",
    "        fig.update_xaxes(\n",
    "            showgrid=False,\n",
    "            ticks='inside',\n",
    "            showline=True,\n",
    "            linewidth=1,\n",
    "            mirror=True,\n",
    "            linecolor='gray',\n",
    "            zerolinewidth=0.,\n",
    "            row=rix,\n",
    "            col=cix\n",
    "        )\n",
    "\n",
    "        fig.update_yaxes(\n",
    "            showgrid=False,\n",
    "            ticks='inside',\n",
    "            showline=True,\n",
    "            linewidth=1,\n",
    "            mirror=True,\n",
    "            linecolor='gray',\n",
    "            zerolinewidth=0.,\n",
    "            row=rix,\n",
    "            col=cix\n",
    "        )\n",
    "\n",
    "        fig.update_layout(plot_bgcolor='rgba(0,0,0,0)')\n",
    "        if rix == nrows:\n",
    "            fig.update_xaxes(title_text='t [s]', row=rix, col=cix)\n",
    "            fig.update_annotations(font=dict(size=12), row=rix, col=cix)\n",
    "        if cix == 1:\n",
    "            fig.update_yaxes(title_text='aₚ(t) [cm/s²]', row=rix, col=cix)\n",
    "\n",
    "        ix += 1\n",
    "\n",
    "pxs = 1440\n",
    "fig.update_layout(\n",
    "    width=pxs,\n",
    "    height=nrows/ncols*pxs,\n",
    "    showlegend=False\n",
    ")\n",
    "fig.write_image(FIGURES_DIR / 'pulse-params-2.pdf', engine='kaleido')\n",
    "fig.show()\n"
   ]
  },
  {
   "cell_type": "code",
   "execution_count": null,
   "metadata": {},
   "outputs": [],
   "source": []
  },
  {
   "cell_type": "code",
   "execution_count": null,
   "metadata": {},
   "outputs": [],
   "source": []
  },
  {
   "cell_type": "code",
   "execution_count": null,
   "metadata": {},
   "outputs": [],
   "source": []
  }
 ],
 "metadata": {
  "kernelspec": {
   "display_name": ".venv",
   "language": "python",
   "name": "python3"
  },
  "language_info": {
   "codemirror_mode": {
    "name": "ipython",
    "version": 3
   },
   "file_extension": ".py",
   "mimetype": "text/x-python",
   "name": "python",
   "nbconvert_exporter": "python",
   "pygments_lexer": "ipython3",
   "version": "3.13.3"
  }
 },
 "nbformat": 4,
 "nbformat_minor": 2
}
